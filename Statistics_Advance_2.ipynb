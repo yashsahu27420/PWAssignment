{
  "nbformat": 4,
  "nbformat_minor": 0,
  "metadata": {
    "colab": {
      "provenance": [],
      "authorship_tag": "ABX9TyMaNuI0wpLgRZ0d0zcaEIn0"
    },
    "kernelspec": {
      "name": "python3",
      "display_name": "Python 3"
    },
    "language_info": {
      "name": "python"
    }
  },
  "cells": [
    {
      "cell_type": "code",
      "execution_count": null,
      "metadata": {
        "id": "9oQUdM4jAA7V"
      },
      "outputs": [],
      "source": []
    },
    {
      "cell_type": "markdown",
      "source": [
        "\n",
        "Q1: Probability Mass Function (PMF) describes the probability of discrete outcomes in a probability distribution, like a coin toss. Probability Density Function (PDF) is for continuous outcomes, like heights. Both quantify likelihoods in a distribution.\n",
        "\n",
        "Q2: Cumulative Density Function (CDF) gives the probability that a random variable takes a value less than or equal to a specific point. It's used to understand the distribution's cumulative behavior. For instance, in a dice roll, CDF(3) = P(X ≤ 3).\n",
        "\n",
        "Q3: The normal distribution is used in scenarios like IQ scores, where data clusters around a mean. Parameters (mean and standard deviation) determine the distribution's shape; a higher standard deviation leads to wider, more dispersed curves.\n",
        "\n",
        "Q4: The normal distribution is crucial in statistics for hypothesis testing and estimating probabilities. Real-life examples include height and weight distributions, exam scores, and errors in measurements.\n",
        "\n",
        "Q5: Bernoulli Distribution models binary outcomes (success/failure). Example: coin flip (success: heads, failure: tails). Bernoulli is a single trial, while Binomial Distribution describes the number of successes in multiple independent trials.\n",
        "\n",
        "Q6: Using the z-score formula (z = (X - μ) / σ), where X is the value, μ is the mean, and σ is the standard deviation, the probability of a randomly selected observation > 60 is found using z = (60 - 50) / 10 = 1. The area beyond z = 1 is approximately 0.1587.\n",
        "\n",
        "Q7: Uniform Distribution has constant probability across its range. An example is a fair six-sided die; each outcome (1 to 6) has equal probability (1/6). All values in the distribution are equally likely.\n",
        "\n",
        "Q8: The z score measures how many standard deviations a data point is from the mean in a standard normal distribution. It's important for comparing and standardizing values across different normal distributions.\n",
        "\n",
        "Q9: The Central Limit Theorem states that, regardless of the original population's distribution, the sampling distribution of the sample mean approaches a normal distribution as the sample size increases. It's significant in inferential statistics, providing the basis for hypothesis testing and confidence intervals.\n",
        "\n",
        "Q10: Assumptions of the Central Limit Theorem include random sampling, independence of observations, and a sufficiently large sample size. These conditions ensure that the sample mean's distribution approximates normality, facilitating statistical inferences."
      ],
      "metadata": {
        "id": "Ng2xiOshABr_"
      }
    },
    {
      "cell_type": "code",
      "source": [],
      "metadata": {
        "id": "_LxUEjvMAGll"
      },
      "execution_count": null,
      "outputs": []
    }
  ]
}