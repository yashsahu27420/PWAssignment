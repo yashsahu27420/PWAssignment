{
  "nbformat": 4,
  "nbformat_minor": 0,
  "metadata": {
    "colab": {
      "provenance": [],
      "authorship_tag": "ABX9TyMsrJC4cxx/9ezWzj43IWx1"
    },
    "kernelspec": {
      "name": "python3",
      "display_name": "Python 3"
    },
    "language_info": {
      "name": "python"
    }
  },
  "cells": [
    {
      "cell_type": "code",
      "source": [
        "import numpy as np\n",
        "import scipy.stats as stats\n",
        "import matplotlib.pyplot as plt\n"
      ],
      "metadata": {
        "id": "p36-kewj9TEf"
      },
      "execution_count": 7,
      "outputs": []
    },
    {
      "cell_type": "code",
      "execution_count": 2,
      "metadata": {
        "id": "BD6VJd2l7EWk"
      },
      "outputs": [],
      "source": [
        "\n",
        "#Q1. What is the Probability density function?\n",
        "#Q2. What are the types of Probability distribution?\n",
        "#Q3. Write a Python function to calculate the probability density function of a normal distribution with given mean and standard deviation at a given point.\n",
        "#Q4. What are the properties of Binomial distribution? Give two examples of events where binomial distribution can be applied.\n",
        "#Q5. Generate a random sample of size 1000 from a binomial distribution with probability of success 0.4 and plot a histogram of the results using matplotlib.\n",
        "#Q6. Write a Python function to calculate the cumulative distribution function of a Poisson distribution with given mean at a given point.\n",
        "#Q7. How Binomial distribution different from Poisson distribution?\n",
        "#Q8. Generate a random sample of size 1000 from a Poisson distribution with mean 5 and calculate the sample mean and variance.\n",
        "#Q9. How mean and variance are related in Binomial distribution and Poisson distribution?\n",
        "#Q10. In normal distribution with respect to mean position, where does the least frequent data appear?\n"
      ]
    },
    {
      "cell_type": "markdown",
      "source": [
        "Answer 1:The PDF is a statistical function that describes the likelihood of obtaining a particular value from a continuous random variable. It represents the relative likelihood of different outcomes in a continuous probability distribution.\n"
      ],
      "metadata": {
        "id": "R3LQ4Vxd7-Na"
      }
    },
    {
      "cell_type": "markdown",
      "source": [
        "\n",
        "Answer 2:\n",
        "Common types include:\n",
        "\n",
        "\n",
        "* Normal Distribution\n",
        "\n",
        "* Binomial Distribution\n",
        "\n",
        "* Poisson Distribution\n",
        "\n",
        "* Exponential Distribution\n",
        "\n",
        "* Uniform Distribution\n",
        "\n",
        "\n",
        "\n"
      ],
      "metadata": {
        "id": "tlKnTEFT8UW5"
      }
    },
    {
      "cell_type": "code",
      "source": [
        "#Answer 3:\n",
        "def normal_pdf(x, mean, std_dev):\n",
        "    return stats.norm.pdf(x, mean, std_dev)\n"
      ],
      "metadata": {
        "id": "mfSGI4ci7Up3"
      },
      "execution_count": 6,
      "outputs": []
    },
    {
      "cell_type": "markdown",
      "source": [
        "Answer 4:\n",
        "Properties of Binomial Distribution:\n",
        "\n",
        "* Fixed number of trials (n)\n",
        "* Each trial is independent\n",
        "* Two possible outcomes (success/failure)\n",
        "* Constant probability of success (p)"
      ],
      "metadata": {
        "id": "4yPjSdFc-Iez"
      }
    },
    {
      "cell_type": "code",
      "source": [
        "#Answer 5:\n",
        "data = np.random.binomial(n=1, p=0.4, size=1000)\n",
        "plt.hist(data, bins=np.arange(-0.5, 2.5, 1), density=True)\n",
        "plt.show()\n"
      ],
      "metadata": {
        "colab": {
          "base_uri": "https://localhost:8080/",
          "height": 430
        },
        "id": "8vWRRj9q8KHd",
        "outputId": "64a3b1a2-6164-4e2d-f3e8-ad9bb71b6115"
      },
      "execution_count": 8,
      "outputs": [
        {
          "output_type": "display_data",
          "data": {
            "text/plain": [
              "<Figure size 640x480 with 1 Axes>"
            ],
            "image/png": "[encoded data removed]"
          },
          "metadata": {}
        }
      ]
    },
    {
      "cell_type": "code",
      "source": [
        "#Answer 6:\n",
        "def poisson_cdf(x, mean):\n",
        "    return stats.poisson.cdf(x, mean)\n"
      ],
      "metadata": {
        "id": "pfTowg0n-dKF"
      },
      "execution_count": 9,
      "outputs": []
    },
    {
      "cell_type": "markdown",
      "source": [
        "Answer 7:\n",
        "Binomial is for discrete events with a fixed number of trials, while Poisson is for rare events in a continuous time or space, where the number of occurrences is relatively small."
      ],
      "metadata": {
        "id": "Y2JkCRcL-teT"
      }
    },
    {
      "cell_type": "code",
      "source": [
        "#Answer 8:\n",
        "poisson_data = np.random.poisson(lam=5, size=1000)\n",
        "sample_mean = np.mean(poisson_data)\n",
        "sample_variance = np.var(poisson_data)\n"
      ],
      "metadata": {
        "id": "zMfVEyqG-pLw"
      },
      "execution_count": 10,
      "outputs": []
    },
    {
      "cell_type": "markdown",
      "source": [
        "Answer 9: Mean and Variance Relationship:\n",
        "In a Binomial distribution, mean (μ) equals np, and variance (σ²) equals np(1-p). In a Poisson distribution, both mean (μ) and variance (σ²) are equal and given by λ (lambda)."
      ],
      "metadata": {
        "id": "Fd8htZMo--hL"
      }
    },
    {
      "cell_type": "markdown",
      "source": [
        "Answer 10:\n",
        "Normal Distribution and Least Frequent Data:\n",
        "\n",
        "In a normal distribution, the least frequent data appears in the tails, farther away from the mean. Outliers and extreme values are less likely to occur, representing the rare events in the distribution."
      ],
      "metadata": {
        "id": "SgHzWcq4--pi"
      }
    },
    {
      "cell_type": "code",
      "source": [],
      "metadata": {
        "id": "31pJFewB-qLX"
      },
      "execution_count": null,
      "outputs": []
    },
    {
      "cell_type": "code",
      "source": [],
      "metadata": {
        "id": "Z3asVWuP-qOj"
      },
      "execution_count": null,
      "outputs": []
    },
    {
      "cell_type": "code",
      "source": [],
      "metadata": {
        "id": "mnf9jeMD-qRt"
      },
      "execution_count": null,
      "outputs": []
    }
  ]
}