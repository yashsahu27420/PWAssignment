{
  "nbformat": 4,
  "nbformat_minor": 0,
  "metadata": {
    "colab": {
      "provenance": []
    },
    "kernelspec": {
      "name": "python3",
      "display_name": "Python 3"
    },
    "language_info": {
      "name": "python"
    }
  },
  "cells": [
    {
      "cell_type": "markdown",
      "source": [
        "Q1. What is an API? Give an example, where an API is used in real life.\n",
        "\n",
        "Q2. Give advantages and disadvantages of using API.\n",
        "\n",
        "Q3. What is a Web API? Differentiate between API and Web API.\n",
        "\n",
        "Q4. Explain REST and SOAP Architecture. Mention shortcomings of SOAP.\n",
        "\n",
        "Q5. Differentiate between REST and SOAP.\n"
      ],
      "metadata": {
        "id": "tTM9JlzSwKqL"
      }
    },
    {
      "cell_type": "markdown",
      "source": [
        "\n",
        "ANS.1. API is a set of rules allowing different software to communicate. Example: Using Google Maps API to integrate map functionality into a mobile app.\n",
        "\n",
        "ANS.2. Advantages of API: promotes integration, reusability; Disadvantages: security concerns, changes can break dependent systems.\n",
        "\n",
        "ANS.3. Web API is an API accessible over the internet. API is a broader concept, while Web API specifically involves web-based communication.\n",
        "\n",
        "ANS.4. REST is an architectural style using HTTP for communication. SOAP is a protocol for exchanging structured information. SOAP is complex and has high overhead.\n",
        "\n",
        "ANS.5. REST is lightweight, uses HTTP verbs; SOAP is protocol-heavy. REST is more suitable for web services, while SOAP is for enterprise-level integrations."
      ],
      "metadata": {
        "id": "Dev7Q_eNv9N7"
      }
    }
  ]
}