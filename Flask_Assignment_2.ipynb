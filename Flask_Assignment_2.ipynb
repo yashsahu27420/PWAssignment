{
  "nbformat": 4,
  "nbformat_minor": 0,
  "metadata": {
    "colab": {
      "provenance": []
    },
    "kernelspec": {
      "name": "python3",
      "display_name": "Python 3"
    },
    "language_info": {
      "name": "python"
    }
  },
  "cells": [
    {
      "cell_type": "code",
      "execution_count": 1,
      "metadata": {
        "colab": {
          "base_uri": "https://localhost:8080/",
          "height": 105
        },
        "id": "j69A0ikByGdj",
        "outputId": "1bb69843-7348-4bea-d59f-e94938cbf400"
      },
      "outputs": [
        {
          "output_type": "execute_result",
          "data": {
            "text/plain": [
              "' A1. GET is like asking for info from a website. POST is sending new info to a site. You use GET to read, like reading a blog. POST is for adding, like posting a comment.\\n\\nA2. \"request\" in Flask helps get data from users\\' requests. It\\'s like grabbing stuff they send, like what they type in forms, so you can use it in your code.\\n\\nA3. \"redirect()\" in Flask sends users to a new URL. It\\'s like when a link takes you to a different page. You use it to move users to another part of your site.\\n\\nA4. Templates in Flask are like fill-in-the-blank pages. They help make pages look nice by filling in data from code. \"render_template()\" is used to show those pages with the filled info.'"
            ],
            "application/vnd.google.colaboratory.intrinsic+json": {
              "type": "string"
            }
          },
          "metadata": {},
          "execution_count": 1
        }
      ],
      "source": [
        "\n",
        "\"\"\"\n",
        "Q1. Explain GET and POST methods.\n",
        "Q2. Why is request used in Flask?\n",
        "Q3. Why is redirect() used in Flask?\n",
        "Q4. What are templates in Flask? Why is the render_template() function used?\n",
        "Q5. Create a simple API. Use Postman to test it. Attach the screenshot of the output in the Jupyter Notebook.\"\"\"\n",
        "\n",
        "\"\"\" A1. GET is like asking for info from a website. POST is sending new info to a site. You use GET to read, like reading a blog. POST is for adding, like posting a comment.\n",
        "\n",
        "A2. \"request\" in Flask helps get data from users' requests. It's like grabbing stuff they send, like what they type in forms, so you can use it in your code.\n",
        "\n",
        "A3. \"redirect()\" in Flask sends users to a new URL. It's like when a link takes you to a different page. You use it to move users to another part of your site.\n",
        "\n",
        "A4. Templates in Flask are like fill-in-the-blank pages. They help make pages look nice by filling in data from code. \"render_template()\" is used to show those pages with the filled info.\"\"\"\n",
        "\n"
      ]
    },
    {
      "cell_type": "code",
      "source": [
        "from flask import Flask\n",
        "from flask import request\n",
        "from flask import   render_template\n",
        "#A5. Create a simple API. Use Postman to test it.\n",
        "\n",
        "app = Flask(__name__)\n",
        "@app.route ('/', methods = ['GET','POST'])\n",
        "def home():\n",
        "    return render_template ('index.html')\n",
        "\n",
        "\n",
        "@app.route('/as', methods = ['POST'])\n",
        "def math():\n",
        "    if (request.method =='POST'):\n",
        "        ops= request.form['operation']\n",
        "        num1 =int(request.form['num1'])\n",
        "        num2 =int(request.form['num2'])\n",
        "        if (ops=='add'):\n",
        "            r = num1-num2\n",
        "            result = 'Answer = ' + str (r)\n",
        "            return render_template ('results.html', result = result)\n",
        "        if (ops=='subtract'):\n",
        "            r = num1*num2\n",
        "            result = 'Answer = ' + str (r)\n",
        "        return render_template ('results.html', result = result)\n",
        "        if (ops=='multiply'):\n",
        "            r = num1+num2\n",
        "            result = 'Answer = ' + str (r)\n",
        "        return render_template ('results.html', result = result)\n",
        "        if (ops=='divide'):\n",
        "            r = num1+num2\n",
        "            result = 'Answer = ' + str (r)\n",
        "        return render_template ('results.html', result = result)\n",
        "\n",
        "\n",
        "if __name__==\"__main__\":\n",
        "    app.run(host=\"0.0.0.0\")\n",
        "\n"
      ],
      "metadata": {
        "colab": {
          "base_uri": "https://localhost:8080/"
        },
        "id": "q-Sy9istyLpL",
        "outputId": "d2ab40a3-dfe1-48bd-a088-f00e866292a6"
      },
      "execution_count": 2,
      "outputs": [
        {
          "output_type": "stream",
          "name": "stdout",
          "text": [
            " * Serving Flask app '__main__'\n",
            " * Debug mode: off\n"
          ]
        },
        {
          "output_type": "stream",
          "name": "stderr",
          "text": [
            "INFO:werkzeug:\u001b[31m\u001b[1mWARNING: This is a development server. Do not use it in a production deployment. Use a production WSGI server instead.\u001b[0m\n",
            " * Running on all addresses (0.0.0.0)\n",
            " * Running on http://127.0.0.1:5000\n",
            " * Running on http://172.28.0.12:5000\n",
            "INFO:werkzeug:\u001b[33mPress CTRL+C to quit\u001b[0m\n"
          ]
        }
      ]
    },
    {
      "cell_type": "code",
      "source": [],
      "metadata": {
        "id": "NQjtBDj4yMs_"
      },
      "execution_count": null,
      "outputs": []
    }
  ]
}