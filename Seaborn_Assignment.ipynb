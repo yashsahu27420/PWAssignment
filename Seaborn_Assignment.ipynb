{
  "nbformat": 4,
  "nbformat_minor": 0,
  "metadata": {
    "colab": {
      "provenance": [],
      "authorship_tag": "ABX9TyPvz5nq1RS5XCs8tTJx6gRI",
      "include_colab_link": true
    },
    "kernelspec": {
      "name": "python3",
      "display_name": "Python 3"
    },
    "language_info": {
      "name": "python"
    }
  },
  "cells": [
    {
      "cell_type": "markdown",
      "metadata": {
        "id": "view-in-github",
        "colab_type": "text"
      },
      "source": [
        "<a href=\"https://colab.research.google.com/github/yashsahu27420/PWAssignment/blob/main/Seaborn_Assignment.ipynb\" target=\"_parent\"><img src=\"https://colab.research.google.com/assets/colab-badge.svg\" alt=\"Open In Colab\"/></a>"
      ]
    },
    {
      "cell_type": "code",
      "execution_count": null,
      "metadata": {
        "id": "If74nHAvg498"
      },
      "outputs": [],
      "source": [
        "#A1: Seaborn is cool for making different plots. You can use it for Scatter plots (to see how two things relate), Line plots (for showing trends), Bar plots (great for comparing stuff), Histograms (to see data distribution), and Box plots (for spotting outliers).\n"
      ]
    },
    {
      "cell_type": "code",
      "source": [
        "#A2: I loaded the \"fmri\" data with Seaborn and made a line plot. It's like drawing a line to show how \"signal\" changes over \"timepoint\" for different \"events\" and \"regions.\" It helps understand brain activity patterns.\n"
      ],
      "metadata": {
        "id": "6n-7XTdwhUmI"
      },
      "execution_count": null,
      "outputs": []
    },
    {
      "cell_type": "code",
      "source": [
        "#A3: I loaded the \"titanic\" data with Seaborn and did two box plots. One shows how \"age\" varies for each \"pclass\" (passenger class), and the other shows \"fare\" differences among \"pclass.\" It's cool to see if rich folks paid more and their ages.\n"
      ],
      "metadata": {
        "id": "nXakYb4BhUsV"
      },
      "execution_count": null,
      "outputs": []
    },
    {
      "cell_type": "code",
      "source": [
        "#A4: I used Seaborn's \"diamonds\" data to make a histogram for \"price.\" I also used \"cut\" with the hue parameter, so I could see how the price varies for different diamond cuts.\n"
      ],
      "metadata": {
        "id": "at0NlL9rhUvn"
      },
      "execution_count": null,
      "outputs": []
    },
    {
      "cell_type": "code",
      "source": [
        "#A5: I plotted a pair plot using Seaborn with the \"iris\" data. I used the \"species\" column as the hue. It's like seeing how different flower species compare in terms of their features like petal and sepal size.\n"
      ],
      "metadata": {
        "id": "a8YkXLtYhUyV"
      },
      "execution_count": null,
      "outputs": []
    },
    {
      "cell_type": "code",
      "source": [
        "#A6: I used Seaborn's \"flights\" data to make a heatmap. It's like a colorful grid showing how flight passenger numbers changed over time. Hotter colors mean more passengers, and cooler colors mean fewer. Great for spotting busy travel months."
      ],
      "metadata": {
        "id": "6YuWektqhU1d"
      },
      "execution_count": null,
      "outputs": []
    },
    {
      "cell_type": "code",
      "source": [],
      "metadata": {
        "id": "Zyo7yQzKhU4Q"
      },
      "execution_count": null,
      "outputs": []
    }
  ]
}