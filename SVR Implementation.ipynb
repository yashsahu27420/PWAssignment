{
 "cells": [
  {
   "cell_type": "markdown",
   "metadata": {
    "id": "Axw2b2T_qIqr"
   },
   "source": [
    "## Support Vector Regressor Implementation"
   ]
  },
  {
   "cell_type": "code",
   "execution_count": 1,
   "metadata": {
    "executionInfo": {
     "elapsed": 5,
     "status": "ok",
     "timestamp": 1693385869774,
     "user": {
      "displayName": "Vipil Khapre",
      "userId": "11657927420291305997"
     },
     "user_tz": -330
    },
    "id": "OtNC7x5AqIqt"
   },
   "outputs": [],
   "source": [
    "import pandas as pd\n",
    "import numpy as np\n",
    "import seaborn as sns\n",
    "import matplotlib.pyplot as plt\n",
    "import seaborn as sns"
   ]
  },
  {
   "cell_type": "code",
   "execution_count": 2,
   "metadata": {
    "executionInfo": {
     "elapsed": 1841,
     "status": "ok",
     "timestamp": 1693385873397,
     "user": {
      "displayName": "Vipil Khapre",
      "userId": "11657927420291305997"
     },
     "user_tz": -330
    },
    "id": "OHmYNrngqIqw"
   },
   "outputs": [],
   "source": [
    "## Lets create synthetic data points\n",
    "from sklearn.datasets import make_regression"
   ]
  },
  {
   "cell_type": "code",
   "execution_count": 3,
   "metadata": {
    "executionInfo": {
     "elapsed": 11,
     "status": "ok",
     "timestamp": 1693385873398,
     "user": {
      "displayName": "Vipil Khapre",
      "userId": "11657927420291305997"
     },
     "user_tz": -330
    },
    "id": "zl7NMDd8qIqx"
   },
   "outputs": [],
   "source": [
    "X,y=make_regression(n_samples=1000,n_features=2,n_targets=1,noise=3.0)"
   ]
  },
  {
   "cell_type": "code",
   "execution_count": 4,
   "metadata": {
    "colab": {
     "base_uri": "https://localhost:8080/"
    },
    "executionInfo": {
     "elapsed": 8,
     "status": "ok",
     "timestamp": 1693385878650,
     "user": {
      "displayName": "Vipil Khapre",
      "userId": "11657927420291305997"
     },
     "user_tz": -330
    },
    "id": "_76mOhJZqIqx",
    "outputId": "7a9be647-fb83-4cdc-b611-330be4db0b85"
   },
   "outputs": [
    {
     "data": {
      "text/plain": [
       "array([[ 0.82338912,  0.00859706],\n",
       "       [-0.0587521 , -1.73095319],\n",
       "       [ 2.48667672, -0.10074161],\n",
       "       ...,\n",
       "       [ 0.35358196,  0.80799915],\n",
       "       [ 0.26172945, -0.46882932],\n",
       "       [ 0.04865107, -0.9121573 ]])"
      ]
     },
     "execution_count": 4,
     "metadata": {},
     "output_type": "execute_result"
    }
   ],
   "source": [
    "X"
   ]
  },
  {
   "cell_type": "code",
   "execution_count": 5,
   "metadata": {
    "colab": {
     "base_uri": "https://localhost:8080/"
    },
    "executionInfo": {
     "elapsed": 9,
     "status": "ok",
     "timestamp": 1693385881569,
     "user": {
      "displayName": "Vipil Khapre",
      "userId": "11657927420291305997"
     },
     "user_tz": -330
    },
    "id": "JhvzUeMFqIqz",
    "outputId": "eb84e249-aede-46a0-d9de-411749004e2b"
   },
   "outputs": [
    {
     "data": {
      "text/plain": [
       "array([ 3.20487308e+01, -1.60422096e+02,  8.67034565e+01, -6.44191865e+01,\n",
       "       -6.96933057e+01, -1.22117517e+02,  1.65653975e+01, -4.17556968e+00,\n",
       "       -1.33022980e+02,  2.07844215e+02,  7.43873119e+01, -2.50632159e+02,\n",
       "        3.90137714e+01, -1.86186350e+02, -1.32736617e+02,  1.14350683e+02,\n",
       "        9.53588363e+01, -1.00776419e+02,  5.58257765e+01,  1.05708434e+02,\n",
       "       -4.12279235e+01, -9.12331296e+01,  7.72096184e+00,  5.50099867e+01,\n",
       "       -1.01134627e+02, -1.23985278e+02,  2.56349530e+02,  3.44002229e+00,\n",
       "       -1.64435394e+02, -2.29136524e+02, -3.84361995e+02, -8.94382674e+01,\n",
       "        7.69857104e+01, -1.46632050e+02, -9.09134620e+01,  1.35649764e+01,\n",
       "       -2.73410813e+01,  2.44780719e+02,  2.15843404e+01,  4.99104713e+01,\n",
       "       -2.69205369e+01,  8.47893056e+01,  7.08729930e+01,  6.19680019e+01,\n",
       "       -9.30717681e+01,  1.41664578e+01, -7.30629332e+01, -1.31577024e+01,\n",
       "        1.20901346e+02,  1.12582532e+02, -2.41254507e+02,  1.07384726e+02,\n",
       "       -1.70655404e+02, -1.61185314e+02, -9.13555683e+00, -2.18270327e+01,\n",
       "       -3.40826586e+01, -1.02352480e+02, -9.13867540e+00, -4.51892771e+01,\n",
       "        1.06564844e+01,  5.15216929e+01, -1.55945775e+02,  1.19336387e+01,\n",
       "        4.54574875e+01,  6.00399899e+01, -2.00644873e+02,  1.29682874e+02,\n",
       "        9.21356546e+01, -1.00041449e+02, -8.54927468e+01,  9.73657204e+01,\n",
       "        1.42413653e+02, -1.12224238e+02,  1.40939486e+01, -2.83876304e+02,\n",
       "       -3.90349523e+01, -1.73135100e+01, -2.87584800e+01,  3.00539049e+01,\n",
       "       -1.04407346e+02, -3.78288914e+01,  2.32653258e+01,  8.92403345e+01,\n",
       "        7.85263938e+01,  5.63684922e+01,  1.74550843e+02, -3.60407205e+01,\n",
       "       -3.89777651e+01, -9.29949282e+00, -7.87303132e+01,  4.12114821e+01,\n",
       "        5.40052707e+01,  1.46786278e+01, -6.55538758e+01, -9.93680972e+01,\n",
       "        1.96882281e+01, -3.21031125e+01,  7.73504362e+01, -8.87359747e+01,\n",
       "        9.03039770e+01, -1.56603742e+02, -1.86588428e+00,  1.74701206e+02,\n",
       "       -8.95975603e+01, -3.84997367e+01, -5.11117451e+01,  2.13911252e+02,\n",
       "        5.24900027e+01,  2.93272066e+01, -1.98002515e+01, -1.45093157e+02,\n",
       "        9.62212841e+01,  6.27315234e+00, -5.59341806e+01, -6.91868810e+00,\n",
       "       -1.53439199e+02, -1.00276605e+02,  9.46415239e+01, -2.34951985e+02,\n",
       "        1.44233386e+02, -4.16131817e+01, -1.78226663e+02,  6.52626308e+01,\n",
       "        1.02246958e+02,  7.24312263e+01,  1.15298025e+02, -1.39360693e+02,\n",
       "        1.12357140e+02,  2.50307521e+02,  5.41037482e+01, -3.70486071e+01,\n",
       "       -1.65787902e+02, -6.53359063e+01,  7.62177228e+00,  7.44096107e+01,\n",
       "        1.03706184e+02, -1.79967381e+02, -5.24418856e+01, -1.40083561e+02,\n",
       "        8.47672981e+01, -1.23732283e+02,  8.61426068e+01,  1.65090232e+01,\n",
       "        1.99129586e+01, -1.68092818e+02,  6.05856279e+01, -5.10528105e+01,\n",
       "        1.03698343e+02, -1.32852789e+02,  1.26811719e+01,  1.57590014e+02,\n",
       "        6.14966351e+01, -3.47418642e+01,  2.91469236e+01, -2.00528857e+02,\n",
       "       -1.80947804e+01,  1.21404666e+02, -1.03046561e+02,  4.14828290e+01,\n",
       "       -1.13389117e+02, -6.41931867e+01,  1.94991264e+02, -1.62148138e+01,\n",
       "        2.05330875e+02,  2.51703761e+01, -1.38195422e+02, -7.81585650e+01,\n",
       "        4.89189640e+01, -3.72918009e+01, -2.01313903e+02, -3.32774730e+01,\n",
       "       -1.84562738e+02, -4.98319536e+01,  8.29214550e+01, -1.27341750e+02,\n",
       "       -1.28000017e+02,  1.01452587e+02, -1.73887590e+01,  4.68079937e+01,\n",
       "        1.91673949e+02, -1.91952716e+01, -2.93623262e+01, -4.55089455e+01,\n",
       "       -1.10827505e+02, -9.27427143e+01, -3.74607246e+01,  2.70428306e+01,\n",
       "       -5.09468828e+01, -6.85381955e+01,  8.79251308e+00, -1.12340132e+02,\n",
       "        8.01218000e+01,  1.98475705e+02, -1.39875734e+01,  7.40103316e+01,\n",
       "       -3.33949945e+01,  1.02448148e+02, -2.28328667e+00,  3.30669181e+01,\n",
       "        9.52439162e+01, -3.03656147e+02, -7.80478658e+01, -1.04858259e+02,\n",
       "       -2.04855049e+00,  1.25853018e+01,  1.65347541e+02,  7.91784956e+00,\n",
       "       -8.10231008e+01,  8.86509607e+01,  9.66207758e+01,  1.69544222e+02,\n",
       "       -2.19605050e-01, -8.62965791e+01, -9.44087886e+01,  5.77050541e+01,\n",
       "       -7.15156765e+01,  1.10201521e+02, -1.36784853e+02, -4.71329299e+01,\n",
       "       -5.54854197e+01, -6.87248865e+01, -1.07376290e+02, -7.23682846e+01,\n",
       "        4.96874008e+00, -1.61013019e+01, -1.19380984e+02,  3.47434773e+01,\n",
       "        6.49056756e+01, -2.04499427e+02,  7.18644827e+01,  6.23681229e+01,\n",
       "       -1.54722043e+02, -2.56191673e+01,  1.50838762e+02,  1.11676493e+02,\n",
       "       -1.53721468e+02,  1.87686189e+01,  5.24722090e+01, -2.94339997e+01,\n",
       "       -3.81447678e+01, -1.65503387e+01, -2.06266036e+01,  2.44089746e+02,\n",
       "        3.73230367e+01, -1.80517974e+02, -5.64955910e+01,  6.19225207e+01,\n",
       "        4.30684079e+01, -1.73910517e+02, -5.17598030e+01, -1.51425002e+02,\n",
       "        9.47883129e+01, -1.22347415e+02, -5.15845596e+01, -1.53174620e+02,\n",
       "        4.37101420e+01,  1.93862042e+02,  9.27845557e+01,  1.52634139e+01,\n",
       "       -1.16263301e+02,  4.38103186e+01,  7.92288022e+01,  1.07956653e+01,\n",
       "        6.37550194e+01,  4.36745450e+01, -5.07149867e+00,  9.32262621e+01,\n",
       "       -1.30852962e+02, -6.42698080e+00, -2.24627472e+02, -2.56418680e+01,\n",
       "        3.71800252e+00, -8.61552953e+01, -4.36774373e+01,  5.51121970e+01,\n",
       "        2.11662554e+01, -7.61238316e+01,  4.14995135e+01, -1.16654911e+02,\n",
       "        8.44538680e+01,  7.41728729e+00,  5.43004414e+01, -1.03868520e+02,\n",
       "       -1.75218915e+02, -8.11065585e+01, -7.66837111e+00,  7.56749956e+01,\n",
       "        4.82902091e+01, -4.42333747e+01, -2.30735192e+01,  3.33565933e+01,\n",
       "        2.01924861e+00,  7.80084268e+01, -1.79807889e+02,  1.77620221e+02,\n",
       "       -7.49091061e+01, -1.42294365e+02, -5.69797240e+01, -5.60498583e+01,\n",
       "        3.20808071e+01,  1.39331007e+01,  1.45540030e+01, -8.79842219e+00,\n",
       "       -7.35779035e+01,  3.59049639e+01, -1.72556085e+02, -1.79990611e+02,\n",
       "       -1.91512387e+01,  1.50633699e+02,  1.75166711e+02,  2.16072567e+02,\n",
       "        1.07860709e+02,  1.32855320e+02, -8.34371737e+01, -3.43068241e+01,\n",
       "        1.60030789e+01, -2.72129407e+02,  6.23650411e+01,  7.32546183e-01,\n",
       "       -6.43677966e+01, -1.66015723e+02, -2.04506990e+01, -8.70232052e+01,\n",
       "        2.51559826e+01, -1.03878991e+02,  1.30773087e+02,  8.07879378e+01,\n",
       "       -1.01546551e+02,  1.09519761e+02,  1.22500347e+02,  9.60592125e+01,\n",
       "       -3.88558666e+01, -1.29167124e+02,  3.56357510e+01,  1.91686983e+02,\n",
       "        9.72917402e+01, -3.24943497e+01,  3.09528330e+01, -7.63474545e+01,\n",
       "        6.40362777e+01,  2.47282499e+01, -2.04309674e+01, -2.13900348e+02,\n",
       "        7.19497738e+01, -5.18491335e+01, -8.28676967e+01, -2.33633555e+01,\n",
       "       -7.87067668e+01, -6.79736654e+00,  7.99690338e+01,  6.91320962e+01,\n",
       "       -1.63533722e+02, -9.29449456e+01,  1.41552688e+02,  1.01863000e+02,\n",
       "       -1.15809367e+02, -4.60105279e+01,  6.43390756e+01, -2.92742350e+01,\n",
       "        1.37572263e+02, -1.08077763e+02,  8.58407930e+01,  1.20796551e+02,\n",
       "       -1.14866535e+02, -9.00965690e+01, -7.86556341e+01, -4.42880234e+01,\n",
       "       -2.06117299e+01, -1.87979779e+02,  9.11361635e+01, -2.64941873e+01,\n",
       "        1.03141396e+02, -4.59431012e+01,  2.02812695e+02,  9.35303371e+01,\n",
       "        8.77612166e+01,  2.16779274e+01, -1.46187416e+02,  1.99824572e+01,\n",
       "       -2.41963665e+01,  4.10862134e+00,  1.33013782e+01, -8.42725316e+01,\n",
       "        1.44423776e+02,  4.51376588e+01, -4.44660672e-01, -1.49963482e+02,\n",
       "        4.54001857e+01, -6.39307205e+01,  2.01013672e+02, -3.64788290e+00,\n",
       "       -6.22002849e+00,  1.55898081e+02, -2.47656307e+01, -2.18500871e+01,\n",
       "        6.39727221e+01, -2.99137956e+01, -8.65063220e+01, -2.38155779e+02,\n",
       "        7.04343825e+01,  1.52821801e+02,  1.10592052e+02, -2.73316279e+01,\n",
       "       -1.03103742e+02, -4.55248153e+01, -6.60524840e+01, -1.02070145e+02,\n",
       "       -3.98513767e+01, -4.53359253e+01,  4.69444083e+01,  1.68157159e+02,\n",
       "       -1.27074544e+02,  1.17354772e+02, -1.75611205e+02, -1.07778224e+02,\n",
       "       -3.45885868e+01,  6.83965907e+01, -1.07431041e+02, -8.30369061e+01,\n",
       "        2.40837365e+01, -4.35647687e+01,  6.06586629e+01, -4.67032236e+01,\n",
       "       -4.75069012e+00, -1.23325764e+01, -3.03248518e+01, -3.72383394e+01,\n",
       "       -1.04932050e+02,  1.30758333e+02,  3.05157528e+01, -2.96789804e+01,\n",
       "        2.39300312e+01, -8.29452373e+01,  7.11504743e+00, -1.51931164e+01,\n",
       "        1.32608256e+02,  2.05363054e+01,  1.64988723e+01, -9.56306438e+01,\n",
       "       -3.52225982e+01,  1.00559717e+02, -7.99643858e+01, -1.58888036e+02,\n",
       "       -6.66309274e+01,  3.48533587e+01, -1.83028839e+02,  1.31283619e+02,\n",
       "       -1.11602083e+02, -1.12573911e+01,  3.91286399e+01, -4.18782193e+01,\n",
       "        5.84864329e+01,  7.58131904e+01, -3.49433033e+01, -2.39071825e+02,\n",
       "        1.78183911e+01, -1.54100770e+02,  2.50609345e+02, -7.79700279e+01,\n",
       "        7.90581474e+01, -1.70663256e+01,  1.40055997e+02,  1.48530080e+01,\n",
       "        1.27622888e+00,  1.06761546e+02,  5.63925257e+01, -2.17000553e+01,\n",
       "       -9.60546607e+01, -1.37997046e+02, -2.17464585e+01,  1.19265997e+02,\n",
       "        8.71340133e+01, -3.89564099e+01,  1.06041097e+02, -2.31596392e+02,\n",
       "        2.06315412e+01, -1.59929899e+02,  1.77157739e+02, -2.67958454e+02,\n",
       "       -6.29733865e+01, -6.26105290e+01, -5.54093365e+00, -7.59904896e+01,\n",
       "        1.20344755e+02, -1.97752707e+02, -3.00983581e+01,  6.36632244e+01,\n",
       "       -1.40130973e+02,  6.88409662e+01, -4.43298289e+01, -1.14537545e+02,\n",
       "       -9.85999952e+01, -6.17491652e+00,  1.52508069e+02,  7.88040850e+01,\n",
       "        4.56856473e+01, -6.51156509e+01,  1.31084280e+02, -5.81411143e+00,\n",
       "        9.42447151e+01,  5.27927596e+01, -1.77857905e+01, -6.18381638e+01,\n",
       "       -1.06729120e+02, -6.74500280e+00, -1.19071230e+02, -4.74582830e+01,\n",
       "        1.95074023e+02,  1.69135296e+02,  7.46991402e+01,  1.44781570e+02,\n",
       "       -1.50271121e+02, -1.19996115e+02,  1.85849014e+02, -1.40860068e+02,\n",
       "       -1.11833789e+02, -1.23985294e+02,  1.67935239e+01, -6.04664090e+01,\n",
       "        1.43919363e+01, -4.71450661e+01, -8.00815951e+01,  8.03984214e+01,\n",
       "       -1.89529347e+02,  1.20541176e+02, -7.22784429e+01,  9.00905320e+01,\n",
       "        2.16713372e+01, -5.95030228e+01,  1.14553467e+02, -2.09546538e+02,\n",
       "       -1.52475907e+01,  1.61733427e+01, -1.40536680e+02,  8.89598747e+01,\n",
       "       -1.05831928e+02,  3.66244594e+01, -1.37924726e+01,  2.31051902e+02,\n",
       "       -2.56787256e+01, -6.84293669e+01,  3.32333512e-01, -1.69380971e+02,\n",
       "        1.76024062e+02, -1.08535247e+02,  4.12013118e+01, -7.33163107e+01,\n",
       "       -1.31376440e+02,  7.67052241e+01,  1.33289771e+02,  2.18481374e+02,\n",
       "       -5.88945668e+01, -8.33038430e+01,  3.54201090e+01,  6.98033213e+01,\n",
       "       -1.58737413e+02,  1.15609403e+02,  6.96046100e+00,  8.51973040e+01,\n",
       "        1.32955113e+02, -1.47308664e+02,  7.73460412e+01,  8.39145413e+01,\n",
       "       -8.89028724e+01,  1.62603875e+02, -4.77484163e+01, -9.69497800e+00,\n",
       "       -3.01366504e+01,  7.68711765e+01,  4.44108412e+01, -7.02887605e+01,\n",
       "        9.16788632e+01, -5.74405437e+01, -7.52708672e+01,  1.76910047e+02,\n",
       "       -7.57621704e+01, -3.22667144e+01,  5.31896735e+01, -3.64086585e+01,\n",
       "       -1.45156709e+02,  9.59352832e+01,  3.64794052e+01,  2.39448215e+01,\n",
       "        2.21632030e+02,  3.38623312e+01, -1.33798018e+01, -2.45461433e+01,\n",
       "        8.73672599e+01,  8.34843521e+00, -6.22360867e+01,  1.50725443e+02,\n",
       "       -1.12750317e+01, -6.25944446e+01,  7.40927752e+00, -1.24436595e+02,\n",
       "       -1.81008281e+02, -1.63554834e+02, -9.20862683e+01,  7.34390485e+01,\n",
       "        2.06175178e+01, -7.55920151e+00, -1.06066633e+01, -2.97970982e+01,\n",
       "       -3.64906673e+01, -2.82502462e+01,  1.06544643e+02,  1.29585088e+02,\n",
       "       -7.37257586e+01,  3.59348915e+01,  1.17947327e+02,  1.78921301e+02,\n",
       "       -7.52740230e+01,  1.53677818e+02,  6.61593313e+01, -8.21377438e+00,\n",
       "       -5.60919652e+01,  2.63506234e+02,  7.26441250e+01,  1.00500391e+02,\n",
       "       -1.34428648e+02,  5.85585860e+01, -1.26137678e+02, -2.05842571e+02,\n",
       "        4.81375171e+01,  1.12771074e+02, -4.50677518e+01, -2.78899045e+01,\n",
       "       -1.97837390e+02,  4.33255666e+01, -3.69919554e+01,  1.76551740e+02,\n",
       "        1.13477870e+02, -1.59910119e+02, -3.41724502e+01, -2.55434212e+01,\n",
       "        3.95884863e+01, -8.14721926e+01, -1.96722654e+02,  1.04138208e+02,\n",
       "        2.26593592e+01, -2.43467357e+02, -7.59766367e+00,  5.31307292e-01,\n",
       "        3.75914230e+01,  9.74584347e+00, -6.50493872e+00,  1.08538415e+02,\n",
       "       -7.98159885e+00,  5.82693474e+01,  1.00053887e+02, -4.99743018e+01,\n",
       "        1.21490212e+02, -3.18975670e+02,  3.29184331e+01, -8.95765550e+01,\n",
       "       -7.32279655e+01,  6.30929607e+01,  1.70356432e+02,  1.33813499e+02,\n",
       "        7.31829654e+00,  6.44408797e+01, -2.07599694e+02,  1.92410072e+02,\n",
       "        1.30364787e+02,  6.57312910e+01,  8.19049638e+01, -9.98179435e+01,\n",
       "        1.63183540e+02,  9.94170027e+01,  1.71909227e+00, -8.59171903e+01,\n",
       "       -1.36946048e+01,  1.30718541e+02, -4.21822807e+01,  5.30318123e+01,\n",
       "        2.92569350e+01, -1.74960505e+00, -2.14508554e+01, -7.43422178e+01,\n",
       "       -1.33591880e+01, -7.91124925e+01,  1.23659024e+02,  4.11773015e+00,\n",
       "        1.02451110e+02, -5.61144183e+01,  2.75307658e+01,  1.08868553e+02,\n",
       "       -1.50074798e+01, -3.89263514e+01, -8.37621750e+01,  2.80718867e+01,\n",
       "       -2.23106616e+01,  5.29727730e+01,  6.74871559e+01,  1.23441135e+02,\n",
       "       -3.36632111e+01,  1.80045501e+01,  1.07372455e+02, -1.88074924e+01,\n",
       "        7.46771701e+01,  2.76435604e+01,  5.89259216e+01,  2.00159772e+02,\n",
       "        2.18132868e+02, -3.65534881e+01,  4.28901080e+01, -1.80583648e+02,\n",
       "       -6.47491178e+01, -2.49301396e+02,  9.80327993e-01, -1.19343340e+02,\n",
       "       -3.32625923e+01, -9.32503287e+01, -2.52276231e+01,  6.99931719e+01,\n",
       "        2.82967057e+00, -1.24221373e+02,  8.23399563e+01, -9.44669641e+01,\n",
       "        8.59809250e+01, -1.37444112e+02, -4.41126562e+01,  1.97493258e+02,\n",
       "       -1.23735333e+02, -7.36538061e+01, -2.47730471e+01, -1.38734554e+02,\n",
       "        2.44488538e+01,  7.34722678e+01, -8.91491920e+01,  3.31950706e+01,\n",
       "       -6.96807452e+01,  9.28365101e+01,  8.49257432e+01,  2.73212809e+01,\n",
       "        7.94962349e+01, -3.59945150e+01, -1.02348129e+02, -2.04140152e+02,\n",
       "        1.45074097e+01, -1.38884021e+02, -6.58209867e+01, -4.58213389e+01,\n",
       "       -1.20291631e+02, -8.30002059e+01, -1.11184846e+01,  3.56259276e+01,\n",
       "       -1.50051994e+02, -1.06738298e+00,  4.70531032e+01, -2.60388568e+01,\n",
       "       -1.22445072e+02,  1.37103802e+02,  7.95753871e+01,  3.82719899e+01,\n",
       "       -1.00126667e+02,  8.26500945e+01,  7.37849761e+01, -1.46158165e+02,\n",
       "        9.21421934e+01,  5.41548509e+00, -2.04237491e+01,  5.54286790e+00,\n",
       "        7.38160349e+01, -5.15238881e+01,  1.44073877e+01,  9.48069413e+01,\n",
       "       -3.20895387e+01, -1.72322371e+02, -5.07961935e+01,  8.89136461e+01,\n",
       "        9.87179267e+01,  1.98772161e+02, -1.12572547e+02, -2.90278330e+01,\n",
       "        5.27045004e-01,  1.05664787e+02, -2.80261282e+02, -1.06365660e+02,\n",
       "        6.48412408e+01, -4.74273132e+01, -5.21811170e+01,  9.94492217e+01,\n",
       "        9.02583855e+01, -9.52200934e+00,  6.96652267e+01,  1.22728509e+02,\n",
       "       -1.21772253e+02,  1.66691368e+02,  4.92606712e+01, -1.68569501e+02,\n",
       "       -2.99745792e+01, -3.71409174e+01, -2.94911868e+01,  1.01168963e+02,\n",
       "        7.90008984e+00,  3.27861840e+00,  1.09927376e+02,  5.12653903e+01,\n",
       "       -1.32967602e+02, -4.18782303e+01, -1.16769251e+01,  1.18480556e+02,\n",
       "        6.34776519e+00, -1.04762317e+02, -1.17596276e+02, -9.67927637e+01,\n",
       "        8.17664099e+01, -6.34855506e+01, -1.53032350e+02,  6.80088405e+01,\n",
       "       -5.99698103e+01, -2.12512661e+02,  9.52632745e+01,  2.97957940e+00,\n",
       "       -3.11441942e+01, -2.81062315e+01, -1.66241165e+02, -5.51711110e+00,\n",
       "        1.34712879e+01,  1.37338295e+02,  1.20284335e+02, -3.37190823e+01,\n",
       "        1.05757829e+02,  1.57005381e+01,  2.60567600e+02, -1.06766671e+02,\n",
       "       -8.92015904e+01,  8.71419433e+01, -1.47614804e+02, -1.39348674e+01,\n",
       "        2.49034182e+00,  9.87471523e+01, -7.49266754e+01,  1.10443788e+02,\n",
       "       -6.02024031e+01, -5.89683478e+01, -5.67904723e+01,  8.39773193e+01,\n",
       "       -1.51263182e+02,  2.32525353e+01,  5.67139003e+01,  1.53097163e+02,\n",
       "        2.54941755e+01, -1.62398491e+01,  3.78653936e+01,  6.06871286e+01,\n",
       "        1.27644462e+01,  8.70244522e+01,  2.45653975e+02, -4.12290653e+00,\n",
       "       -3.89706265e+01, -1.17235724e+02, -5.14647948e+01,  6.36064442e+01,\n",
       "        4.98122103e+01, -1.52146218e+02, -1.65078639e+02, -1.19412364e+02,\n",
       "       -8.67110002e+01,  8.10298575e+01, -6.27252498e+01, -1.01727914e+01,\n",
       "        2.54134084e+01, -9.65477769e+01,  5.69344880e+01,  4.25325243e+01,\n",
       "        4.60266867e-01,  3.67894743e+01,  1.37495302e+01,  1.46865649e+02,\n",
       "        1.54079705e+01,  1.58966600e+02, -2.00217518e+02,  1.98181974e+01,\n",
       "        5.12955665e+01,  6.86038341e+01,  9.27023791e+01,  7.00788859e-02,\n",
       "       -3.77348328e+01,  2.69197170e+01, -2.05603763e+01, -2.90174586e+02,\n",
       "       -1.01806291e+02, -6.24938774e+01,  4.59851518e+01, -1.79501594e+01,\n",
       "        3.61615498e+01,  1.97722044e+02,  7.84698270e+01, -2.29000299e+02,\n",
       "        4.81867572e+01, -1.12680164e+02, -1.67815932e+02, -1.40195098e+02,\n",
       "        3.20200429e+01,  1.09576518e+02, -2.16830398e+02,  4.63707591e+01,\n",
       "       -2.31439121e+01,  1.84930496e+02, -6.13013794e+01,  5.86190093e+01,\n",
       "        1.24069346e+02,  1.85420235e+02,  6.06460229e+01, -3.99227477e+01,\n",
       "       -2.13559606e+01, -1.60152738e+02,  3.63000090e+01,  6.14137126e+01,\n",
       "        1.03408118e+02,  4.81546756e+01,  1.11266013e+02, -6.42436603e+01,\n",
       "       -8.87049574e+01,  6.94099766e+01,  1.11321815e+01,  3.84071701e+00,\n",
       "        1.02034939e+02,  2.79461320e+01, -1.96220380e+01,  1.10005660e+02,\n",
       "       -5.51205860e+00, -4.18165904e+01,  3.04401169e+01,  1.22696519e+02,\n",
       "        1.94674471e+01,  5.78214549e+01, -3.71446168e+01,  1.17409413e+02,\n",
       "       -2.43180600e+00, -1.66482824e+02, -1.64876714e+02, -1.42381655e+02,\n",
       "       -5.89232381e+01,  3.95501332e+01, -2.99525456e+01,  1.33077938e+02,\n",
       "        1.74349078e+01, -1.11501893e+01,  1.14515685e+02,  4.53767784e+01,\n",
       "        2.36968205e+01,  2.06783232e+02,  1.10949193e+02, -3.08269908e+01,\n",
       "       -6.67088270e+00,  3.85562597e+01, -1.85807151e+02,  3.57817796e+01,\n",
       "        3.96113996e+01, -2.51478457e+02,  1.08911362e+02,  1.15470056e+02,\n",
       "        8.01045870e+00, -1.13578507e+02, -5.34615325e+01, -7.22282049e+01,\n",
       "       -7.62994809e+00, -1.36839529e+02,  3.14116146e+02, -3.71296326e+01,\n",
       "        3.23991733e+01,  6.28218636e+01,  6.38224482e+01,  6.70245724e+01,\n",
       "        9.62863261e+01,  4.07297330e+01, -5.91244212e+00,  4.94264961e+01,\n",
       "       -5.17058197e+01, -2.50541017e+01, -4.52668665e+01,  6.43205130e+01,\n",
       "       -1.38476828e+02, -9.70029479e+01,  1.37154812e+01,  1.04568441e+01,\n",
       "        4.60006170e+01,  1.65580754e+02,  2.11602003e+01, -4.01643354e+01,\n",
       "        1.70692617e+02,  8.43109939e+01, -1.79473877e+02,  1.54053943e+01,\n",
       "        2.70718407e+02, -1.44488423e+02, -1.51231277e+02, -1.89555245e+01,\n",
       "        1.64000985e+02, -1.11297721e+02,  6.08245595e+01,  1.03271457e+02,\n",
       "        7.56096871e+01,  8.97170959e+01, -3.51432926e+01, -7.86014963e+01])"
      ]
     },
     "execution_count": 5,
     "metadata": {},
     "output_type": "execute_result"
    }
   ],
   "source": [
    "y"
   ]
  },
  {
   "cell_type": "code",
   "execution_count": 6,
   "metadata": {
    "colab": {
     "base_uri": "https://localhost:8080/"
    },
    "executionInfo": {
     "elapsed": 29,
     "status": "ok",
     "timestamp": 1693385887237,
     "user": {
      "displayName": "Vipil Khapre",
      "userId": "11657927420291305997"
     },
     "user_tz": -330
    },
    "id": "nnB9u96lqIq0",
    "outputId": "2011ff75-1399-449e-99f6-ea21554a1b48"
   },
   "outputs": [
    {
     "data": {
      "text/plain": [
       "0      0.823389\n",
       "1     -0.058752\n",
       "2      2.486677\n",
       "3      0.200642\n",
       "4     -0.243480\n",
       "         ...   \n",
       "995    2.168079\n",
       "996    0.185887\n",
       "997    0.353582\n",
       "998    0.261729\n",
       "999    0.048651\n",
       "Name: 0, Length: 1000, dtype: float64"
      ]
     },
     "execution_count": 6,
     "metadata": {},
     "output_type": "execute_result"
    }
   ],
   "source": [
    "pd.DataFrame(X)[0]"
   ]
  },
  {
   "cell_type": "code",
   "execution_count": 7,
   "metadata": {
    "colab": {
     "base_uri": "https://localhost:8080/",
     "height": 467
    },
    "executionInfo": {
     "elapsed": 2630,
     "status": "ok",
     "timestamp": 1693385897244,
     "user": {
      "displayName": "Vipil Khapre",
      "userId": "11657927420291305997"
     },
     "user_tz": -330
    },
    "id": "Pe--0H0fqIq1",
    "outputId": "403a2820-92a9-4724-e1a1-645a81f85337"
   },
   "outputs": [
    {
     "data": {
      "text/plain": [
       "<Axes: xlabel='0', ylabel='1'>"
      ]
     },
     "execution_count": 7,
     "metadata": {},
     "output_type": "execute_result"
    },
    {
     "data": {
      "image/png": "[encoded data removed]",
      "text/plain": [
       "<Figure size 640x480 with 1 Axes>"
      ]
     },
     "metadata": {},
     "output_type": "display_data"
    }
   ],
   "source": [
    "sns.scatterplot(x=pd.DataFrame(X)[0],y=pd.DataFrame(X)[1],hue=y)"
   ]
  },
  {
   "cell_type": "code",
   "execution_count": 8,
   "metadata": {
    "executionInfo": {
     "elapsed": 478,
     "status": "ok",
     "timestamp": 1693385904728,
     "user": {
      "displayName": "Vipil Khapre",
      "userId": "11657927420291305997"
     },
     "user_tz": -330
    },
    "id": "jo_bwQ5_qIq1"
   },
   "outputs": [],
   "source": [
    "from sklearn.model_selection import train_test_split\n",
    "X_train,X_test,y_train,y_test=train_test_split(X,y,test_size=0.25,random_state=10)"
   ]
  },
  {
   "cell_type": "code",
   "execution_count": 9,
   "metadata": {
    "executionInfo": {
     "elapsed": 10,
     "status": "ok",
     "timestamp": 1693385904728,
     "user": {
      "displayName": "Vipil Khapre",
      "userId": "11657927420291305997"
     },
     "user_tz": -330
    },
    "id": "nITYOV9oqIq2"
   },
   "outputs": [],
   "source": [
    "from sklearn.svm import SVR"
   ]
  },
  {
   "cell_type": "code",
   "execution_count": 10,
   "metadata": {
    "executionInfo": {
     "elapsed": 659,
     "status": "ok",
     "timestamp": 1693386091301,
     "user": {
      "displayName": "Vipil Khapre",
      "userId": "11657927420291305997"
     },
     "user_tz": -330
    },
    "id": "1NzHguuFqIq3"
   },
   "outputs": [],
   "source": [
    "svr=SVR(kernel='linear')"
   ]
  },
  {
   "cell_type": "code",
   "execution_count": 11,
   "metadata": {
    "colab": {
     "base_uri": "https://localhost:8080/",
     "height": 75
    },
    "executionInfo": {
     "elapsed": 22,
     "status": "ok",
     "timestamp": 1693386091770,
     "user": {
      "displayName": "Vipil Khapre",
      "userId": "11657927420291305997"
     },
     "user_tz": -330
    },
    "id": "q4yViOLNqIq4",
    "outputId": "d6288821-ce6a-4fb8-b57b-283ac61493eb"
   },
   "outputs": [
    {
     "data": {
      "text/html": [
       "<style>#sk-container-id-1 {color: black;background-color: white;}#sk-container-id-1 pre{padding: 0;}#sk-container-id-1 div.sk-toggleable {background-color: white;}#sk-container-id-1 label.sk-toggleable__label {cursor: pointer;display: block;width: 100%;margin-bottom: 0;padding: 0.3em;box-sizing: border-box;text-align: center;}#sk-container-id-1 label.sk-toggleable__label-arrow:before {content: \"▸\";float: left;margin-right: 0.25em;color: #696969;}#sk-container-id-1 label.sk-toggleable__label-arrow:hover:before {color: black;}#sk-container-id-1 div.sk-estimator:hover label.sk-toggleable__label-arrow:before {color: black;}#sk-container-id-1 div.sk-toggleable__content {max-height: 0;max-width: 0;overflow: hidden;text-align: left;background-color: #f0f8ff;}#sk-container-id-1 div.sk-toggleable__content pre {margin: 0.2em;color: black;border-radius: 0.25em;background-color: #f0f8ff;}#sk-container-id-1 input.sk-toggleable__control:checked~div.sk-toggleable__content {max-height: 200px;max-width: 100%;overflow: auto;}#sk-container-id-1 input.sk-toggleable__control:checked~label.sk-toggleable__label-arrow:before {content: \"▾\";}#sk-container-id-1 div.sk-estimator input.sk-toggleable__control:checked~label.sk-toggleable__label {background-color: #d4ebff;}#sk-container-id-1 div.sk-label input.sk-toggleable__control:checked~label.sk-toggleable__label {background-color: #d4ebff;}#sk-container-id-1 input.sk-hidden--visually {border: 0;clip: rect(1px 1px 1px 1px);clip: rect(1px, 1px, 1px, 1px);height: 1px;margin: -1px;overflow: hidden;padding: 0;position: absolute;width: 1px;}#sk-container-id-1 div.sk-estimator {font-family: monospace;background-color: #f0f8ff;border: 1px dotted black;border-radius: 0.25em;box-sizing: border-box;margin-bottom: 0.5em;}#sk-container-id-1 div.sk-estimator:hover {background-color: #d4ebff;}#sk-container-id-1 div.sk-parallel-item::after {content: \"\";width: 100%;border-bottom: 1px solid gray;flex-grow: 1;}#sk-container-id-1 div.sk-label:hover label.sk-toggleable__label {background-color: #d4ebff;}#sk-container-id-1 div.sk-serial::before {content: \"\";position: absolute;border-left: 1px solid gray;box-sizing: border-box;top: 0;bottom: 0;left: 50%;z-index: 0;}#sk-container-id-1 div.sk-serial {display: flex;flex-direction: column;align-items: center;background-color: white;padding-right: 0.2em;padding-left: 0.2em;position: relative;}#sk-container-id-1 div.sk-item {position: relative;z-index: 1;}#sk-container-id-1 div.sk-parallel {display: flex;align-items: stretch;justify-content: center;background-color: white;position: relative;}#sk-container-id-1 div.sk-item::before, #sk-container-id-1 div.sk-parallel-item::before {content: \"\";position: absolute;border-left: 1px solid gray;box-sizing: border-box;top: 0;bottom: 0;left: 50%;z-index: -1;}#sk-container-id-1 div.sk-parallel-item {display: flex;flex-direction: column;z-index: 1;position: relative;background-color: white;}#sk-container-id-1 div.sk-parallel-item:first-child::after {align-self: flex-end;width: 50%;}#sk-container-id-1 div.sk-parallel-item:last-child::after {align-self: flex-start;width: 50%;}#sk-container-id-1 div.sk-parallel-item:only-child::after {width: 0;}#sk-container-id-1 div.sk-dashed-wrapped {border: 1px dashed gray;margin: 0 0.4em 0.5em 0.4em;box-sizing: border-box;padding-bottom: 0.4em;background-color: white;}#sk-container-id-1 div.sk-label label {font-family: monospace;font-weight: bold;display: inline-block;line-height: 1.2em;}#sk-container-id-1 div.sk-label-container {text-align: center;}#sk-container-id-1 div.sk-container {/* jupyter's `normalize.less` sets `[hidden] { display: none; }` but bootstrap.min.css set `[hidden] { display: none !important; }` so we also need the `!important` here to be able to override the default hidden behavior on the sphinx rendered scikit-learn.org. See: https://github.com/scikit-learn/scikit-learn/issues/21755 */display: inline-block !important;position: relative;}#sk-container-id-1 div.sk-text-repr-fallback {display: none;}</style><div id=\"sk-container-id-1\" class=\"sk-top-container\"><div class=\"sk-text-repr-fallback\"><pre>SVR(kernel=&#x27;linear&#x27;)</pre><b>In a Jupyter environment, please rerun this cell to show the HTML representation or trust the notebook. <br />On GitHub, the HTML representation is unable to render, please try loading this page with nbviewer.org.</b></div><div class=\"sk-container\" hidden><div class=\"sk-item\"><div class=\"sk-estimator sk-toggleable\"><input class=\"sk-toggleable__control sk-hidden--visually\" id=\"sk-estimator-id-1\" type=\"checkbox\" checked><label for=\"sk-estimator-id-1\" class=\"sk-toggleable__label sk-toggleable__label-arrow\">SVR</label><div class=\"sk-toggleable__content\"><pre>SVR(kernel=&#x27;linear&#x27;)</pre></div></div></div></div></div>"
      ],
      "text/plain": [
       "SVR(kernel='linear')"
      ]
     },
     "execution_count": 11,
     "metadata": {},
     "output_type": "execute_result"
    }
   ],
   "source": [
    "svr.fit(X_train,y_train)"
   ]
  },
  {
   "cell_type": "code",
   "execution_count": 12,
   "metadata": {
    "colab": {
     "base_uri": "https://localhost:8080/"
    },
    "executionInfo": {
     "elapsed": 12,
     "status": "ok",
     "timestamp": 1693386093295,
     "user": {
      "displayName": "Vipil Khapre",
      "userId": "11657927420291305997"
     },
     "user_tz": -330
    },
    "id": "UehOgHVBqIq5",
    "outputId": "04d728c6-0dcb-4073-ee7f-212680271af2"
   },
   "outputs": [
    {
     "data": {
      "text/plain": [
       "array([[38.58931046, 90.47909276]])"
      ]
     },
     "execution_count": 12,
     "metadata": {},
     "output_type": "execute_result"
    }
   ],
   "source": [
    "svr.coef_"
   ]
  },
  {
   "cell_type": "code",
   "execution_count": 13,
   "metadata": {
    "executionInfo": {
     "elapsed": 8,
     "status": "ok",
     "timestamp": 1693386094905,
     "user": {
      "displayName": "Vipil Khapre",
      "userId": "11657927420291305997"
     },
     "user_tz": -330
    },
    "id": "_UnW7YELqIq5"
   },
   "outputs": [],
   "source": [
    "## Prediction\n",
    "y_pred=svr.predict(X_test)"
   ]
  },
  {
   "cell_type": "code",
   "execution_count": 14,
   "metadata": {
    "colab": {
     "base_uri": "https://localhost:8080/"
    },
    "executionInfo": {
     "elapsed": 14,
     "status": "ok",
     "timestamp": 1693386097949,
     "user": {
      "displayName": "Vipil Khapre",
      "userId": "11657927420291305997"
     },
     "user_tz": -330
    },
    "id": "CW0r-IbsqIq5",
    "outputId": "96c32424-c5bf-414a-a365-36f0210f2ed7"
   },
   "outputs": [
    {
     "data": {
      "text/plain": [
       "array([  19.97224261,    9.73834842,  173.13010644,  -52.6428937 ,\n",
       "       -146.12266264,  117.47013727,  -43.77146754,   72.09846123,\n",
       "       -249.70428   ,  144.73799664,  130.28124395,  -82.97018465,\n",
       "       -107.31123439,   22.62385712,   -8.79893072,   70.81671499,\n",
       "        -20.11810984,   97.38500791,   96.23494528,  196.32514341,\n",
       "         18.41762758,  -76.32503799, -140.10349408, -134.82481058,\n",
       "         -9.41669925,   97.20077739,  -69.2305803 ,  -20.62868448,\n",
       "        -27.61909281,  124.76392772,    7.76183537,  -33.17335659,\n",
       "        106.93636797,  112.93173258, -104.8640214 ,   59.19402659,\n",
       "         40.67966412,   16.06769203,  -28.15655173,   20.56925975,\n",
       "         -9.12107348,  -60.84404755, -165.82358086,  220.30142373,\n",
       "         37.38845995,   78.801524  , -133.74261941, -288.48464847,\n",
       "        229.6013364 , -245.78168155,    1.3804048 ,   46.87141703,\n",
       "         34.40976402,  -76.6446676 ,   77.05223938,  -34.39327893,\n",
       "       -228.8289659 ,   24.34632281,  -39.13742577,    9.84542996,\n",
       "         51.49569894,   -8.7681976 ,  270.09426187, -140.48035292,\n",
       "        190.74892708,  -56.79911689,  119.89695   ,   18.94979109,\n",
       "       -105.44412806, -109.39924048, -148.41759332,   87.51368256,\n",
       "         -7.53971648,  199.36255198,   73.64641317,   47.54960645,\n",
       "       -199.2910999 ,  -55.23151203, -113.76223509,   78.43862125,\n",
       "          5.12920543,  -20.66349337, -202.98056529,  -52.20113867,\n",
       "       -100.79495804,  139.40806651,    2.41401489,  -33.82310886,\n",
       "         73.9335229 ,   13.53141863,  -56.90791192,   15.30147393,\n",
       "         14.25762756,   44.75510923,  112.67519016,  -27.04795729,\n",
       "       -158.99215264,   79.19427152,  -75.36376086,   72.47123956,\n",
       "         78.47160285,   23.98311656, -247.70236335, -211.95992994,\n",
       "        -25.50790376,   67.14697016,  -74.4780975 ,  -38.44796565,\n",
       "        -35.20329095,  -36.02135418, -167.37111316,  -27.30893383,\n",
       "       -284.63004833,  204.39588488, -178.20918637,  132.13212179,\n",
       "         29.15170959,   63.86294576,  253.82888127,   63.53957329,\n",
       "         30.5371839 ,  100.95582586, -107.07697707,  102.71444647,\n",
       "        -54.36964222,  167.11122774,   88.86827758,  214.09531712,\n",
       "         47.23198028,  107.24594954,   73.18964257,  -21.00374194,\n",
       "        153.99575828,  197.407446  , -207.11189505,  101.01246554,\n",
       "        -91.21670974,  -88.03689329, -152.38398372,   56.88668648,\n",
       "        -11.77307128,  125.57904873,  -64.52188814,  -38.81880745,\n",
       "         86.78701854,  129.1016806 ,  -69.78719478,  -91.93213225,\n",
       "        -38.19522658,   91.68543926, -137.242039  ,  191.74353216,\n",
       "        -39.03995135,   13.64774916,  178.37821729,  186.19090826,\n",
       "       -118.07099355,  112.67667102, -158.9220836 ,   19.25097004,\n",
       "         40.86849216,  -52.06805848, -186.72798347,  -37.38922347,\n",
       "        -62.55187023,  -68.16927266, -121.45457371,   66.65188808,\n",
       "        -77.86676018,  -37.80879962, -116.56675788,   54.32269545,\n",
       "        -56.42442392,  -93.82970802,  105.07982183,   56.85988424,\n",
       "       -204.45764892, -131.9314675 ,  -45.24234562,  172.06052213,\n",
       "         49.70798437,   26.87380163,  -12.42695546,  -64.42123772,\n",
       "        -89.55336566, -108.07104311,  -82.83292258,  -53.99313692,\n",
       "        -19.88228109,   30.14491952,   -6.89836095,   39.54879071,\n",
       "       -142.63382553,  -76.83672207,  -45.33162268,  -39.31833935,\n",
       "         76.61858961,  -89.18646341,   40.96914442,   12.10762258,\n",
       "        -48.25016839,  -14.3505207 ,  -13.6673954 , -141.95438931,\n",
       "       -107.9838376 ,   42.65573556,   86.45782421,  185.54387445,\n",
       "         61.92092684,   42.1253323 ,  -52.89938723, -185.86821663,\n",
       "         60.60207309,  184.44416824,  -33.77443336, -214.2520695 ,\n",
       "       -245.94319486,   21.401739  ,  112.46495713,  -59.09977079,\n",
       "        -27.2646874 , -113.97073078,   50.65104458,   76.40008349,\n",
       "         75.67401211,  -65.2550104 ,  121.6594129 ,    6.79594065,\n",
       "        -35.46841224,   11.59948689,   98.8907211 ,  260.69348914,\n",
       "       -117.69539283,   82.64075233,   97.50021847,   41.84146149,\n",
       "       -101.26168646,  -30.9510515 ,  -74.80412684,   70.90075884,\n",
       "         -6.81467213,  -56.6294219 ,  -69.30225594, -180.54595664,\n",
       "        -99.40754971, -133.49992099,  110.82182294,  164.06933707,\n",
       "        -28.44672878,  109.39726691])"
      ]
     },
     "execution_count": 14,
     "metadata": {},
     "output_type": "execute_result"
    }
   ],
   "source": [
    "y_pred"
   ]
  },
  {
   "cell_type": "code",
   "execution_count": 15,
   "metadata": {
    "executionInfo": {
     "elapsed": 3,
     "status": "ok",
     "timestamp": 1693386099834,
     "user": {
      "displayName": "Vipil Khapre",
      "userId": "11657927420291305997"
     },
     "user_tz": -330
    },
    "id": "_V8L5uhcqIq6"
   },
   "outputs": [],
   "source": [
    "from sklearn.metrics import r2_score"
   ]
  },
  {
   "cell_type": "code",
   "execution_count": 16,
   "metadata": {
    "colab": {
     "base_uri": "https://localhost:8080/"
    },
    "executionInfo": {
     "elapsed": 8,
     "status": "ok",
     "timestamp": 1693386103140,
     "user": {
      "displayName": "Vipil Khapre",
      "userId": "11657927420291305997"
     },
     "user_tz": -330
    },
    "id": "j7244_g_qIq6",
    "outputId": "8129b74e-bc9b-4d09-8567-1239830639d4"
   },
   "outputs": [
    {
     "name": "stdout",
     "output_type": "stream",
     "text": [
      "0.999153166041378\n"
     ]
    }
   ],
   "source": [
    "print(r2_score(y_test,y_pred))"
   ]
  },
  {
   "cell_type": "markdown",
   "metadata": {
    "id": "PrpM_v3SqIq6"
   },
   "source": [
    "## Hyperparametere Tuning With SVR"
   ]
  },
  {
   "cell_type": "code",
   "execution_count": 17,
   "metadata": {
    "executionInfo": {
     "elapsed": 4,
     "status": "ok",
     "timestamp": 1693386108780,
     "user": {
      "displayName": "Vipil Khapre",
      "userId": "11657927420291305997"
     },
     "user_tz": -330
    },
    "id": "x_e1cKqFqIq7"
   },
   "outputs": [],
   "source": [
    "from sklearn.model_selection import GridSearchCV\n",
    "\n",
    "# defining parameter range\n",
    "param_grid = {'C': [0.1, 1, 10, 100, 1000],\n",
    "              'gamma': [1, 0.1, 0.01, 0.001, 0.0001],\n",
    "              'kernel':['linear'],\n",
    "              'epsilon':[0.1,0.2,0.3]\n",
    "              }"
   ]
  },
  {
   "cell_type": "code",
   "execution_count": 18,
   "metadata": {
    "executionInfo": {
     "elapsed": 5,
     "status": "ok",
     "timestamp": 1693386111007,
     "user": {
      "displayName": "Vipil Khapre",
      "userId": "11657927420291305997"
     },
     "user_tz": -330
    },
    "id": "2Odkk2VvqIq7"
   },
   "outputs": [],
   "source": [
    "grid=GridSearchCV(SVR(),param_grid=param_grid,refit=True,cv=5,verbose=3)"
   ]
  },
  {
   "cell_type": "code",
   "execution_count": 19,
   "metadata": {
    "colab": {
     "base_uri": "https://localhost:8080/",
     "height": 1000
    },
    "executionInfo": {
     "elapsed": 75617,
     "status": "ok",
     "timestamp": 1693386190350,
     "user": {
      "displayName": "Vipil Khapre",
      "userId": "11657927420291305997"
     },
     "user_tz": -330
    },
    "id": "CxYbcyZXqIq8",
    "outputId": "712e2c68-8953-41a0-c8f1-203a2cc64336"
   },
   "outputs": [
    {
     "name": "stdout",
     "output_type": "stream",
     "text": [
      "Fitting 5 folds for each of 75 candidates, totalling 375 fits\n",
      "[CV 1/5] END C=0.1, epsilon=0.1, gamma=1, kernel=linear;, score=0.737 total time=   0.0s\n",
      "[CV 2/5] END C=0.1, epsilon=0.1, gamma=1, kernel=linear;, score=0.745 total time=   0.0s\n",
      "[CV 3/5] END C=0.1, epsilon=0.1, gamma=1, kernel=linear;, score=0.737 total time=   0.0s\n",
      "[CV 4/5] END C=0.1, epsilon=0.1, gamma=1, kernel=linear;, score=0.735 total time=   0.0s\n",
      "[CV 5/5] END C=0.1, epsilon=0.1, gamma=1, kernel=linear;, score=0.753 total time=   0.0s\n",
      "[CV 1/5] END C=0.1, epsilon=0.1, gamma=0.1, kernel=linear;, score=0.737 total time=   0.0s\n",
      "[CV 2/5] END C=0.1, epsilon=0.1, gamma=0.1, kernel=linear;, score=0.745 total time=   0.0s\n",
      "[CV 3/5] END C=0.1, epsilon=0.1, gamma=0.1, kernel=linear;, score=0.737 total time=   0.0s\n",
      "[CV 4/5] END C=0.1, epsilon=0.1, gamma=0.1, kernel=linear;, score=0.735 total time=   0.0s\n",
      "[CV 5/5] END C=0.1, epsilon=0.1, gamma=0.1, kernel=linear;, score=0.753 total time=   0.0s\n",
      "[CV 1/5] END C=0.1, epsilon=0.1, gamma=0.01, kernel=linear;, score=0.737 total time=   0.0s\n",
      "[CV 2/5] END C=0.1, epsilon=0.1, gamma=0.01, kernel=linear;, score=0.745 total time=   0.0s\n",
      "[CV 3/5] END C=0.1, epsilon=0.1, gamma=0.01, kernel=linear;, score=0.737 total time=   0.0s\n",
      "[CV 4/5] END C=0.1, epsilon=0.1, gamma=0.01, kernel=linear;, score=0.735 total time=   0.0s\n",
      "[CV 5/5] END C=0.1, epsilon=0.1, gamma=0.01, kernel=linear;, score=0.753 total time=   0.0s\n",
      "[CV 1/5] END C=0.1, epsilon=0.1, gamma=0.001, kernel=linear;, score=0.737 total time=   0.0s\n",
      "[CV 2/5] END C=0.1, epsilon=0.1, gamma=0.001, kernel=linear;, score=0.745 total time=   0.0s\n",
      "[CV 3/5] END C=0.1, epsilon=0.1, gamma=0.001, kernel=linear;, score=0.737 total time=   0.0s\n",
      "[CV 4/5] END C=0.1, epsilon=0.1, gamma=0.001, kernel=linear;, score=0.735 total time=   0.0s\n",
      "[CV 5/5] END C=0.1, epsilon=0.1, gamma=0.001, kernel=linear;, score=0.753 total time=   0.0s\n",
      "[CV 1/5] END C=0.1, epsilon=0.1, gamma=0.0001, kernel=linear;, score=0.737 total time=   0.0s\n",
      "[CV 2/5] END C=0.1, epsilon=0.1, gamma=0.0001, kernel=linear;, score=0.745 total time=   0.0s\n",
      "[CV 3/5] END C=0.1, epsilon=0.1, gamma=0.0001, kernel=linear;, score=0.737 total time=   0.0s\n",
      "[CV 4/5] END C=0.1, epsilon=0.1, gamma=0.0001, kernel=linear;, score=0.735 total time=   0.0s\n",
      "[CV 5/5] END C=0.1, epsilon=0.1, gamma=0.0001, kernel=linear;, score=0.753 total time=   0.0s\n",
      "[CV 1/5] END C=0.1, epsilon=0.2, gamma=1, kernel=linear;, score=0.737 total time=   0.0s\n",
      "[CV 2/5] END C=0.1, epsilon=0.2, gamma=1, kernel=linear;, score=0.745 total time=   0.0s\n",
      "[CV 3/5] END C=0.1, epsilon=0.2, gamma=1, kernel=linear;, score=0.737 total time=   0.0s\n",
      "[CV 4/5] END C=0.1, epsilon=0.2, gamma=1, kernel=linear;, score=0.735 total time=   0.0s\n",
      "[CV 5/5] END C=0.1, epsilon=0.2, gamma=1, kernel=linear;, score=0.753 total time=   0.0s\n",
      "[CV 1/5] END C=0.1, epsilon=0.2, gamma=0.1, kernel=linear;, score=0.737 total time=   0.0s\n",
      "[CV 2/5] END C=0.1, epsilon=0.2, gamma=0.1, kernel=linear;, score=0.745 total time=   0.0s\n",
      "[CV 3/5] END C=0.1, epsilon=0.2, gamma=0.1, kernel=linear;, score=0.737 total time=   0.0s\n",
      "[CV 4/5] END C=0.1, epsilon=0.2, gamma=0.1, kernel=linear;, score=0.735 total time=   0.0s\n",
      "[CV 5/5] END C=0.1, epsilon=0.2, gamma=0.1, kernel=linear;, score=0.753 total time=   0.0s\n",
      "[CV 1/5] END C=0.1, epsilon=0.2, gamma=0.01, kernel=linear;, score=0.737 total time=   0.0s\n",
      "[CV 2/5] END C=0.1, epsilon=0.2, gamma=0.01, kernel=linear;, score=0.745 total time=   0.0s\n",
      "[CV 3/5] END C=0.1, epsilon=0.2, gamma=0.01, kernel=linear;, score=0.737 total time=   0.0s\n",
      "[CV 4/5] END C=0.1, epsilon=0.2, gamma=0.01, kernel=linear;, score=0.735 total time=   0.0s\n",
      "[CV 5/5] END C=0.1, epsilon=0.2, gamma=0.01, kernel=linear;, score=0.753 total time=   0.0s\n",
      "[CV 1/5] END C=0.1, epsilon=0.2, gamma=0.001, kernel=linear;, score=0.737 total time=   0.0s\n",
      "[CV 2/5] END C=0.1, epsilon=0.2, gamma=0.001, kernel=linear;, score=0.745 total time=   0.0s\n",
      "[CV 3/5] END C=0.1, epsilon=0.2, gamma=0.001, kernel=linear;, score=0.737 total time=   0.0s\n",
      "[CV 4/5] END C=0.1, epsilon=0.2, gamma=0.001, kernel=linear;, score=0.735 total time=   0.0s\n",
      "[CV 5/5] END C=0.1, epsilon=0.2, gamma=0.001, kernel=linear;, score=0.753 total time=   0.0s\n",
      "[CV 1/5] END C=0.1, epsilon=0.2, gamma=0.0001, kernel=linear;, score=0.737 total time=   0.0s\n",
      "[CV 2/5] END C=0.1, epsilon=0.2, gamma=0.0001, kernel=linear;, score=0.745 total time=   0.0s\n",
      "[CV 3/5] END C=0.1, epsilon=0.2, gamma=0.0001, kernel=linear;, score=0.737 total time=   0.0s\n",
      "[CV 4/5] END C=0.1, epsilon=0.2, gamma=0.0001, kernel=linear;, score=0.735 total time=   0.0s\n",
      "[CV 5/5] END C=0.1, epsilon=0.2, gamma=0.0001, kernel=linear;, score=0.753 total time=   0.0s\n",
      "[CV 1/5] END C=0.1, epsilon=0.3, gamma=1, kernel=linear;, score=0.737 total time=   0.0s\n",
      "[CV 2/5] END C=0.1, epsilon=0.3, gamma=1, kernel=linear;, score=0.745 total time=   0.0s\n",
      "[CV 3/5] END C=0.1, epsilon=0.3, gamma=1, kernel=linear;, score=0.737 total time=   0.0s\n",
      "[CV 4/5] END C=0.1, epsilon=0.3, gamma=1, kernel=linear;, score=0.735 total time=   0.0s\n",
      "[CV 5/5] END C=0.1, epsilon=0.3, gamma=1, kernel=linear;, score=0.753 total time=   0.0s\n",
      "[CV 1/5] END C=0.1, epsilon=0.3, gamma=0.1, kernel=linear;, score=0.737 total time=   0.0s\n",
      "[CV 2/5] END C=0.1, epsilon=0.3, gamma=0.1, kernel=linear;, score=0.745 total time=   0.0s\n",
      "[CV 3/5] END C=0.1, epsilon=0.3, gamma=0.1, kernel=linear;, score=0.737 total time=   0.0s\n",
      "[CV 4/5] END C=0.1, epsilon=0.3, gamma=0.1, kernel=linear;, score=0.735 total time=   0.0s\n",
      "[CV 5/5] END C=0.1, epsilon=0.3, gamma=0.1, kernel=linear;, score=0.753 total time=   0.0s\n",
      "[CV 1/5] END C=0.1, epsilon=0.3, gamma=0.01, kernel=linear;, score=0.737 total time=   0.0s\n",
      "[CV 2/5] END C=0.1, epsilon=0.3, gamma=0.01, kernel=linear;, score=0.745 total time=   0.0s\n",
      "[CV 3/5] END C=0.1, epsilon=0.3, gamma=0.01, kernel=linear;, score=0.737 total time=   0.0s\n",
      "[CV 4/5] END C=0.1, epsilon=0.3, gamma=0.01, kernel=linear;, score=0.735 total time=   0.0s\n",
      "[CV 5/5] END C=0.1, epsilon=0.3, gamma=0.01, kernel=linear;, score=0.753 total time=   0.0s\n",
      "[CV 1/5] END C=0.1, epsilon=0.3, gamma=0.001, kernel=linear;, score=0.737 total time=   0.0s\n",
      "[CV 2/5] END C=0.1, epsilon=0.3, gamma=0.001, kernel=linear;, score=0.745 total time=   0.0s\n",
      "[CV 3/5] END C=0.1, epsilon=0.3, gamma=0.001, kernel=linear;, score=0.737 total time=   0.0s\n",
      "[CV 4/5] END C=0.1, epsilon=0.3, gamma=0.001, kernel=linear;, score=0.735 total time=   0.0s\n",
      "[CV 5/5] END C=0.1, epsilon=0.3, gamma=0.001, kernel=linear;, score=0.753 total time=   0.0s\n",
      "[CV 1/5] END C=0.1, epsilon=0.3, gamma=0.0001, kernel=linear;, score=0.737 total time=   0.0s\n",
      "[CV 2/5] END C=0.1, epsilon=0.3, gamma=0.0001, kernel=linear;, score=0.745 total time=   0.0s\n",
      "[CV 3/5] END C=0.1, epsilon=0.3, gamma=0.0001, kernel=linear;, score=0.737 total time=   0.0s\n",
      "[CV 4/5] END C=0.1, epsilon=0.3, gamma=0.0001, kernel=linear;, score=0.735 total time=   0.0s\n",
      "[CV 5/5] END C=0.1, epsilon=0.3, gamma=0.0001, kernel=linear;, score=0.753 total time=   0.0s\n",
      "[CV 1/5] END C=1, epsilon=0.1, gamma=1, kernel=linear;, score=0.999 total time=   0.0s\n",
      "[CV 2/5] END C=1, epsilon=0.1, gamma=1, kernel=linear;, score=0.999 total time=   0.0s\n",
      "[CV 3/5] END C=1, epsilon=0.1, gamma=1, kernel=linear;, score=0.999 total time=   0.0s\n",
      "[CV 4/5] END C=1, epsilon=0.1, gamma=1, kernel=linear;, score=0.999 total time=   0.0s\n",
      "[CV 5/5] END C=1, epsilon=0.1, gamma=1, kernel=linear;, score=0.999 total time=   0.0s\n",
      "[CV 1/5] END C=1, epsilon=0.1, gamma=0.1, kernel=linear;, score=0.999 total time=   0.0s\n",
      "[CV 2/5] END C=1, epsilon=0.1, gamma=0.1, kernel=linear;, score=0.999 total time=   0.0s\n",
      "[CV 3/5] END C=1, epsilon=0.1, gamma=0.1, kernel=linear;, score=0.999 total time=   0.0s\n",
      "[CV 4/5] END C=1, epsilon=0.1, gamma=0.1, kernel=linear;, score=0.999 total time=   0.0s\n",
      "[CV 5/5] END C=1, epsilon=0.1, gamma=0.1, kernel=linear;, score=0.999 total time=   0.0s\n",
      "[CV 1/5] END C=1, epsilon=0.1, gamma=0.01, kernel=linear;, score=0.999 total time=   0.0s\n",
      "[CV 2/5] END C=1, epsilon=0.1, gamma=0.01, kernel=linear;, score=0.999 total time=   0.0s\n",
      "[CV 3/5] END C=1, epsilon=0.1, gamma=0.01, kernel=linear;, score=0.999 total time=   0.0s\n",
      "[CV 4/5] END C=1, epsilon=0.1, gamma=0.01, kernel=linear;, score=0.999 total time=   0.0s\n",
      "[CV 5/5] END C=1, epsilon=0.1, gamma=0.01, kernel=linear;, score=0.999 total time=   0.0s\n",
      "[CV 1/5] END C=1, epsilon=0.1, gamma=0.001, kernel=linear;, score=0.999 total time=   0.0s\n",
      "[CV 2/5] END C=1, epsilon=0.1, gamma=0.001, kernel=linear;, score=0.999 total time=   0.0s\n",
      "[CV 3/5] END C=1, epsilon=0.1, gamma=0.001, kernel=linear;, score=0.999 total time=   0.0s\n",
      "[CV 4/5] END C=1, epsilon=0.1, gamma=0.001, kernel=linear;, score=0.999 total time=   0.0s\n",
      "[CV 5/5] END C=1, epsilon=0.1, gamma=0.001, kernel=linear;, score=0.999 total time=   0.0s\n",
      "[CV 1/5] END C=1, epsilon=0.1, gamma=0.0001, kernel=linear;, score=0.999 total time=   0.0s\n",
      "[CV 2/5] END C=1, epsilon=0.1, gamma=0.0001, kernel=linear;, score=0.999 total time=   0.0s\n"
     ]
    },
    {
     "name": "stdout",
     "output_type": "stream",
     "text": [
      "[CV 3/5] END C=1, epsilon=0.1, gamma=0.0001, kernel=linear;, score=0.999 total time=   0.0s\n",
      "[CV 4/5] END C=1, epsilon=0.1, gamma=0.0001, kernel=linear;, score=0.999 total time=   0.0s\n",
      "[CV 5/5] END C=1, epsilon=0.1, gamma=0.0001, kernel=linear;, score=0.999 total time=   0.0s\n",
      "[CV 1/5] END C=1, epsilon=0.2, gamma=1, kernel=linear;, score=0.999 total time=   0.0s\n",
      "[CV 2/5] END C=1, epsilon=0.2, gamma=1, kernel=linear;, score=0.999 total time=   0.0s\n",
      "[CV 3/5] END C=1, epsilon=0.2, gamma=1, kernel=linear;, score=0.999 total time=   0.0s\n",
      "[CV 4/5] END C=1, epsilon=0.2, gamma=1, kernel=linear;, score=0.999 total time=   0.0s\n",
      "[CV 5/5] END C=1, epsilon=0.2, gamma=1, kernel=linear;, score=0.999 total time=   0.0s\n",
      "[CV 1/5] END C=1, epsilon=0.2, gamma=0.1, kernel=linear;, score=0.999 total time=   0.0s\n",
      "[CV 2/5] END C=1, epsilon=0.2, gamma=0.1, kernel=linear;, score=0.999 total time=   0.0s\n",
      "[CV 3/5] END C=1, epsilon=0.2, gamma=0.1, kernel=linear;, score=0.999 total time=   0.0s\n",
      "[CV 4/5] END C=1, epsilon=0.2, gamma=0.1, kernel=linear;, score=0.999 total time=   0.0s\n",
      "[CV 5/5] END C=1, epsilon=0.2, gamma=0.1, kernel=linear;, score=0.999 total time=   0.0s\n",
      "[CV 1/5] END C=1, epsilon=0.2, gamma=0.01, kernel=linear;, score=0.999 total time=   0.0s\n",
      "[CV 2/5] END C=1, epsilon=0.2, gamma=0.01, kernel=linear;, score=0.999 total time=   0.0s\n",
      "[CV 3/5] END C=1, epsilon=0.2, gamma=0.01, kernel=linear;, score=0.999 total time=   0.0s\n",
      "[CV 4/5] END C=1, epsilon=0.2, gamma=0.01, kernel=linear;, score=0.999 total time=   0.0s\n",
      "[CV 5/5] END C=1, epsilon=0.2, gamma=0.01, kernel=linear;, score=0.999 total time=   0.0s\n",
      "[CV 1/5] END C=1, epsilon=0.2, gamma=0.001, kernel=linear;, score=0.999 total time=   0.0s\n",
      "[CV 2/5] END C=1, epsilon=0.2, gamma=0.001, kernel=linear;, score=0.999 total time=   0.0s\n",
      "[CV 3/5] END C=1, epsilon=0.2, gamma=0.001, kernel=linear;, score=0.999 total time=   0.0s\n",
      "[CV 4/5] END C=1, epsilon=0.2, gamma=0.001, kernel=linear;, score=0.999 total time=   0.0s\n",
      "[CV 5/5] END C=1, epsilon=0.2, gamma=0.001, kernel=linear;, score=0.999 total time=   0.0s\n",
      "[CV 1/5] END C=1, epsilon=0.2, gamma=0.0001, kernel=linear;, score=0.999 total time=   0.0s\n",
      "[CV 2/5] END C=1, epsilon=0.2, gamma=0.0001, kernel=linear;, score=0.999 total time=   0.0s\n",
      "[CV 3/5] END C=1, epsilon=0.2, gamma=0.0001, kernel=linear;, score=0.999 total time=   0.0s\n",
      "[CV 4/5] END C=1, epsilon=0.2, gamma=0.0001, kernel=linear;, score=0.999 total time=   0.0s\n",
      "[CV 5/5] END C=1, epsilon=0.2, gamma=0.0001, kernel=linear;, score=0.999 total time=   0.0s\n",
      "[CV 1/5] END C=1, epsilon=0.3, gamma=1, kernel=linear;, score=0.999 total time=   0.0s\n",
      "[CV 2/5] END C=1, epsilon=0.3, gamma=1, kernel=linear;, score=0.999 total time=   0.0s\n",
      "[CV 3/5] END C=1, epsilon=0.3, gamma=1, kernel=linear;, score=0.999 total time=   0.0s\n",
      "[CV 4/5] END C=1, epsilon=0.3, gamma=1, kernel=linear;, score=0.999 total time=   0.0s\n",
      "[CV 5/5] END C=1, epsilon=0.3, gamma=1, kernel=linear;, score=0.999 total time=   0.0s\n",
      "[CV 1/5] END C=1, epsilon=0.3, gamma=0.1, kernel=linear;, score=0.999 total time=   0.0s\n",
      "[CV 2/5] END C=1, epsilon=0.3, gamma=0.1, kernel=linear;, score=0.999 total time=   0.0s\n",
      "[CV 3/5] END C=1, epsilon=0.3, gamma=0.1, kernel=linear;, score=0.999 total time=   0.0s\n",
      "[CV 4/5] END C=1, epsilon=0.3, gamma=0.1, kernel=linear;, score=0.999 total time=   0.0s\n",
      "[CV 5/5] END C=1, epsilon=0.3, gamma=0.1, kernel=linear;, score=0.999 total time=   0.0s\n",
      "[CV 1/5] END C=1, epsilon=0.3, gamma=0.01, kernel=linear;, score=0.999 total time=   0.0s\n",
      "[CV 2/5] END C=1, epsilon=0.3, gamma=0.01, kernel=linear;, score=0.999 total time=   0.0s\n",
      "[CV 3/5] END C=1, epsilon=0.3, gamma=0.01, kernel=linear;, score=0.999 total time=   0.0s\n",
      "[CV 4/5] END C=1, epsilon=0.3, gamma=0.01, kernel=linear;, score=0.999 total time=   0.0s\n",
      "[CV 5/5] END C=1, epsilon=0.3, gamma=0.01, kernel=linear;, score=0.999 total time=   0.0s\n",
      "[CV 1/5] END C=1, epsilon=0.3, gamma=0.001, kernel=linear;, score=0.999 total time=   0.0s\n",
      "[CV 2/5] END C=1, epsilon=0.3, gamma=0.001, kernel=linear;, score=0.999 total time=   0.0s\n",
      "[CV 3/5] END C=1, epsilon=0.3, gamma=0.001, kernel=linear;, score=0.999 total time=   0.0s\n",
      "[CV 4/5] END C=1, epsilon=0.3, gamma=0.001, kernel=linear;, score=0.999 total time=   0.0s\n",
      "[CV 5/5] END C=1, epsilon=0.3, gamma=0.001, kernel=linear;, score=0.999 total time=   0.0s\n",
      "[CV 1/5] END C=1, epsilon=0.3, gamma=0.0001, kernel=linear;, score=0.999 total time=   0.0s\n",
      "[CV 2/5] END C=1, epsilon=0.3, gamma=0.0001, kernel=linear;, score=0.999 total time=   0.0s\n",
      "[CV 3/5] END C=1, epsilon=0.3, gamma=0.0001, kernel=linear;, score=0.999 total time=   0.0s\n",
      "[CV 4/5] END C=1, epsilon=0.3, gamma=0.0001, kernel=linear;, score=0.999 total time=   0.0s\n",
      "[CV 5/5] END C=1, epsilon=0.3, gamma=0.0001, kernel=linear;, score=0.999 total time=   0.0s\n",
      "[CV 1/5] END C=10, epsilon=0.1, gamma=1, kernel=linear;, score=0.999 total time=   0.0s\n",
      "[CV 2/5] END C=10, epsilon=0.1, gamma=1, kernel=linear;, score=0.999 total time=   0.0s\n",
      "[CV 3/5] END C=10, epsilon=0.1, gamma=1, kernel=linear;, score=0.999 total time=   0.0s\n",
      "[CV 4/5] END C=10, epsilon=0.1, gamma=1, kernel=linear;, score=0.999 total time=   0.0s\n",
      "[CV 5/5] END C=10, epsilon=0.1, gamma=1, kernel=linear;, score=0.999 total time=   0.0s\n",
      "[CV 1/5] END C=10, epsilon=0.1, gamma=0.1, kernel=linear;, score=0.999 total time=   0.0s\n",
      "[CV 2/5] END C=10, epsilon=0.1, gamma=0.1, kernel=linear;, score=0.999 total time=   0.0s\n",
      "[CV 3/5] END C=10, epsilon=0.1, gamma=0.1, kernel=linear;, score=0.999 total time=   0.0s\n",
      "[CV 4/5] END C=10, epsilon=0.1, gamma=0.1, kernel=linear;, score=0.999 total time=   0.0s\n",
      "[CV 5/5] END C=10, epsilon=0.1, gamma=0.1, kernel=linear;, score=0.999 total time=   0.0s\n",
      "[CV 1/5] END C=10, epsilon=0.1, gamma=0.01, kernel=linear;, score=0.999 total time=   0.0s\n",
      "[CV 2/5] END C=10, epsilon=0.1, gamma=0.01, kernel=linear;, score=0.999 total time=   0.0s\n",
      "[CV 3/5] END C=10, epsilon=0.1, gamma=0.01, kernel=linear;, score=0.999 total time=   0.0s\n",
      "[CV 4/5] END C=10, epsilon=0.1, gamma=0.01, kernel=linear;, score=0.999 total time=   0.0s\n",
      "[CV 5/5] END C=10, epsilon=0.1, gamma=0.01, kernel=linear;, score=0.999 total time=   0.0s\n",
      "[CV 1/5] END C=10, epsilon=0.1, gamma=0.001, kernel=linear;, score=0.999 total time=   0.0s\n",
      "[CV 2/5] END C=10, epsilon=0.1, gamma=0.001, kernel=linear;, score=0.999 total time=   0.0s\n",
      "[CV 3/5] END C=10, epsilon=0.1, gamma=0.001, kernel=linear;, score=0.999 total time=   0.0s\n",
      "[CV 4/5] END C=10, epsilon=0.1, gamma=0.001, kernel=linear;, score=0.999 total time=   0.0s\n",
      "[CV 5/5] END C=10, epsilon=0.1, gamma=0.001, kernel=linear;, score=0.999 total time=   0.0s\n",
      "[CV 1/5] END C=10, epsilon=0.1, gamma=0.0001, kernel=linear;, score=0.999 total time=   0.0s\n",
      "[CV 2/5] END C=10, epsilon=0.1, gamma=0.0001, kernel=linear;, score=0.999 total time=   0.0s\n",
      "[CV 3/5] END C=10, epsilon=0.1, gamma=0.0001, kernel=linear;, score=0.999 total time=   0.0s\n",
      "[CV 4/5] END C=10, epsilon=0.1, gamma=0.0001, kernel=linear;, score=0.999 total time=   0.0s\n",
      "[CV 5/5] END C=10, epsilon=0.1, gamma=0.0001, kernel=linear;, score=0.999 total time=   0.0s\n",
      "[CV 1/5] END C=10, epsilon=0.2, gamma=1, kernel=linear;, score=0.999 total time=   0.0s\n",
      "[CV 2/5] END C=10, epsilon=0.2, gamma=1, kernel=linear;, score=0.999 total time=   0.0s\n",
      "[CV 3/5] END C=10, epsilon=0.2, gamma=1, kernel=linear;, score=0.999 total time=   0.0s\n",
      "[CV 4/5] END C=10, epsilon=0.2, gamma=1, kernel=linear;, score=0.999 total time=   0.0s\n",
      "[CV 5/5] END C=10, epsilon=0.2, gamma=1, kernel=linear;, score=0.999 total time=   0.0s\n",
      "[CV 1/5] END C=10, epsilon=0.2, gamma=0.1, kernel=linear;, score=0.999 total time=   0.0s\n",
      "[CV 2/5] END C=10, epsilon=0.2, gamma=0.1, kernel=linear;, score=0.999 total time=   0.0s\n",
      "[CV 3/5] END C=10, epsilon=0.2, gamma=0.1, kernel=linear;, score=0.999 total time=   0.0s\n",
      "[CV 4/5] END C=10, epsilon=0.2, gamma=0.1, kernel=linear;, score=0.999 total time=   0.0s\n",
      "[CV 5/5] END C=10, epsilon=0.2, gamma=0.1, kernel=linear;, score=0.999 total time=   0.0s\n",
      "[CV 1/5] END C=10, epsilon=0.2, gamma=0.01, kernel=linear;, score=0.999 total time=   0.0s\n",
      "[CV 2/5] END C=10, epsilon=0.2, gamma=0.01, kernel=linear;, score=0.999 total time=   0.0s\n",
      "[CV 3/5] END C=10, epsilon=0.2, gamma=0.01, kernel=linear;, score=0.999 total time=   0.0s\n",
      "[CV 4/5] END C=10, epsilon=0.2, gamma=0.01, kernel=linear;, score=0.999 total time=   0.0s\n"
     ]
    },
    {
     "name": "stdout",
     "output_type": "stream",
     "text": [
      "[CV 5/5] END C=10, epsilon=0.2, gamma=0.01, kernel=linear;, score=0.999 total time=   0.0s\n",
      "[CV 1/5] END C=10, epsilon=0.2, gamma=0.001, kernel=linear;, score=0.999 total time=   0.0s\n",
      "[CV 2/5] END C=10, epsilon=0.2, gamma=0.001, kernel=linear;, score=0.999 total time=   0.0s\n",
      "[CV 3/5] END C=10, epsilon=0.2, gamma=0.001, kernel=linear;, score=0.999 total time=   0.0s\n",
      "[CV 4/5] END C=10, epsilon=0.2, gamma=0.001, kernel=linear;, score=0.999 total time=   0.0s\n",
      "[CV 5/5] END C=10, epsilon=0.2, gamma=0.001, kernel=linear;, score=0.999 total time=   0.0s\n",
      "[CV 1/5] END C=10, epsilon=0.2, gamma=0.0001, kernel=linear;, score=0.999 total time=   0.0s\n",
      "[CV 2/5] END C=10, epsilon=0.2, gamma=0.0001, kernel=linear;, score=0.999 total time=   0.0s\n",
      "[CV 3/5] END C=10, epsilon=0.2, gamma=0.0001, kernel=linear;, score=0.999 total time=   0.0s\n",
      "[CV 4/5] END C=10, epsilon=0.2, gamma=0.0001, kernel=linear;, score=0.999 total time=   0.0s\n",
      "[CV 5/5] END C=10, epsilon=0.2, gamma=0.0001, kernel=linear;, score=0.999 total time=   0.0s\n",
      "[CV 1/5] END C=10, epsilon=0.3, gamma=1, kernel=linear;, score=0.999 total time=   0.0s\n",
      "[CV 2/5] END C=10, epsilon=0.3, gamma=1, kernel=linear;, score=0.999 total time=   0.0s\n",
      "[CV 3/5] END C=10, epsilon=0.3, gamma=1, kernel=linear;, score=0.999 total time=   0.0s\n",
      "[CV 4/5] END C=10, epsilon=0.3, gamma=1, kernel=linear;, score=0.999 total time=   0.0s\n",
      "[CV 5/5] END C=10, epsilon=0.3, gamma=1, kernel=linear;, score=0.999 total time=   0.0s\n",
      "[CV 1/5] END C=10, epsilon=0.3, gamma=0.1, kernel=linear;, score=0.999 total time=   0.0s\n",
      "[CV 2/5] END C=10, epsilon=0.3, gamma=0.1, kernel=linear;, score=0.999 total time=   0.0s\n",
      "[CV 3/5] END C=10, epsilon=0.3, gamma=0.1, kernel=linear;, score=0.999 total time=   0.0s\n",
      "[CV 4/5] END C=10, epsilon=0.3, gamma=0.1, kernel=linear;, score=0.999 total time=   0.0s\n",
      "[CV 5/5] END C=10, epsilon=0.3, gamma=0.1, kernel=linear;, score=0.999 total time=   0.0s\n",
      "[CV 1/5] END C=10, epsilon=0.3, gamma=0.01, kernel=linear;, score=0.999 total time=   0.0s\n",
      "[CV 2/5] END C=10, epsilon=0.3, gamma=0.01, kernel=linear;, score=0.999 total time=   0.0s\n",
      "[CV 3/5] END C=10, epsilon=0.3, gamma=0.01, kernel=linear;, score=0.999 total time=   0.0s\n",
      "[CV 4/5] END C=10, epsilon=0.3, gamma=0.01, kernel=linear;, score=0.999 total time=   0.0s\n",
      "[CV 5/5] END C=10, epsilon=0.3, gamma=0.01, kernel=linear;, score=0.999 total time=   0.0s\n",
      "[CV 1/5] END C=10, epsilon=0.3, gamma=0.001, kernel=linear;, score=0.999 total time=   0.0s\n",
      "[CV 2/5] END C=10, epsilon=0.3, gamma=0.001, kernel=linear;, score=0.999 total time=   0.0s\n",
      "[CV 3/5] END C=10, epsilon=0.3, gamma=0.001, kernel=linear;, score=0.999 total time=   0.0s\n",
      "[CV 4/5] END C=10, epsilon=0.3, gamma=0.001, kernel=linear;, score=0.999 total time=   0.0s\n",
      "[CV 5/5] END C=10, epsilon=0.3, gamma=0.001, kernel=linear;, score=0.999 total time=   0.0s\n",
      "[CV 1/5] END C=10, epsilon=0.3, gamma=0.0001, kernel=linear;, score=0.999 total time=   0.0s\n",
      "[CV 2/5] END C=10, epsilon=0.3, gamma=0.0001, kernel=linear;, score=0.999 total time=   0.0s\n",
      "[CV 3/5] END C=10, epsilon=0.3, gamma=0.0001, kernel=linear;, score=0.999 total time=   0.0s\n",
      "[CV 4/5] END C=10, epsilon=0.3, gamma=0.0001, kernel=linear;, score=0.999 total time=   0.0s\n",
      "[CV 5/5] END C=10, epsilon=0.3, gamma=0.0001, kernel=linear;, score=0.999 total time=   0.0s\n",
      "[CV 1/5] END C=100, epsilon=0.1, gamma=1, kernel=linear;, score=0.999 total time=   0.0s\n",
      "[CV 2/5] END C=100, epsilon=0.1, gamma=1, kernel=linear;, score=0.999 total time=   0.0s\n",
      "[CV 3/5] END C=100, epsilon=0.1, gamma=1, kernel=linear;, score=0.999 total time=   0.0s\n",
      "[CV 4/5] END C=100, epsilon=0.1, gamma=1, kernel=linear;, score=0.999 total time=   0.0s\n",
      "[CV 5/5] END C=100, epsilon=0.1, gamma=1, kernel=linear;, score=0.999 total time=   0.0s\n",
      "[CV 1/5] END C=100, epsilon=0.1, gamma=0.1, kernel=linear;, score=0.999 total time=   0.0s\n",
      "[CV 2/5] END C=100, epsilon=0.1, gamma=0.1, kernel=linear;, score=0.999 total time=   0.0s\n",
      "[CV 3/5] END C=100, epsilon=0.1, gamma=0.1, kernel=linear;, score=0.999 total time=   0.0s\n",
      "[CV 4/5] END C=100, epsilon=0.1, gamma=0.1, kernel=linear;, score=0.999 total time=   0.0s\n",
      "[CV 5/5] END C=100, epsilon=0.1, gamma=0.1, kernel=linear;, score=0.999 total time=   0.0s\n",
      "[CV 1/5] END C=100, epsilon=0.1, gamma=0.01, kernel=linear;, score=0.999 total time=   0.0s\n",
      "[CV 2/5] END C=100, epsilon=0.1, gamma=0.01, kernel=linear;, score=0.999 total time=   0.0s\n",
      "[CV 3/5] END C=100, epsilon=0.1, gamma=0.01, kernel=linear;, score=0.999 total time=   0.0s\n",
      "[CV 4/5] END C=100, epsilon=0.1, gamma=0.01, kernel=linear;, score=0.999 total time=   0.0s\n",
      "[CV 5/5] END C=100, epsilon=0.1, gamma=0.01, kernel=linear;, score=0.999 total time=   0.0s\n",
      "[CV 1/5] END C=100, epsilon=0.1, gamma=0.001, kernel=linear;, score=0.999 total time=   0.0s\n",
      "[CV 2/5] END C=100, epsilon=0.1, gamma=0.001, kernel=linear;, score=0.999 total time=   0.0s\n",
      "[CV 3/5] END C=100, epsilon=0.1, gamma=0.001, kernel=linear;, score=0.999 total time=   0.0s\n",
      "[CV 4/5] END C=100, epsilon=0.1, gamma=0.001, kernel=linear;, score=0.999 total time=   0.0s\n",
      "[CV 5/5] END C=100, epsilon=0.1, gamma=0.001, kernel=linear;, score=0.999 total time=   0.0s\n",
      "[CV 1/5] END C=100, epsilon=0.1, gamma=0.0001, kernel=linear;, score=0.999 total time=   0.0s\n",
      "[CV 2/5] END C=100, epsilon=0.1, gamma=0.0001, kernel=linear;, score=0.999 total time=   0.0s\n",
      "[CV 3/5] END C=100, epsilon=0.1, gamma=0.0001, kernel=linear;, score=0.999 total time=   0.0s\n",
      "[CV 4/5] END C=100, epsilon=0.1, gamma=0.0001, kernel=linear;, score=0.999 total time=   0.0s\n",
      "[CV 5/5] END C=100, epsilon=0.1, gamma=0.0001, kernel=linear;, score=0.999 total time=   0.0s\n",
      "[CV 1/5] END C=100, epsilon=0.2, gamma=1, kernel=linear;, score=0.999 total time=   0.0s\n",
      "[CV 2/5] END C=100, epsilon=0.2, gamma=1, kernel=linear;, score=0.999 total time=   0.0s\n",
      "[CV 3/5] END C=100, epsilon=0.2, gamma=1, kernel=linear;, score=0.999 total time=   0.0s\n",
      "[CV 4/5] END C=100, epsilon=0.2, gamma=1, kernel=linear;, score=0.999 total time=   0.0s\n",
      "[CV 5/5] END C=100, epsilon=0.2, gamma=1, kernel=linear;, score=0.999 total time=   0.0s\n",
      "[CV 1/5] END C=100, epsilon=0.2, gamma=0.1, kernel=linear;, score=0.999 total time=   0.0s\n",
      "[CV 2/5] END C=100, epsilon=0.2, gamma=0.1, kernel=linear;, score=0.999 total time=   0.0s\n",
      "[CV 3/5] END C=100, epsilon=0.2, gamma=0.1, kernel=linear;, score=0.999 total time=   0.0s\n",
      "[CV 4/5] END C=100, epsilon=0.2, gamma=0.1, kernel=linear;, score=0.999 total time=   0.0s\n",
      "[CV 5/5] END C=100, epsilon=0.2, gamma=0.1, kernel=linear;, score=0.999 total time=   0.0s\n",
      "[CV 1/5] END C=100, epsilon=0.2, gamma=0.01, kernel=linear;, score=0.999 total time=   0.0s\n",
      "[CV 2/5] END C=100, epsilon=0.2, gamma=0.01, kernel=linear;, score=0.999 total time=   0.0s\n",
      "[CV 3/5] END C=100, epsilon=0.2, gamma=0.01, kernel=linear;, score=0.999 total time=   0.0s\n",
      "[CV 4/5] END C=100, epsilon=0.2, gamma=0.01, kernel=linear;, score=0.999 total time=   0.0s\n",
      "[CV 5/5] END C=100, epsilon=0.2, gamma=0.01, kernel=linear;, score=0.999 total time=   0.0s\n",
      "[CV 1/5] END C=100, epsilon=0.2, gamma=0.001, kernel=linear;, score=0.999 total time=   0.0s\n",
      "[CV 2/5] END C=100, epsilon=0.2, gamma=0.001, kernel=linear;, score=0.999 total time=   0.0s\n",
      "[CV 3/5] END C=100, epsilon=0.2, gamma=0.001, kernel=linear;, score=0.999 total time=   0.0s\n",
      "[CV 4/5] END C=100, epsilon=0.2, gamma=0.001, kernel=linear;, score=0.999 total time=   0.0s\n",
      "[CV 5/5] END C=100, epsilon=0.2, gamma=0.001, kernel=linear;, score=0.999 total time=   0.0s\n",
      "[CV 1/5] END C=100, epsilon=0.2, gamma=0.0001, kernel=linear;, score=0.999 total time=   0.0s\n",
      "[CV 2/5] END C=100, epsilon=0.2, gamma=0.0001, kernel=linear;, score=0.999 total time=   0.0s\n",
      "[CV 3/5] END C=100, epsilon=0.2, gamma=0.0001, kernel=linear;, score=0.999 total time=   0.0s\n",
      "[CV 4/5] END C=100, epsilon=0.2, gamma=0.0001, kernel=linear;, score=0.999 total time=   0.0s\n",
      "[CV 5/5] END C=100, epsilon=0.2, gamma=0.0001, kernel=linear;, score=0.999 total time=   0.0s\n",
      "[CV 1/5] END C=100, epsilon=0.3, gamma=1, kernel=linear;, score=0.999 total time=   0.0s\n",
      "[CV 2/5] END C=100, epsilon=0.3, gamma=1, kernel=linear;, score=0.999 total time=   0.0s\n",
      "[CV 3/5] END C=100, epsilon=0.3, gamma=1, kernel=linear;, score=0.999 total time=   0.0s\n",
      "[CV 4/5] END C=100, epsilon=0.3, gamma=1, kernel=linear;, score=0.999 total time=   0.0s\n"
     ]
    },
    {
     "name": "stdout",
     "output_type": "stream",
     "text": [
      "[CV 5/5] END C=100, epsilon=0.3, gamma=1, kernel=linear;, score=0.999 total time=   0.0s\n",
      "[CV 1/5] END C=100, epsilon=0.3, gamma=0.1, kernel=linear;, score=0.999 total time=   0.0s\n",
      "[CV 2/5] END C=100, epsilon=0.3, gamma=0.1, kernel=linear;, score=0.999 total time=   0.0s\n",
      "[CV 3/5] END C=100, epsilon=0.3, gamma=0.1, kernel=linear;, score=0.999 total time=   0.0s\n",
      "[CV 4/5] END C=100, epsilon=0.3, gamma=0.1, kernel=linear;, score=0.999 total time=   0.0s\n",
      "[CV 5/5] END C=100, epsilon=0.3, gamma=0.1, kernel=linear;, score=0.999 total time=   0.0s\n",
      "[CV 1/5] END C=100, epsilon=0.3, gamma=0.01, kernel=linear;, score=0.999 total time=   0.0s\n",
      "[CV 2/5] END C=100, epsilon=0.3, gamma=0.01, kernel=linear;, score=0.999 total time=   0.0s\n",
      "[CV 3/5] END C=100, epsilon=0.3, gamma=0.01, kernel=linear;, score=0.999 total time=   0.0s\n",
      "[CV 4/5] END C=100, epsilon=0.3, gamma=0.01, kernel=linear;, score=0.999 total time=   0.0s\n",
      "[CV 5/5] END C=100, epsilon=0.3, gamma=0.01, kernel=linear;, score=0.999 total time=   0.0s\n",
      "[CV 1/5] END C=100, epsilon=0.3, gamma=0.001, kernel=linear;, score=0.999 total time=   0.0s\n",
      "[CV 2/5] END C=100, epsilon=0.3, gamma=0.001, kernel=linear;, score=0.999 total time=   0.0s\n",
      "[CV 3/5] END C=100, epsilon=0.3, gamma=0.001, kernel=linear;, score=0.999 total time=   0.0s\n",
      "[CV 4/5] END C=100, epsilon=0.3, gamma=0.001, kernel=linear;, score=0.999 total time=   0.0s\n",
      "[CV 5/5] END C=100, epsilon=0.3, gamma=0.001, kernel=linear;, score=0.999 total time=   0.0s\n",
      "[CV 1/5] END C=100, epsilon=0.3, gamma=0.0001, kernel=linear;, score=0.999 total time=   0.0s\n",
      "[CV 2/5] END C=100, epsilon=0.3, gamma=0.0001, kernel=linear;, score=0.999 total time=   0.0s\n",
      "[CV 3/5] END C=100, epsilon=0.3, gamma=0.0001, kernel=linear;, score=0.999 total time=   0.0s\n",
      "[CV 4/5] END C=100, epsilon=0.3, gamma=0.0001, kernel=linear;, score=0.999 total time=   0.0s\n",
      "[CV 5/5] END C=100, epsilon=0.3, gamma=0.0001, kernel=linear;, score=0.999 total time=   0.0s\n",
      "[CV 1/5] END C=1000, epsilon=0.1, gamma=1, kernel=linear;, score=0.999 total time=   0.3s\n",
      "[CV 2/5] END C=1000, epsilon=0.1, gamma=1, kernel=linear;, score=0.999 total time=   0.4s\n",
      "[CV 3/5] END C=1000, epsilon=0.1, gamma=1, kernel=linear;, score=0.999 total time=   0.4s\n",
      "[CV 4/5] END C=1000, epsilon=0.1, gamma=1, kernel=linear;, score=0.999 total time=   0.3s\n",
      "[CV 5/5] END C=1000, epsilon=0.1, gamma=1, kernel=linear;, score=0.999 total time=   0.3s\n",
      "[CV 1/5] END C=1000, epsilon=0.1, gamma=0.1, kernel=linear;, score=0.999 total time=   0.3s\n",
      "[CV 2/5] END C=1000, epsilon=0.1, gamma=0.1, kernel=linear;, score=0.999 total time=   0.5s\n",
      "[CV 3/5] END C=1000, epsilon=0.1, gamma=0.1, kernel=linear;, score=0.999 total time=   0.3s\n",
      "[CV 4/5] END C=1000, epsilon=0.1, gamma=0.1, kernel=linear;, score=0.999 total time=   0.3s\n",
      "[CV 5/5] END C=1000, epsilon=0.1, gamma=0.1, kernel=linear;, score=0.999 total time=   0.3s\n",
      "[CV 1/5] END C=1000, epsilon=0.1, gamma=0.01, kernel=linear;, score=0.999 total time=   0.3s\n",
      "[CV 2/5] END C=1000, epsilon=0.1, gamma=0.01, kernel=linear;, score=0.999 total time=   0.4s\n",
      "[CV 3/5] END C=1000, epsilon=0.1, gamma=0.01, kernel=linear;, score=0.999 total time=   0.3s\n",
      "[CV 4/5] END C=1000, epsilon=0.1, gamma=0.01, kernel=linear;, score=0.999 total time=   0.3s\n",
      "[CV 5/5] END C=1000, epsilon=0.1, gamma=0.01, kernel=linear;, score=0.999 total time=   0.3s\n",
      "[CV 1/5] END C=1000, epsilon=0.1, gamma=0.001, kernel=linear;, score=0.999 total time=   0.3s\n",
      "[CV 2/5] END C=1000, epsilon=0.1, gamma=0.001, kernel=linear;, score=0.999 total time=   0.4s\n",
      "[CV 3/5] END C=1000, epsilon=0.1, gamma=0.001, kernel=linear;, score=0.999 total time=   0.3s\n",
      "[CV 4/5] END C=1000, epsilon=0.1, gamma=0.001, kernel=linear;, score=0.999 total time=   0.3s\n",
      "[CV 5/5] END C=1000, epsilon=0.1, gamma=0.001, kernel=linear;, score=0.999 total time=   0.3s\n",
      "[CV 1/5] END C=1000, epsilon=0.1, gamma=0.0001, kernel=linear;, score=0.999 total time=   0.3s\n",
      "[CV 2/5] END C=1000, epsilon=0.1, gamma=0.0001, kernel=linear;, score=0.999 total time=   0.4s\n",
      "[CV 3/5] END C=1000, epsilon=0.1, gamma=0.0001, kernel=linear;, score=0.999 total time=   0.3s\n",
      "[CV 4/5] END C=1000, epsilon=0.1, gamma=0.0001, kernel=linear;, score=0.999 total time=   0.3s\n",
      "[CV 5/5] END C=1000, epsilon=0.1, gamma=0.0001, kernel=linear;, score=0.999 total time=   0.3s\n",
      "[CV 1/5] END C=1000, epsilon=0.2, gamma=1, kernel=linear;, score=0.999 total time=   0.3s\n",
      "[CV 2/5] END C=1000, epsilon=0.2, gamma=1, kernel=linear;, score=0.999 total time=   0.4s\n",
      "[CV 3/5] END C=1000, epsilon=0.2, gamma=1, kernel=linear;, score=0.999 total time=   0.3s\n",
      "[CV 4/5] END C=1000, epsilon=0.2, gamma=1, kernel=linear;, score=0.999 total time=   0.3s\n",
      "[CV 5/5] END C=1000, epsilon=0.2, gamma=1, kernel=linear;, score=0.999 total time=   0.4s\n",
      "[CV 1/5] END C=1000, epsilon=0.2, gamma=0.1, kernel=linear;, score=0.999 total time=   0.3s\n",
      "[CV 2/5] END C=1000, epsilon=0.2, gamma=0.1, kernel=linear;, score=0.999 total time=   0.4s\n",
      "[CV 3/5] END C=1000, epsilon=0.2, gamma=0.1, kernel=linear;, score=0.999 total time=   0.3s\n",
      "[CV 4/5] END C=1000, epsilon=0.2, gamma=0.1, kernel=linear;, score=0.999 total time=   0.4s\n",
      "[CV 5/5] END C=1000, epsilon=0.2, gamma=0.1, kernel=linear;, score=0.999 total time=   0.4s\n",
      "[CV 1/5] END C=1000, epsilon=0.2, gamma=0.01, kernel=linear;, score=0.999 total time=   0.3s\n",
      "[CV 2/5] END C=1000, epsilon=0.2, gamma=0.01, kernel=linear;, score=0.999 total time=   0.4s\n",
      "[CV 3/5] END C=1000, epsilon=0.2, gamma=0.01, kernel=linear;, score=0.999 total time=   0.3s\n",
      "[CV 4/5] END C=1000, epsilon=0.2, gamma=0.01, kernel=linear;, score=0.999 total time=   0.3s\n",
      "[CV 5/5] END C=1000, epsilon=0.2, gamma=0.01, kernel=linear;, score=0.999 total time=   0.4s\n",
      "[CV 1/5] END C=1000, epsilon=0.2, gamma=0.001, kernel=linear;, score=0.999 total time=   0.3s\n",
      "[CV 2/5] END C=1000, epsilon=0.2, gamma=0.001, kernel=linear;, score=0.999 total time=   0.4s\n",
      "[CV 3/5] END C=1000, epsilon=0.2, gamma=0.001, kernel=linear;, score=0.999 total time=   0.3s\n",
      "[CV 4/5] END C=1000, epsilon=0.2, gamma=0.001, kernel=linear;, score=0.999 total time=   0.3s\n",
      "[CV 5/5] END C=1000, epsilon=0.2, gamma=0.001, kernel=linear;, score=0.999 total time=   0.4s\n",
      "[CV 1/5] END C=1000, epsilon=0.2, gamma=0.0001, kernel=linear;, score=0.999 total time=   0.3s\n",
      "[CV 2/5] END C=1000, epsilon=0.2, gamma=0.0001, kernel=linear;, score=0.999 total time=   0.4s\n",
      "[CV 3/5] END C=1000, epsilon=0.2, gamma=0.0001, kernel=linear;, score=0.999 total time=   0.3s\n",
      "[CV 4/5] END C=1000, epsilon=0.2, gamma=0.0001, kernel=linear;, score=0.999 total time=   0.3s\n",
      "[CV 5/5] END C=1000, epsilon=0.2, gamma=0.0001, kernel=linear;, score=0.999 total time=   0.4s\n",
      "[CV 1/5] END C=1000, epsilon=0.3, gamma=1, kernel=linear;, score=0.999 total time=   0.3s\n",
      "[CV 2/5] END C=1000, epsilon=0.3, gamma=1, kernel=linear;, score=0.999 total time=   0.5s\n",
      "[CV 3/5] END C=1000, epsilon=0.3, gamma=1, kernel=linear;, score=0.999 total time=   0.4s\n",
      "[CV 4/5] END C=1000, epsilon=0.3, gamma=1, kernel=linear;, score=0.999 total time=   0.3s\n",
      "[CV 5/5] END C=1000, epsilon=0.3, gamma=1, kernel=linear;, score=0.999 total time=   0.3s\n",
      "[CV 1/5] END C=1000, epsilon=0.3, gamma=0.1, kernel=linear;, score=0.999 total time=   0.3s\n",
      "[CV 2/5] END C=1000, epsilon=0.3, gamma=0.1, kernel=linear;, score=0.999 total time=   0.5s\n",
      "[CV 3/5] END C=1000, epsilon=0.3, gamma=0.1, kernel=linear;, score=0.999 total time=   0.4s\n",
      "[CV 4/5] END C=1000, epsilon=0.3, gamma=0.1, kernel=linear;, score=0.999 total time=   0.3s\n",
      "[CV 5/5] END C=1000, epsilon=0.3, gamma=0.1, kernel=linear;, score=0.999 total time=   0.4s\n",
      "[CV 1/5] END C=1000, epsilon=0.3, gamma=0.01, kernel=linear;, score=0.999 total time=   0.3s\n",
      "[CV 2/5] END C=1000, epsilon=0.3, gamma=0.01, kernel=linear;, score=0.999 total time=   0.5s\n",
      "[CV 3/5] END C=1000, epsilon=0.3, gamma=0.01, kernel=linear;, score=0.999 total time=   0.4s\n",
      "[CV 4/5] END C=1000, epsilon=0.3, gamma=0.01, kernel=linear;, score=0.999 total time=   0.3s\n",
      "[CV 5/5] END C=1000, epsilon=0.3, gamma=0.01, kernel=linear;, score=0.999 total time=   0.3s\n",
      "[CV 1/5] END C=1000, epsilon=0.3, gamma=0.001, kernel=linear;, score=0.999 total time=   0.3s\n",
      "[CV 2/5] END C=1000, epsilon=0.3, gamma=0.001, kernel=linear;, score=0.999 total time=   0.5s\n",
      "[CV 3/5] END C=1000, epsilon=0.3, gamma=0.001, kernel=linear;, score=0.999 total time=   0.4s\n"
     ]
    },
    {
     "name": "stdout",
     "output_type": "stream",
     "text": [
      "[CV 4/5] END C=1000, epsilon=0.3, gamma=0.001, kernel=linear;, score=0.999 total time=   0.3s\n",
      "[CV 5/5] END C=1000, epsilon=0.3, gamma=0.001, kernel=linear;, score=0.999 total time=   0.3s\n",
      "[CV 1/5] END C=1000, epsilon=0.3, gamma=0.0001, kernel=linear;, score=0.999 total time=   0.3s\n",
      "[CV 2/5] END C=1000, epsilon=0.3, gamma=0.0001, kernel=linear;, score=0.999 total time=   0.5s\n",
      "[CV 3/5] END C=1000, epsilon=0.3, gamma=0.0001, kernel=linear;, score=0.999 total time=   0.4s\n",
      "[CV 4/5] END C=1000, epsilon=0.3, gamma=0.0001, kernel=linear;, score=0.999 total time=   0.3s\n",
      "[CV 5/5] END C=1000, epsilon=0.3, gamma=0.0001, kernel=linear;, score=0.999 total time=   0.3s\n"
     ]
    },
    {
     "data": {
      "text/html": [
       "<style>#sk-container-id-2 {color: black;background-color: white;}#sk-container-id-2 pre{padding: 0;}#sk-container-id-2 div.sk-toggleable {background-color: white;}#sk-container-id-2 label.sk-toggleable__label {cursor: pointer;display: block;width: 100%;margin-bottom: 0;padding: 0.3em;box-sizing: border-box;text-align: center;}#sk-container-id-2 label.sk-toggleable__label-arrow:before {content: \"▸\";float: left;margin-right: 0.25em;color: #696969;}#sk-container-id-2 label.sk-toggleable__label-arrow:hover:before {color: black;}#sk-container-id-2 div.sk-estimator:hover label.sk-toggleable__label-arrow:before {color: black;}#sk-container-id-2 div.sk-toggleable__content {max-height: 0;max-width: 0;overflow: hidden;text-align: left;background-color: #f0f8ff;}#sk-container-id-2 div.sk-toggleable__content pre {margin: 0.2em;color: black;border-radius: 0.25em;background-color: #f0f8ff;}#sk-container-id-2 input.sk-toggleable__control:checked~div.sk-toggleable__content {max-height: 200px;max-width: 100%;overflow: auto;}#sk-container-id-2 input.sk-toggleable__control:checked~label.sk-toggleable__label-arrow:before {content: \"▾\";}#sk-container-id-2 div.sk-estimator input.sk-toggleable__control:checked~label.sk-toggleable__label {background-color: #d4ebff;}#sk-container-id-2 div.sk-label input.sk-toggleable__control:checked~label.sk-toggleable__label {background-color: #d4ebff;}#sk-container-id-2 input.sk-hidden--visually {border: 0;clip: rect(1px 1px 1px 1px);clip: rect(1px, 1px, 1px, 1px);height: 1px;margin: -1px;overflow: hidden;padding: 0;position: absolute;width: 1px;}#sk-container-id-2 div.sk-estimator {font-family: monospace;background-color: #f0f8ff;border: 1px dotted black;border-radius: 0.25em;box-sizing: border-box;margin-bottom: 0.5em;}#sk-container-id-2 div.sk-estimator:hover {background-color: #d4ebff;}#sk-container-id-2 div.sk-parallel-item::after {content: \"\";width: 100%;border-bottom: 1px solid gray;flex-grow: 1;}#sk-container-id-2 div.sk-label:hover label.sk-toggleable__label {background-color: #d4ebff;}#sk-container-id-2 div.sk-serial::before {content: \"\";position: absolute;border-left: 1px solid gray;box-sizing: border-box;top: 0;bottom: 0;left: 50%;z-index: 0;}#sk-container-id-2 div.sk-serial {display: flex;flex-direction: column;align-items: center;background-color: white;padding-right: 0.2em;padding-left: 0.2em;position: relative;}#sk-container-id-2 div.sk-item {position: relative;z-index: 1;}#sk-container-id-2 div.sk-parallel {display: flex;align-items: stretch;justify-content: center;background-color: white;position: relative;}#sk-container-id-2 div.sk-item::before, #sk-container-id-2 div.sk-parallel-item::before {content: \"\";position: absolute;border-left: 1px solid gray;box-sizing: border-box;top: 0;bottom: 0;left: 50%;z-index: -1;}#sk-container-id-2 div.sk-parallel-item {display: flex;flex-direction: column;z-index: 1;position: relative;background-color: white;}#sk-container-id-2 div.sk-parallel-item:first-child::after {align-self: flex-end;width: 50%;}#sk-container-id-2 div.sk-parallel-item:last-child::after {align-self: flex-start;width: 50%;}#sk-container-id-2 div.sk-parallel-item:only-child::after {width: 0;}#sk-container-id-2 div.sk-dashed-wrapped {border: 1px dashed gray;margin: 0 0.4em 0.5em 0.4em;box-sizing: border-box;padding-bottom: 0.4em;background-color: white;}#sk-container-id-2 div.sk-label label {font-family: monospace;font-weight: bold;display: inline-block;line-height: 1.2em;}#sk-container-id-2 div.sk-label-container {text-align: center;}#sk-container-id-2 div.sk-container {/* jupyter's `normalize.less` sets `[hidden] { display: none; }` but bootstrap.min.css set `[hidden] { display: none !important; }` so we also need the `!important` here to be able to override the default hidden behavior on the sphinx rendered scikit-learn.org. See: https://github.com/scikit-learn/scikit-learn/issues/21755 */display: inline-block !important;position: relative;}#sk-container-id-2 div.sk-text-repr-fallback {display: none;}</style><div id=\"sk-container-id-2\" class=\"sk-top-container\"><div class=\"sk-text-repr-fallback\"><pre>GridSearchCV(cv=5, estimator=SVR(),\n",
       "             param_grid={&#x27;C&#x27;: [0.1, 1, 10, 100, 1000],\n",
       "                         &#x27;epsilon&#x27;: [0.1, 0.2, 0.3],\n",
       "                         &#x27;gamma&#x27;: [1, 0.1, 0.01, 0.001, 0.0001],\n",
       "                         &#x27;kernel&#x27;: [&#x27;linear&#x27;]},\n",
       "             verbose=3)</pre><b>In a Jupyter environment, please rerun this cell to show the HTML representation or trust the notebook. <br />On GitHub, the HTML representation is unable to render, please try loading this page with nbviewer.org.</b></div><div class=\"sk-container\" hidden><div class=\"sk-item sk-dashed-wrapped\"><div class=\"sk-label-container\"><div class=\"sk-label sk-toggleable\"><input class=\"sk-toggleable__control sk-hidden--visually\" id=\"sk-estimator-id-2\" type=\"checkbox\" ><label for=\"sk-estimator-id-2\" class=\"sk-toggleable__label sk-toggleable__label-arrow\">GridSearchCV</label><div class=\"sk-toggleable__content\"><pre>GridSearchCV(cv=5, estimator=SVR(),\n",
       "             param_grid={&#x27;C&#x27;: [0.1, 1, 10, 100, 1000],\n",
       "                         &#x27;epsilon&#x27;: [0.1, 0.2, 0.3],\n",
       "                         &#x27;gamma&#x27;: [1, 0.1, 0.01, 0.001, 0.0001],\n",
       "                         &#x27;kernel&#x27;: [&#x27;linear&#x27;]},\n",
       "             verbose=3)</pre></div></div></div><div class=\"sk-parallel\"><div class=\"sk-parallel-item\"><div class=\"sk-item\"><div class=\"sk-label-container\"><div class=\"sk-label sk-toggleable\"><input class=\"sk-toggleable__control sk-hidden--visually\" id=\"sk-estimator-id-3\" type=\"checkbox\" ><label for=\"sk-estimator-id-3\" class=\"sk-toggleable__label sk-toggleable__label-arrow\">estimator: SVR</label><div class=\"sk-toggleable__content\"><pre>SVR()</pre></div></div></div><div class=\"sk-serial\"><div class=\"sk-item\"><div class=\"sk-estimator sk-toggleable\"><input class=\"sk-toggleable__control sk-hidden--visually\" id=\"sk-estimator-id-4\" type=\"checkbox\" ><label for=\"sk-estimator-id-4\" class=\"sk-toggleable__label sk-toggleable__label-arrow\">SVR</label><div class=\"sk-toggleable__content\"><pre>SVR()</pre></div></div></div></div></div></div></div></div></div></div>"
      ],
      "text/plain": [
       "GridSearchCV(cv=5, estimator=SVR(),\n",
       "             param_grid={'C': [0.1, 1, 10, 100, 1000],\n",
       "                         'epsilon': [0.1, 0.2, 0.3],\n",
       "                         'gamma': [1, 0.1, 0.01, 0.001, 0.0001],\n",
       "                         'kernel': ['linear']},\n",
       "             verbose=3)"
      ]
     },
     "execution_count": 19,
     "metadata": {},
     "output_type": "execute_result"
    }
   ],
   "source": [
    "grid.fit(X_train,y_train)"
   ]
  },
  {
   "cell_type": "code",
   "execution_count": 20,
   "metadata": {
    "colab": {
     "base_uri": "https://localhost:8080/"
    },
    "executionInfo": {
     "elapsed": 438,
     "status": "ok",
     "timestamp": 1693386232071,
     "user": {
      "displayName": "Vipil Khapre",
      "userId": "11657927420291305997"
     },
     "user_tz": -330
    },
    "id": "aiAhWmiEqIq8",
    "outputId": "824dce68-e429-4788-e842-6ebc502e80d2"
   },
   "outputs": [
    {
     "data": {
      "text/plain": [
       "{'C': 1000, 'epsilon': 0.3, 'gamma': 1, 'kernel': 'linear'}"
      ]
     },
     "execution_count": 20,
     "metadata": {},
     "output_type": "execute_result"
    }
   ],
   "source": [
    "grid.best_params_"
   ]
  },
  {
   "cell_type": "code",
   "execution_count": 21,
   "metadata": {
    "colab": {
     "base_uri": "https://localhost:8080/"
    },
    "executionInfo": {
     "elapsed": 15,
     "status": "ok",
     "timestamp": 1693386235597,
     "user": {
      "displayName": "Vipil Khapre",
      "userId": "11657927420291305997"
     },
     "user_tz": -330
    },
    "id": "m4Xa7ScMqIq9",
    "outputId": "db38dc21-091f-481a-9155-b090bfc9fa5c"
   },
   "outputs": [
    {
     "name": "stdout",
     "output_type": "stream",
     "text": [
      "0.9991632106391394\n"
     ]
    }
   ],
   "source": [
    "## Prediction\n",
    "y_pred4=grid.predict(X_test)\n",
    "print(r2_score(y_test,y_pred4))"
   ]
  },
  {
   "cell_type": "code",
   "execution_count": null,
   "metadata": {
    "id": "VUH5RByIqIq9"
   },
   "outputs": [],
   "source": []
  }
 ],
 "metadata": {
  "colab": {
   "provenance": []
  },
  "kernelspec": {
   "display_name": "Python 3 (ipykernel)",
   "language": "python",
   "name": "python3"
  },
  "language_info": {
   "codemirror_mode": {
    "name": "ipython",
    "version": 3
   },
   "file_extension": ".py",
   "mimetype": "text/x-python",
   "name": "python",
   "nbconvert_exporter": "python",
   "pygments_lexer": "ipython3",
   "version": "3.10.9"
  }
 },
 "nbformat": 4,
 "nbformat_minor": 1
}
