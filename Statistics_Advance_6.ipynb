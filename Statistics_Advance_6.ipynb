{
  "nbformat": 4,
  "nbformat_minor": 0,
  "metadata": {
    "colab": {
      "provenance": [],
      "authorship_tag": "ABX9TyNxhKOqk7dKQHY+L5M4kFWf"
    },
    "kernelspec": {
      "name": "python3",
      "display_name": "Python 3"
    },
    "language_info": {
      "name": "python"
    }
  },
  "cells": [
    {
      "cell_type": "code",
      "execution_count": 32,
      "metadata": {
        "id": "0rNBR3URlYb1"
      },
      "outputs": [],
      "source": [
        "import scipy.stats as stats\n",
        "import numpy as np\n",
        "import statsmodels.api as sm\n",
        "import pandas as pd\n",
        "from statsmodels.formula.api import ols\n",
        "from statsmodels.stats.multicomp import pairwise_tukeyhsd\n",
        "from scipy.stats import f_oneway\n",
        "from statsmodels.sandbox.stats.multicomp import MultiComparison\n"
      ]
    },
    {
      "cell_type": "markdown",
      "source": [
        "A1. Assumptions for ANOVA:\n",
        " * Independence of observations,\n",
        " * Normality within groups,\n",
        " * Homogeneity of variances. Violations: outliers, non-normality, unequal variances.\n",
        "\n",
        "A2. Types of ANOVA:\n",
        "* One-way ANOVA - compare means of three or more groups.\n",
        "* Two-way ANOVA - assess main and interaction effects.\n",
        "* Repeated measures ANOVA - analyze within-subject changes over time.\n",
        "\n",
        "A3. Partitioning of Variance: ANOVA decomposes total variance into between-group and within-group components. Important for understanding the sources of variability and assessing group differences.\n"
      ],
      "metadata": {
        "id": "p5iJf-OZlZv8"
      }
    },
    {
      "cell_type": "code",
      "source": [
        "#Answer 2:\n",
        "\n",
        "# Assume you have a list of data and corresponding group labels\n",
        "group1_data = [1, 2, 3, 4]\n",
        "group2_data = [5, 6, 7, 8]\n",
        "group3_data = [9, 10, 11, 12]\n",
        "data = [group1_data, group2_data, group3_data]\n",
        "group_labels = ['Group1', 'Group2', 'Group3']\n",
        "\n",
        "# Calculate overall mean\n",
        "overall_mean = np.mean(np.concatenate(data))\n",
        "\n",
        "# Calculate SST (Total Sum of Squares)\n",
        "ss_total = np.sum((np.concatenate(data) - overall_mean)**2)\n",
        "\n",
        "# Calculate SSB (Between-group Sum of Squares)\n",
        "ss_between = sum(len(group) * (np.mean(group) - overall_mean)**2 for group in data)\n",
        "\n",
        "# Calculate SSW (Within-group Sum of Squares)\n",
        "ss_within = sum(np.sum((x - np.mean(group))**2 for x in group) for group in data)\n",
        "\n",
        "# Verify that SST is the sum of SSB and SSW\n",
        "assert np.isclose(ss_total, ss_between + ss_within)\n",
        "\n",
        "# Degrees of freedom\n",
        "df_between = len(data) - 1\n",
        "df_within = sum(len(group) - 1 for group in data)\n",
        "df_total = len(np.concatenate(data)) - 1\n",
        "\n",
        "# Mean Squares\n",
        "ms_between = ss_between / df_between\n",
        "ms_within = ss_within / df_within\n",
        "\n",
        "# F-statistic\n",
        "f_statistic = ms_between / ms_within\n",
        "\n",
        "# P-value\n",
        "p_value = 1 - stats.f.cdf(f_statistic, df_between, df_within)\n",
        "\n",
        "# Output results\n",
        "print(\"SST:\", ss_total)\n",
        "print(\"SSB:\", ss_between)\n",
        "print(\"SSW:\", ss_within)\n",
        "print(\"Degrees of Freedom - Between:\", df_between)\n",
        "print(\"Degrees of Freedom - Within:\", df_within)\n",
        "print(\"Degrees of Freedom - Total:\", df_total)\n",
        "print(\"Mean Square - Between:\", ms_between)\n",
        "print(\"Mean Square - Within:\", ms_within)\n",
        "print(\"F-statistic:\", f_statistic)\n",
        "print(\"P-value:\", p_value)\n"
      ],
      "metadata": {
        "colab": {
          "base_uri": "https://localhost:8080/"
        },
        "id": "b5D5pCU0ldlH",
        "outputId": "1c66590a-9a82-4200-f74d-d5dd7fa578d5"
      },
      "execution_count": 8,
      "outputs": [
        {
          "output_type": "stream",
          "name": "stdout",
          "text": [
            "SST: 143.0\n",
            "SSB: 128.0\n",
            "SSW: 15.0\n",
            "Degrees of Freedom - Between: 2\n",
            "Degrees of Freedom - Within: 9\n",
            "Degrees of Freedom - Total: 11\n",
            "Mean Square - Between: 64.0\n",
            "Mean Square - Within: 1.6666666666666667\n",
            "F-statistic: 38.4\n",
            "P-value: 3.921014940799772e-05\n"
          ]
        },
        {
          "output_type": "stream",
          "name": "stderr",
          "text": [
            "<ipython-input-8-1279dcf48fa7>:18: DeprecationWarning: Calling np.sum(generator) is deprecated, and in the future will give a different result. Use np.sum(np.fromiter(generator)) or the python sum builtin instead.\n",
            "  ss_within = sum(np.sum((x - np.mean(group))**2 for x in group) for group in data)\n"
          ]
        }
      ]
    },
    {
      "cell_type": "markdown",
      "source": [
        "A6. Interpretation: The groups are significantly different (p=0.02), suggesting at least one group mean differs. Further analyses or comparisons are needed to identify specific differences between groups.\n",
        "\n",
        "A7. Handling Missing Data: Impute or exclude missing values. Consequences: biased results, reduced power. Methods: mean imputation, multiple imputation, or statistical techniques.\n",
        "\n",
        "A8. Post-hoc Tests: Tukey's HSD for equal sample sizes, Bonferroni for unequal sizes. Use when ANOVA indicates group differences. Example: Comparing means after finding a significant overall difference."
      ],
      "metadata": {
        "id": "NIpYvcDBngmD"
      }
    },
    {
      "cell_type": "code",
      "source": [
        "#Answer 9:\n",
        "\n",
        "# Assuming you have the weight loss data for each diet\n",
        "diet_A = [2, 3, 4, 3, 5, 6, 4, 3, 2, 1, 2, 3, 4, 5, 3, 2, 4, 5, 6, 7, 3, 4, 5, 3, 2, 4, 5, 6, 4, 3, 2, 1, 2, 3, 4, 5, 3, 2, 4, 5, 6, 7, 3, 4, 5, 3, 2, 4, 5]\n",
        "diet_B = [3, 4, 5, 4, 6, 7, 5, 4, 3, 2, 3, 4, 5, 6, 4, 3, 5, 6, 7, 8, 4, 5, 6, 4, 3, 5, 6, 7, 5, 4, 3, 2, 3, 4, 5, 6, 4, 3, 5, 6, 7, 8, 4, 5, 6, 4, 3, 5, 6]\n",
        "diet_C = [4, 5, 6, 5, 7, 8, 6, 5, 4, 3, 4, 5, 6, 7, 5, 4, 6, 7, 8, 9, 5, 6, 7, 5, 4, 6, 7, 8, 6, 5, 4, 3, 4, 5, 6, 7, 5, 4, 6, 7, 8, 9, 5, 6, 7, 5, 4, 6, 7]\n",
        "\n",
        "# Combine data into a list of arrays\n",
        "data = [diet_A, diet_B, diet_C]\n",
        "\n",
        "# Perform one-way ANOVA\n",
        "f_statistic, p_value = stats.f_oneway(*data)\n",
        "\n",
        "# Output results\n",
        "print(\"F-statistic:\", f_statistic)\n",
        "print(\"P-value:\", p_value)\n"
      ],
      "metadata": {
        "colab": {
          "base_uri": "https://localhost:8080/"
        },
        "id": "WSsfLFCtleH_",
        "outputId": "b0667309-da48-44db-dbff-034b966fa59b"
      },
      "execution_count": 12,
      "outputs": [
        {
          "output_type": "stream",
          "name": "stdout",
          "text": [
            "F-statistic: 22.283062645011604\n",
            "P-value: 3.7043727062106384e-09\n"
          ]
        }
      ]
    },
    {
      "cell_type": "code",
      "source": [
        "#Answer 10:\n",
        "# Assuming you have a DataFrame with columns: 'Time', 'Program', 'Experience'\n",
        "# Create a sample DataFrame\n",
        "\n",
        "data = {\n",
        "    'Time': [10, 12, 15, 11, 13, 16, 14, 18, 20, 19, 22, 25, 18, 21, 23, 16, 19, 22, 26, 24, 28, 30, 14, 16, 18, 12, 14, 17, 19, 21],\n",
        "    'Program': ['A'] * 10 + ['B'] * 10 + ['C'] * 10,\n",
        "    'Experience': ['Novice'] * 15 + ['Experienced'] * 15\n",
        "}\n",
        "\n",
        "df = pd.DataFrame(data)\n",
        "\n",
        "# Fit the two-way ANOVA model\n",
        "model = ols('Time ~ C(Program) + C(Experience) + C(Program):C(Experience)', data=df).fit()\n",
        "anova_table = sm.stats.anova_lm(model, typ=2)\n",
        "\n",
        "# Output results\n",
        "print(anova_table)\n",
        "\n",
        "\n"
      ],
      "metadata": {
        "colab": {
          "base_uri": "https://localhost:8080/"
        },
        "id": "je7r4-ttleLX",
        "outputId": "5c360f9d-452b-4c2d-b9bf-c1bfa261b9ec"
      },
      "execution_count": 16,
      "outputs": [
        {
          "output_type": "stream",
          "name": "stdout",
          "text": [
            "                              sum_sq    df          F    PR(>F)\n",
            "C(Program)                417.237361   2.0  10.542441  0.003206\n",
            "C(Experience)                    NaN   1.0        NaN       NaN\n",
            "C(Program):C(Experience)    2.083333   2.0   0.052640  0.820327\n",
            "Residual                  514.500000  26.0        NaN       NaN\n"
          ]
        },
        {
          "output_type": "stream",
          "name": "stderr",
          "text": [
            "/usr/local/lib/python3.10/dist-packages/statsmodels/base/model.py:1888: ValueWarning: covariance of constraints does not have full rank. The number of constraints is 2, but rank is 1\n",
            "  warnings.warn('covariance of constraints does not have full '\n",
            "/usr/local/lib/python3.10/dist-packages/statsmodels/base/model.py:1888: ValueWarning: covariance of constraints does not have full rank. The number of constraints is 1, but rank is 0\n",
            "  warnings.warn('covariance of constraints does not have full '\n",
            "/usr/local/lib/python3.10/dist-packages/statsmodels/base/model.py:1917: RuntimeWarning: invalid value encountered in divide\n",
            "  F /= J\n",
            "/usr/local/lib/python3.10/dist-packages/statsmodels/base/model.py:1888: ValueWarning: covariance of constraints does not have full rank. The number of constraints is 2, but rank is 1\n",
            "  warnings.warn('covariance of constraints does not have full '\n"
          ]
        }
      ]
    },
    {
      "cell_type": "code",
      "source": [
        "#Answer 11:\n",
        "\n",
        "# Assuming you have test score data for control and experimental groups\n",
        "control_group = [75, 80, 85, 78, 82, 79, 81, 77, 83, 80]\n",
        "experimental_group = [85, 88, 92, 80, 87, 89, 91, 84, 90, 86]\n",
        "\n",
        "# Perform two-sample t-test\n",
        "t_statistic, p_value = stats.ttest_ind(control_group, experimental_group)\n",
        "\n",
        "# Output results\n",
        "print(\"Two-Sample T-Test:\")\n",
        "print(\"T-statistic:\", t_statistic)\n",
        "print(\"P-value:\", p_value)\n",
        "\n",
        "# If results are significant, perform post-hoc test (Tukey's HSD)\n",
        "if p_value < 0.05:\n",
        "    data = control_group + experimental_group\n",
        "    groups = ['Control'] * len(control_group) + ['Experimental'] * len(experimental_group)\n",
        "    tukey_results = pairwise_tukeyhsd(data, groups)\n",
        "    print(\"\\nPost-Hoc (Tukey's HSD):\")\n",
        "    print(tukey_results)\n"
      ],
      "metadata": {
        "colab": {
          "base_uri": "https://localhost:8080/"
        },
        "id": "NHxPEncDleN5",
        "outputId": "7560ca8c-28be-4839-9053-fca416a9be4e"
      },
      "execution_count": 19,
      "outputs": [
        {
          "output_type": "stream",
          "name": "stdout",
          "text": [
            "Two-Sample T-Test:\n",
            "T-statistic: -4.883928821778255\n",
            "P-value: 0.00011943155310842275\n",
            "\n",
            "Post-Hoc (Tukey's HSD):\n",
            "   Multiple Comparison of Means - Tukey HSD, FWER=0.05    \n",
            "==========================================================\n",
            " group1    group2    meandiff p-adj  lower   upper  reject\n",
            "----------------------------------------------------------\n",
            "Control Experimental      7.2 0.0001 4.1028 10.2972   True\n",
            "----------------------------------------------------------\n"
          ]
        }
      ]
    },
    {
      "cell_type": "code",
      "source": [
        "#Answer 12:\n",
        "# Create a sample DataFrame\n",
        "data = {\n",
        "    'Store': ['A'] * 30 + ['B'] * 30 + ['C'] * 30,\n",
        "    'Sales': np.random.randint(100, 1000, 90)\n",
        "}\n",
        "\n",
        "# Ensure that each store has the same number of observations\n",
        "# For the sake of example, let's assume each store has 30 days of sales data\n",
        "data['Sales'] = np.concatenate([np.random.randint(100, 1000, 30) for _ in range(3)])\n",
        "\n",
        "df = pd.DataFrame(data)\n",
        "\n",
        "# Perform one-way ANOVA\n",
        "anova_result = f_oneway(df['Sales'][df['Store'] == 'A'],\n",
        "                         df['Sales'][df['Store'] == 'B'],\n",
        "                         df['Sales'][df['Store'] == 'C'])\n",
        "\n",
        "# Output results\n",
        "print(\"One-way ANOVA:\")\n",
        "print(\"F-statistic:\", anova_result.statistic)\n",
        "print(\"P-value:\", anova_result.pvalue)\n",
        "\n",
        "# If results are significant, perform post-hoc test (Tukey's HSD)\n",
        "if anova_result.pvalue < 0.05:\n",
        "    tukey_results = pairwise_tukeyhsd(df['Sales'], df['Store'])\n",
        "    print(\"\\nPost-Hoc (Tukey's HSD):\")\n",
        "    print(tukey_results.summary())\n"
      ],
      "metadata": {
        "colab": {
          "base_uri": "https://localhost:8080/"
        },
        "id": "9Lj6EdeopKDH",
        "outputId": "b0822ac9-d2c8-4503-96b8-55c688c97483"
      },
      "execution_count": 34,
      "outputs": [
        {
          "output_type": "stream",
          "name": "stdout",
          "text": [
            "One-way ANOVA:\n",
            "F-statistic: 1.8307802917104692\n",
            "P-value: 0.16640972600773127\n"
          ]
        }
      ]
    },
    {
      "cell_type": "code",
      "source": [],
      "metadata": {
        "id": "6hWYNr5AqFeH"
      },
      "execution_count": 27,
      "outputs": []
    },
    {
      "cell_type": "code",
      "source": [],
      "metadata": {
        "id": "qahCsp_arQmC"
      },
      "execution_count": null,
      "outputs": []
    }
  ]
}