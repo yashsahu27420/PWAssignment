{
  "nbformat": 4,
  "nbformat_minor": 0,
  "metadata": {
    "colab": {
      "provenance": []
    },
    "kernelspec": {
      "name": "python3",
      "display_name": "Python 3"
    },
    "language_info": {
      "name": "python"
    }
  },
  "cells": [
    {
      "cell_type": "code",
      "source": [
        "import requests\n",
        "from bs4 import BeautifulSoup as bs4\n",
        "import pandas as pd\n",
        "from urllib.request import urlopen as uq\n",
        "import csv\n",
        "import pandas as pd"
      ],
      "metadata": {
        "id": "frRey1rVIM-t"
      },
      "execution_count": null,
      "outputs": []
    },
    {
      "cell_type": "code",
      "execution_count": 140,
      "metadata": {
        "id": "cxtlr3tIGF7j"
      },
      "outputs": [],
      "source": [
        "#Q1. Write a python program to extract the video URL of the first five videos.\n",
        "\n",
        "#Q2. Write a python program to extract the URL of the video thumbnails of the first five videos.\n",
        "#Q3. Write a python program to extract the title of the first five videos.\n",
        "#Q4. Write a python program to extract the number of views of the first five videos.\n",
        "#Q5. Write a python program to extract the time of posting of video for the first five videos.\n",
        "#Note: Save all the data scraped in the above questions in a CSV file."
      ]
    },
    {
      "cell_type": "code",
      "source": [
        "import re\n",
        "import requests\n",
        "from xml.sax.saxutils import unescape\n",
        "\n",
        "# Get the HTML of the YouTube page\n",
        "url = \"https://www.youtube.com/@PW-Foundation/videos\"\n",
        "response = requests.get(url)\n",
        "html = response.content\n",
        "\n",
        "# Decode the HTML bytes to a string\n",
        "html_string = unescape(html.decode(\"utf-8\"))\n",
        "\n",
        "# Extract the video IDs of the first five videos\n",
        "video_id_regex = r'\"videoId\":\"([^\"]+)\"'\n",
        "video_id_matches = re.findall(video_id_regex, html_string)\n",
        "video_ids = video_id_matches[1:21:4]\n",
        "\n",
        "# Extract the video URL of the first five videos\n",
        "video_urls = []\n",
        "for video_id in video_ids:\n",
        "    video_url = f\"https://www.youtube.com/watch?v={video_id}\"\n",
        "    video_urls.append(video_url)\n",
        "\n",
        "# Print the video URLs\n",
        "for video_url in video_urls:\n",
        "   print(video_url)\n"
      ],
      "metadata": {
        "colab": {
          "base_uri": "https://localhost:8080/"
        },
        "id": "1FZDQblwPvqr",
        "outputId": "40df47b9-7b9c-47ae-8a04-607b03e154da"
      },
      "execution_count": 151,
      "outputs": [
        {
          "output_type": "stream",
          "name": "stdout",
          "text": [
            "https://www.youtube.com/watch?v=PXcgTSs-_p8\n",
            "https://www.youtube.com/watch?v=JGJv4jlf8aQ\n",
            "https://www.youtube.com/watch?v=0dMJLkO-SSw\n",
            "https://www.youtube.com/watch?v=0CW4VbfH4kk\n",
            "https://www.youtube.com/watch?v=gs2Ss52phYg\n"
          ]
        }
      ]
    },
    {
      "cell_type": "code",
      "source": [
        "#Q2. Write a python program to extract the URL of the video thumbnails of the first five videos."
      ],
      "metadata": {
        "id": "E2j5pmPNVSGj"
      },
      "execution_count": 132,
      "outputs": []
    },
    {
      "cell_type": "code",
      "source": [
        "# Extract the video thumbnail URLs of the first five videos\n",
        "thumbnail_url_regex = r'\"thumbnail\":{\"thumbnails\":\\[{.*?\"url\":\"([^\"]+)\"}'\n",
        "thumbnail_url_matches = re.findall(thumbnail_url_regex, html_string)\n",
        "thumbnail_urls = thumbnail_url_matches[:5]\n",
        "\n",
        "# Print the thumbnail URLs\n",
        "for thumbnail_url in thumbnail_urls:\n",
        "    print(thumbnail_url)\n",
        "\n"
      ],
      "metadata": {
        "colab": {
          "base_uri": "https://localhost:8080/"
        },
        "id": "iZCK9w2ff-_N",
        "outputId": "824f4d30-01a8-467a-e6c8-3a395f7f401c"
      },
      "execution_count": 133,
      "outputs": [
        {
          "output_type": "stream",
          "name": "stdout",
          "text": [
            "https://rr2---sn-q4flrnes.googlevideo.com/initplayback?source=youtube\\u0026oeis=1\\u0026c=WEB\\u0026oad=3200\\u0026ovd=3200\\u0026oaad=11000\\u0026oavd=11000\\u0026ocs=700\\u0026oewis=1\\u0026oputc=1\\u0026ofpcc=1\\u0026beids=24350018\\u0026msp=1\\u0026odepv=1\\u0026id=3d77204d2b3efe9f\\u0026ip=34.125.3.212\\u0026mt=1695935669\\u0026oweuc=\\u0026pxtags=Cg4KAnR4EggyNDU1NDA2Ng\\u0026rxtags=Cg4KAnR4EggyNDU1NDA2Mw%2CCg4KAnR4EggyNDU1NDA2NA%2CCg4KAnR4EggyNDU1NDA2NQ%2CCg4KAnR4EggyNDU1NDA2Ng%2CCg4KAnR4EggyNDU1NDA2Nw%2CCg4KAnR4EggyNDU1NDA2OA\n",
            "https://rr1---sn-q4flrnsk.googlevideo.com/initplayback?source=youtube\\u0026oeis=1\\u0026c=WEB\\u0026oad=3200\\u0026ovd=3200\\u0026oaad=11000\\u0026oavd=11000\\u0026ocs=700\\u0026oewis=1\\u0026oputc=1\\u0026ofpcc=1\\u0026beids=24350018\\u0026msp=1\\u0026odepv=1\\u0026id=24626fe2395ff1a4\\u0026ip=34.125.3.212\\u0026mt=1695935669\\u0026oweuc=\\u0026pxtags=Cg4KAnR4EggyNDU1NDA2Ng\\u0026rxtags=Cg4KAnR4EggyNDU1NDA2Mw%2CCg4KAnR4EggyNDU1NDA2NA%2CCg4KAnR4EggyNDU1NDA2NQ%2CCg4KAnR4EggyNDU1NDA2Ng%2CCg4KAnR4EggyNDU1NDA2Nw%2CCg4KAnR4EggyNDU1NDA2OA\n",
            "https://rr3---sn-q4flrnsk.googlevideo.com/initplayback?source=youtube\\u0026oeis=1\\u0026c=WEB\\u0026oad=3200\\u0026ovd=3200\\u0026oaad=11000\\u0026oavd=11000\\u0026ocs=700\\u0026oewis=1\\u0026oputc=1\\u0026ofpcc=1\\u0026beids=24350018\\u0026msp=1\\u0026odepv=1\\u0026id=d1d3092e43be492c\\u0026ip=34.125.3.212\\u0026mt=1695935669\\u0026oweuc=\\u0026pxtags=Cg4KAnR4EggyNDU1NDA2Ng\\u0026rxtags=Cg4KAnR4EggyNDU1NDA2Mw%2CCg4KAnR4EggyNDU1NDA2NA%2CCg4KAnR4EggyNDU1NDA2NQ%2CCg4KAnR4EggyNDU1NDA2Ng%2CCg4KAnR4EggyNDU1NDA2Nw%2CCg4KAnR4EggyNDU1NDA2OA\n",
            "https://rr2---sn-q4fzen7e.googlevideo.com/initplayback?source=youtube\\u0026oeis=1\\u0026c=WEB\\u0026oad=3200\\u0026ovd=3200\\u0026oaad=11000\\u0026oavd=11000\\u0026ocs=700\\u0026oewis=1\\u0026oputc=1\\u0026ofpcc=1\\u0026beids=24350018\\u0026msp=1\\u0026odepv=1\\u0026id=d025b855b7c7e249\\u0026ip=34.125.3.212\\u0026mt=1695935669\\u0026oweuc=\\u0026pxtags=Cg4KAnR4EggyNDU1NDA2Ng\\u0026rxtags=Cg4KAnR4EggyNDU1NDA2Mw%2CCg4KAnR4EggyNDU1NDA2NA%2CCg4KAnR4EggyNDU1NDA2NQ%2CCg4KAnR4EggyNDU1NDA2Ng%2CCg4KAnR4EggyNDU1NDA2Nw%2CCg4KAnR4EggyNDU1NDA2OA\n",
            "https://rr2---sn-q4flrn7y.googlevideo.com/initplayback?source=youtube\\u0026oeis=1\\u0026c=WEB\\u0026oad=3200\\u0026ovd=3200\\u0026oaad=11000\\u0026oavd=11000\\u0026ocs=700\\u0026oewis=1\\u0026oputc=1\\u0026ofpcc=1\\u0026beids=24350018\\u0026msp=1\\u0026odepv=1\\u0026id=82cd92b39da98588\\u0026ip=34.125.3.212\\u0026mt=1695935669\\u0026oweuc=\\u0026pxtags=Cg4KAnR4EggyNDU1NDA2Ng\\u0026rxtags=Cg4KAnR4EggyNDU1NDA2Mw%2CCg4KAnR4EggyNDU1NDA2NA%2CCg4KAnR4EggyNDU1NDA2NQ%2CCg4KAnR4EggyNDU1NDA2Ng%2CCg4KAnR4EggyNDU1NDA2Nw%2CCg4KAnR4EggyNDU1NDA2OA\n"
          ]
        }
      ]
    },
    {
      "cell_type": "code",
      "source": [
        "#Q3: Extract the title of the first five videos:"
      ],
      "metadata": {
        "id": "YdsTNlzJiqLw"
      },
      "execution_count": 134,
      "outputs": []
    },
    {
      "cell_type": "code",
      "source": [
        "# Get the HTML of the YouTube page\n",
        "url = \"https://www.youtube.com/@PW-Foundation/videos\"\n",
        "response = requests.get(url)\n",
        "html = response.content\n",
        "\n",
        "# Parse the HTML content using BeautifulSoup\n",
        "soup = bs4(html, 'html.parser')\n",
        "\n",
        "# Extract the first five video title elements\n",
        "video_title_elements = soup.find_all('yt-formatted-string', {'id': 'video-title'})[:5]\n",
        "\n",
        "# Extract the text content (title) from each element\n",
        "video_titles = [title.text for title in video_title_elements]\n",
        "\n",
        "# Print the video titles\n",
        "for title in video_titles:\n",
        "    print(title)\n"
      ],
      "metadata": {
        "id": "BYdogU4Cf_Dx"
      },
      "execution_count": 135,
      "outputs": []
    },
    {
      "cell_type": "code",
      "source": [
        "# Extract the video view counts of the first five videos\n",
        "view_count_regex = r'\"viewCountText\":{\"simpleText\":\"([^\"]+)\"}'\n",
        "view_count_matches = re.findall(view_count_regex, html_string)\n",
        "video_views = view_count_matches[:5]\n",
        "\n",
        "# Print the video view counts\n",
        "for views in video_views:\n",
        "    print(views)\n"
      ],
      "metadata": {
        "colab": {
          "base_uri": "https://localhost:8080/"
        },
        "id": "Ei47SXkof_Iu",
        "outputId": "13eb0253-996c-498d-e1ab-d5b92a41e735"
      },
      "execution_count": 136,
      "outputs": [
        {
          "output_type": "stream",
          "name": "stdout",
          "text": [
            "3,839 views\n",
            "7,661 views\n",
            "10,848 views\n",
            "24,040 views\n",
            "57,105 views\n"
          ]
        }
      ]
    },
    {
      "cell_type": "code",
      "source": [
        "# Extract the video upload times of the first five videos\n",
        "upload_time_regex = r'\"publishedTimeText\":{\"simpleText\":\"([^\"]+)\"}'\n",
        "upload_time_matches = re.findall(upload_time_regex, html_string)\n",
        "upload_times = upload_time_matches[:5]\n",
        "\n",
        "# Print the video upload times\n",
        "for upload_time in upload_times:\n",
        "    print(upload_time)\n"
      ],
      "metadata": {
        "colab": {
          "base_uri": "https://localhost:8080/"
        },
        "id": "WfkXTdVif_Mk",
        "outputId": "4990e920-cffb-4c11-d825-c1cb3e8c5f65"
      },
      "execution_count": 137,
      "outputs": [
        {
          "output_type": "stream",
          "name": "stdout",
          "text": [
            "9 hours ago\n",
            "1 day ago\n",
            "2 days ago\n",
            "3 days ago\n",
            "5 days ago\n"
          ]
        }
      ]
    },
    {
      "cell_type": "code",
      "source": [
        "import csv\n",
        "\n",
        "# Check if all lists have the same length\n",
        "if len(video_urls) == len(thumbnail_urls) == len(upload_times) == len(video_views) :\n",
        "  with open('video_data55.csv', 'w', newline='') as csvfile:\n",
        "        writer = csv.writer(csvfile)\n",
        "        writer.writerow(['Video URL', 'Thumbnail URL', 'Upload Time', 'Views', 'Title'])\n",
        "        for i in range(len(video_urls)):\n",
        "            writer.writerow([video_urls, thumbnail_urls, upload_times, video_views, video_titles])\n"
      ],
      "metadata": {
        "id": "-Qey57mHmAZR"
      },
      "execution_count": 149,
      "outputs": []
    },
    {
      "cell_type": "code",
      "source": [
        "\n",
        "# Read the CSV into a DataFrame\n",
        "df = pd.read_csv(\"video_data55.csv\")\n",
        "\n",
        "# Display the DataFrame\n",
        "print(df)"
      ],
      "metadata": {
        "colab": {
          "base_uri": "https://localhost:8080/"
        },
        "id": "R4WKSdD1svJh",
        "outputId": "8a3ba462-313d-4412-946f-15904e459284"
      },
      "execution_count": 150,
      "outputs": [
        {
          "output_type": "stream",
          "name": "stdout",
          "text": [
            "                                           Video URL  \\\n",
            "0  ['https://www.youtube.com/watch?v=PXcgTSs-_p8'...   \n",
            "1  ['https://www.youtube.com/watch?v=PXcgTSs-_p8'...   \n",
            "2  ['https://www.youtube.com/watch?v=PXcgTSs-_p8'...   \n",
            "3  ['https://www.youtube.com/watch?v=PXcgTSs-_p8'...   \n",
            "4  ['https://www.youtube.com/watch?v=PXcgTSs-_p8'...   \n",
            "\n",
            "                                       Thumbnail URL  \\\n",
            "0  ['https://rr2---sn-q4flrnes.googlevideo.com/in...   \n",
            "1  ['https://rr2---sn-q4flrnes.googlevideo.com/in...   \n",
            "2  ['https://rr2---sn-q4flrnes.googlevideo.com/in...   \n",
            "3  ['https://rr2---sn-q4flrnes.googlevideo.com/in...   \n",
            "4  ['https://rr2---sn-q4flrnes.googlevideo.com/in...   \n",
            "\n",
            "                                         Upload Time  \\\n",
            "0  ['9 hours ago', '1 day ago', '2 days ago', '3 ...   \n",
            "1  ['9 hours ago', '1 day ago', '2 days ago', '3 ...   \n",
            "2  ['9 hours ago', '1 day ago', '2 days ago', '3 ...   \n",
            "3  ['9 hours ago', '1 day ago', '2 days ago', '3 ...   \n",
            "4  ['9 hours ago', '1 day ago', '2 days ago', '3 ...   \n",
            "\n",
            "                                               Views Title  \n",
            "0  ['3,839 views', '7,661 views', '10,848 views',...    []  \n",
            "1  ['3,839 views', '7,661 views', '10,848 views',...    []  \n",
            "2  ['3,839 views', '7,661 views', '10,848 views',...    []  \n",
            "3  ['3,839 views', '7,661 views', '10,848 views',...    []  \n",
            "4  ['3,839 views', '7,661 views', '10,848 views',...    []  \n"
          ]
        }
      ]
    },
    {
      "cell_type": "code",
      "source": [],
      "metadata": {
        "id": "B-SqyuKFpXa9"
      },
      "execution_count": 139,
      "outputs": []
    },
    {
      "cell_type": "code",
      "source": [],
      "metadata": {
        "id": "i2thtYETrEhu"
      },
      "execution_count": null,
      "outputs": []
    }
  ]
}