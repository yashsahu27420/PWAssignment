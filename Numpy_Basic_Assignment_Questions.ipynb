{
  "nbformat": 4,
  "nbformat_minor": 0,
  "metadata": {
    "colab": {
      "provenance": [],
      "authorship_tag": "ABX9TyOptAn9oXakkvOTHb4lkIuV",
      "include_colab_link": true
    },
    "kernelspec": {
      "name": "python3",
      "display_name": "Python 3"
    },
    "language_info": {
      "name": "python"
    }
  },
  "cells": [
    {
      "cell_type": "markdown",
      "metadata": {
        "id": "view-in-github",
        "colab_type": "text"
      },
      "source": [
        "<a href=\"https://colab.research.google.com/github/yashsahu27420/PWAssignment/blob/main/Numpy_Basic_Assignment_Questions.ipynb\" target=\"_parent\"><img src=\"https://colab.research.google.com/assets/colab-badge.svg\" alt=\"Open In Colab\"/></a>"
      ]
    },
    {
      "cell_type": "code",
      "execution_count": 1,
      "metadata": {
        "colab": {
          "base_uri": "https://localhost:8080/"
        },
        "id": "eTONDasnh7Yo",
        "outputId": "4e7352cf-c9c8-4ce8-f52b-3a33b1c0fd1f"
      },
      "outputs": [
        {
          "output_type": "stream",
          "name": "stdout",
          "text": [
            "Data type of list_: <class 'list'>\n",
            "Data type of array_list: <class 'numpy.ndarray'>\n"
          ]
        }
      ],
      "source": [
        "import numpy as np\n",
        "\n",
        "# Q1 Q1. Is there any difference in the data type of variables list_ and array_list? If there is then write a code to print the data types of both the variables.\n",
        "list_ = ['1', '2', '3', '4', '5']\n",
        "array_list = np.array(object=list_)\n",
        "print(\"Data type of list_:\", type(list_))\n",
        "print(\"Data type of array_list:\", type(array_list))\n",
        "\n"
      ]
    },
    {
      "cell_type": "code",
      "source": [
        "#Q2. Write a code to print the data type of each and every element of both the variables list_ and arra_list.\n",
        "for elem in list_:\n",
        "    print(\"Data type of element in list_:\", type(elem))\n",
        "for elem in array_list:\n",
        "    print(\"Data type of element in array_list:\", type(elem))\n"
      ],
      "metadata": {
        "colab": {
          "base_uri": "https://localhost:8080/"
        },
        "id": "TXrfaOKHiBW0",
        "outputId": "40a79680-c970-4b70-d22d-8a4b22746ad6"
      },
      "execution_count": 8,
      "outputs": [
        {
          "output_type": "stream",
          "name": "stdout",
          "text": [
            "Data type of element in list_: <class 'str'>\n",
            "Data type of element in list_: <class 'str'>\n",
            "Data type of element in list_: <class 'str'>\n",
            "Data type of element in list_: <class 'str'>\n",
            "Data type of element in list_: <class 'str'>\n",
            "Data type of element in array_list: <class 'numpy.int64'>\n",
            "Data type of element in array_list: <class 'numpy.int64'>\n",
            "Data type of element in array_list: <class 'numpy.int64'>\n",
            "Data type of element in array_list: <class 'numpy.int64'>\n",
            "Data type of element in array_list: <class 'numpy.int64'>\n"
          ]
        }
      ]
    },
    {
      "cell_type": "code",
      "source": [
        "# Q3  Considering the following changes in the variable, array_list:\n",
        "array_list = np.array(object=list_, dtype=int)\n",
        "for elem in list_:\n",
        "    print(\"Data type of element in list_:\", type(elem))\n",
        "for elem in array_list:\n",
        "    print(\"Data type of element in array_list:\", type(elem))\n"
      ],
      "metadata": {
        "colab": {
          "base_uri": "https://localhost:8080/"
        },
        "id": "SHMyKzeLiD5c",
        "outputId": "80866f8e-200b-42f5-8306-126e125aec44"
      },
      "execution_count": 3,
      "outputs": [
        {
          "output_type": "stream",
          "name": "stdout",
          "text": [
            "Data type of element in list_: <class 'str'>\n",
            "Data type of element in list_: <class 'str'>\n",
            "Data type of element in list_: <class 'str'>\n",
            "Data type of element in list_: <class 'str'>\n",
            "Data type of element in list_: <class 'str'>\n",
            "Data type of element in array_list: <class 'numpy.int64'>\n",
            "Data type of element in array_list: <class 'numpy.int64'>\n",
            "Data type of element in array_list: <class 'numpy.int64'>\n",
            "Data type of element in array_list: <class 'numpy.int64'>\n",
            "Data type of element in array_list: <class 'numpy.int64'>\n"
          ]
        }
      ]
    },
    {
      "cell_type": "code",
      "source": [
        "\n",
        "# Q4. Write a code to find the following characteristics of variable, num_array:\n",
        "num_list = [[1, 2, 3], [4, 5, 6]]\n",
        "num_array = np.array(object=num_list)\n",
        "print(\"Shape of num_array:\", num_array.shape)\n",
        "print(\"Size of num_array:\", num_array.size)\n"
      ],
      "metadata": {
        "colab": {
          "base_uri": "https://localhost:8080/"
        },
        "id": "NIS_uD_eiD_u",
        "outputId": "bf36165b-075f-4b16-aa6d-381f5adc19ff"
      },
      "execution_count": 4,
      "outputs": [
        {
          "output_type": "stream",
          "name": "stdout",
          "text": [
            "Shape of num_array: (2, 3)\n",
            "Size of num_array: 6\n"
          ]
        }
      ]
    },
    {
      "cell_type": "code",
      "source": [
        "\n",
        "# Q5  Write a code to create numpy array of 3*3 matrix containing zeros only, using a numpy array creation function.\n",
        "zeros_array = np.zeros((3, 3))\n",
        "print(\"Zeros array:\")\n",
        "print(zeros_array)\n"
      ],
      "metadata": {
        "colab": {
          "base_uri": "https://localhost:8080/"
        },
        "id": "C352sVxLiECZ",
        "outputId": "a8f19cdb-edd4-4e45-f040-bce63dc675e9"
      },
      "execution_count": 5,
      "outputs": [
        {
          "output_type": "stream",
          "name": "stdout",
          "text": [
            "Zeros array:\n",
            "[[0. 0. 0.]\n",
            " [0. 0. 0.]\n",
            " [0. 0. 0.]]\n"
          ]
        }
      ]
    },
    {
      "cell_type": "code",
      "source": [
        "\n",
        "# Q6. Create an identity matrix of shape (5,5) using numpy functions?\n",
        "identity_matrix = np.eye(5)\n",
        "print(\"Identity matrix:\")\n",
        "print(identity_matrix)\n"
      ],
      "metadata": {
        "colab": {
          "base_uri": "https://localhost:8080/"
        },
        "id": "7Sg3440-iEF-",
        "outputId": "db7a3181-bec3-4c2e-ca2f-8ebd157dff67"
      },
      "execution_count": 6,
      "outputs": [
        {
          "output_type": "stream",
          "name": "stdout",
          "text": [
            "Identity matrix:\n",
            "[[1. 0. 0. 0. 0.]\n",
            " [0. 1. 0. 0. 0.]\n",
            " [0. 0. 1. 0. 0.]\n",
            " [0. 0. 0. 1. 0.]\n",
            " [0. 0. 0. 0. 1.]]\n"
          ]
        }
      ]
    },
    {
      "cell_type": "code",
      "source": [],
      "metadata": {
        "id": "PAsxOaHYiJci"
      },
      "execution_count": null,
      "outputs": []
    }
  ]
}