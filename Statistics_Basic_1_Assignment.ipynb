{
  "nbformat": 4,
  "nbformat_minor": 0,
  "metadata": {
    "colab": {
      "provenance": [],
      "authorship_tag": "ABX9TyP7xhnXi4BN2lShGlYsa6cG"
    },
    "kernelspec": {
      "name": "python3",
      "display_name": "Python 3"
    },
    "language_info": {
      "name": "python"
    }
  },
  "cells": [
    {
      "cell_type": "markdown",
      "source": [
        "Q1. What is Statistics?\n",
        "\n",
        "Q2. Define the different types of statistics and give an example of when each type might be used.\n",
        "\n",
        "Q3. What are the different types of data and how do they differ from each other? Provide an example of each type of data.\n",
        "\n",
        "Q4. Categorise the following datasets with respect to quantitative and qualitative data types:\n",
        "\n",
        "(i) Grading in exam: A+, A, B+, B, C+, C, D, E\n",
        "\n",
        "(ii) Colour of mangoes: yellow, green, orange, red\n",
        "\n",
        "(iii) Height data of a class: [178.9, 179, 179.5, 176, 177.2, 178.3, 175.8,...]\n",
        "\n",
        "(iv) Number of mangoes exported by a farm: [500, 600, 478, 672, ...]\n",
        "\n",
        "Q5. Explain the concept of levels of measurement and give an example of a variable for each level.\n",
        "\n",
        "Q6. Why is it important to understand the level of measurement when analyzing data? Provide an example to illustrate your answer.\n",
        "\n",
        "Q7. How nominal data type is different from ordinal data type.\n",
        "Q8. Which type of plot can be used to display data in terms of range?\n",
        "\n",
        "Q9. Describe the difference between descriptive and inferential statistics. Give an example of each type of statistics and explain how they are used.\n",
        "\n",
        "Q10. What are some common measures of central tendency and variability used in statistics? Explain how each measure can be used to describe a dataset.\n"
      ],
      "metadata": {
        "id": "7M3YLZINZqsG"
      }
    },
    {
      "cell_type": "markdown",
      "source": [
        "Answer 1: Statistics is like math that helps us collect and understand data. It's about numbers and facts that we use to make sense of things.\n",
        "\n",
        "Answer 2: There are different types of statistics. Descriptive stats tell us what the data looks like. For example, we can use them to find the average grade of our class. Inferential stats help us make predictions based on data, like guessing how well we'll do on a test.\n",
        "\n",
        "Answer 3: There are different data types. Nominal data is just names, like colors. Ordinal data is like ranks, such as first, second, and third place. Interval data has equal intervals, like temperature in Celsius. Ratio data has a true zero point, like height in centimeters.\n",
        "\n",
        "Answer 4:\n",
        "(i) Grading in exam: Qualitative data because it consists of letter grades, which are categories.\n",
        "(ii) Colour of mangoes: Qualitative data because it consists of colors, which are categories.\n",
        "(iii) Height data of a class: Quantitative data because it consists of numerical values that can be measured.\n",
        "(iv) Number of mangoes exported by a farm: Quantitative data because it consists of numerical values that can be counted and measured.\n",
        "\n",
        "Answer 5: Levels of measurement show how we measure things. Nominal is like categories, such as types of animals. Ordinal is when things have an order, like small, medium, and large shirts. Interval and ratio have numbers and math.\n",
        "\n",
        "Answer 6: Understanding the level of measurement matters because it affects how we analyze data. If we mix up levels, we might make wrong conclusions. For example, if we use ordinal data like T-shirt sizes to find an average, it wouldn't make sense.\n",
        "\n",
        "Answer 7: Nominal data is just names or categories without order, like colors. Ordinal data has an order, like rankings from best to worst. So, nominal data is less organized than ordinal data.\n",
        "\n",
        "Answer 8: A range of data can be displayed using a histogram or a box plot. These graphs show how values spread out, like from the smallest to the largest.\n",
        "\n",
        "Answer 9: Descriptive stats describe data, like finding the average age of a group. Inferential stats help make predictions from data, like guessing if it will rain tomorrow based on past weather.\n",
        "\n",
        "Answer 10: Common measures of central tendency include the mean, median, and mode. Measures of variability include the range, variance, and standard deviation. These measures help us understand the data better."
      ],
      "metadata": {
        "id": "7ms9CkS8ZX7G"
      }
    },
    {
      "cell_type": "code",
      "source": [],
      "metadata": {
        "id": "_U1K3-rFZZkn"
      },
      "execution_count": null,
      "outputs": []
    }
  ]
}