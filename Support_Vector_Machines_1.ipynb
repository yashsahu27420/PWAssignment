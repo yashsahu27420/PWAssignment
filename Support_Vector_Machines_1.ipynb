{
  "nbformat": 4,
  "nbformat_minor": 0,
  "metadata": {
    "colab": {
      "provenance": []
    },
    "kernelspec": {
      "name": "python3",
      "display_name": "Python 3"
    },
    "language_info": {
      "name": "python"
    }
  },
  "cells": [
    {
      "cell_type": "code",
      "execution_count": 1,
      "metadata": {
        "colab": {
          "base_uri": "https://localhost:8080/",
          "height": 140
        },
        "id": "dugcsh-8kyqF",
        "outputId": "ec658e40-2177-4e6d-b0ba-1d33fbe12b51"
      },
      "outputs": [
        {
          "output_type": "execute_result",
          "data": {
            "text/plain": [
              "\"\\nThe mathematical formula for a linear Support Vector Machine (SVM) can be represented as follows:\\n\\nGiven a dataset with input features X and corresponding binary labels y (+1 or -1), the objective of a linear SVM is to find a hyperplane represented by the equation:\\n\\nw^T * x + b = 0\\n\\nWhere:\\n- w is the weight vector (normal to the hyperplane).\\n- x is the input feature vector.\\n- b is the bias term (also known as the intercept).\\n- '^T' represents the transpose of the vector w.\\n\\nThe goal of training a linear SVM is to find the values of w and b that maximize the margin between the two classes while minimizing the classification error. This can be formulated as an optimization problem, often represented as:\\n\\nMinimize: 1/2 * ||w||^2\\nSubject to: y_i * (w^T * x_i + b) >= 1 for all training examples (i)\\n\\nWhere:\\n- ||w|| represents the Euclidean norm of the weight vector w.\\n- (x_i, y_i) represents each training example.\\n\\nIn this formulation, the SVM aims to maximize the margin (the distance between the hyperplane and the nearest data points of both classes) while ensuring that all data points are correctly classified or have a margin greater than or equal to 1.\\n\\nThe optimization problem can be solved using various techniques, such as the quadratic programming or gradient descent methods, to find the optimal values of w and b for the linear SVM.\""
            ],
            "application/vnd.google.colaboratory.intrinsic+json": {
              "type": "string"
            }
          },
          "metadata": {},
          "execution_count": 1
        }
      ],
      "source": [
        "# Q1. What is the mathematical formula for a linear SVM?\n",
        "\n",
        "'''\n",
        "The mathematical formula for a linear Support Vector Machine (SVM) can be represented as follows:\n",
        "\n",
        "Given a dataset with input features X and corresponding binary labels y (+1 or -1), the objective of a linear SVM is to find a hyperplane represented by the equation:\n",
        "\n",
        "w^T * x + b = 0\n",
        "\n",
        "Where:\n",
        "- w is the weight vector (normal to the hyperplane).\n",
        "- x is the input feature vector.\n",
        "- b is the bias term (also known as the intercept).\n",
        "- '^T' represents the transpose of the vector w.\n",
        "\n",
        "The goal of training a linear SVM is to find the values of w and b that maximize the margin between the two classes while minimizing the classification error. This can be formulated as an optimization problem, often represented as:\n",
        "\n",
        "Minimize: 1/2 * ||w||^2\n",
        "Subject to: y_i * (w^T * x_i + b) >= 1 for all training examples (i)\n",
        "\n",
        "Where:\n",
        "- ||w|| represents the Euclidean norm of the weight vector w.\n",
        "- (x_i, y_i) represents each training example.\n",
        "\n",
        "In this formulation, the SVM aims to maximize the margin (the distance between the hyperplane and the nearest data points of both classes) while ensuring that all data points are correctly classified or have a margin greater than or equal to 1.\n",
        "\n",
        "The optimization problem can be solved using various techniques, such as the quadratic programming or gradient descent methods, to find the optimal values of w and b for the linear SVM.'''\n"
      ]
    },
    {
      "cell_type": "code",
      "source": [
        "# Q2. What is the objective function of a linear SVM?\n",
        "\n",
        "'''\n",
        "The objective function of a linear Support Vector Machine (SVM) is used to define the optimization problem that the SVM aims to solve during training. The primary objective of the linear SVM is to find a hyperplane that maximizes the margin between two classes while minimizing the classification error. The objective function for a linear SVM is typically represented as follows:\n",
        "\n",
        "Minimize: 1/2 * ||w||^2\n",
        "\n",
        "Subject to: y_i * (w^T * x_i + b) >= 1 for all training examples (i)\n",
        "\n",
        "Here's a breakdown of the components of the objective function:\n",
        "\n",
        "1. 1/2 * ||w||^2: This term represents the regularization or penalty on the norm (length) of the weight vector w. The objective is to minimize this term, which encourages finding a hyperplane with a large margin. Minimizing the norm of w results in a broader margin because the margin is inversely proportional to the norm of w.\n",
        "\n",
        "2. y_i * (w^T * x_i + b): This part of the objective function ensures that all training examples are correctly classified or have a margin greater than or equal to 1. Here, y_i is the binary label of the i-th training example, x_i is the feature vector of the i-th example, and (w^T * x_i + b) is the decision boundary's distance from the i-th example. The objective is to ensure that all data points are on the correct side of the hyperplane.\n",
        "\n",
        "The linear SVM seeks to strike a balance between maximizing the margin (by minimizing the norm of w) and ensuring that the training examples are correctly classified (by satisfying the inequality constraint). The regularization parameter C can be introduced to control the trade-off between maximizing the margin and minimizing the classification error. A smaller C places more emphasis on maximizing the margin, while a larger C allows for some misclassification in exchange for a narrower margin.\n",
        "\n",
        "In practice, this optimization problem is typically solved using techniques such as quadratic programming or gradient descent to find the optimal values of w and b that satisfy the constraints while minimizing the regularization term.'''\n"
      ],
      "metadata": {
        "colab": {
          "base_uri": "https://localhost:8080/",
          "height": 140
        },
        "id": "xTdY0ep7ltOd",
        "outputId": "5568cd7d-e94b-4ede-f8fc-d13dc5759333"
      },
      "execution_count": 2,
      "outputs": [
        {
          "output_type": "execute_result",
          "data": {
            "text/plain": [
              "\"\\nThe objective function of a linear Support Vector Machine (SVM) is used to define the optimization problem that the SVM aims to solve during training. The primary objective of the linear SVM is to find a hyperplane that maximizes the margin between two classes while minimizing the classification error. The objective function for a linear SVM is typically represented as follows:\\n\\nMinimize: 1/2 * ||w||^2\\n\\nSubject to: y_i * (w^T * x_i + b) >= 1 for all training examples (i)\\n\\nHere's a breakdown of the components of the objective function:\\n\\n1. 1/2 * ||w||^2: This term represents the regularization or penalty on the norm (length) of the weight vector w. The objective is to minimize this term, which encourages finding a hyperplane with a large margin. Minimizing the norm of w results in a broader margin because the margin is inversely proportional to the norm of w.\\n\\n2. y_i * (w^T * x_i + b): This part of the objective function ensures that all training examples are correctly classified or have a margin greater than or equal to 1. Here, y_i is the binary label of the i-th training example, x_i is the feature vector of the i-th example, and (w^T * x_i + b) is the decision boundary's distance from the i-th example. The objective is to ensure that all data points are on the correct side of the hyperplane.\\n\\nThe linear SVM seeks to strike a balance between maximizing the margin (by minimizing the norm of w) and ensuring that the training examples are correctly classified (by satisfying the inequality constraint). The regularization parameter C can be introduced to control the trade-off between maximizing the margin and minimizing the classification error. A smaller C places more emphasis on maximizing the margin, while a larger C allows for some misclassification in exchange for a narrower margin.\\n\\nIn practice, this optimization problem is typically solved using techniques such as quadratic programming or gradient descent to find the optimal values of w and b that satisfy the constraints while minimizing the regularization term.\""
            ],
            "application/vnd.google.colaboratory.intrinsic+json": {
              "type": "string"
            }
          },
          "metadata": {},
          "execution_count": 2
        }
      ]
    },
    {
      "cell_type": "code",
      "source": [
        "# Q3. What is the kernel trick in SVM?\n",
        "'''\n",
        "The kernel trick is a fundamental concept in Support Vector Machines (SVMs), a machine learning algorithm used for classification and regression tasks. It allows SVMs to handle data that is not linearly separable in its original feature space by implicitly transforming the data into a higher-dimensional space, where linear separation becomes possible. This transformation is done without explicitly calculating and storing the new feature vectors in the higher-dimensional space, which is computationally expensive. Instead, it uses a mathematical function called a \"kernel\" to compute the dot product of the transformed feature vectors in the higher-dimensional space without actually performing the transformation.\n",
        "\n",
        "The basic idea of the kernel trick can be summarized as follows:\n",
        "\n",
        "1. Start with a dataset in its original feature space, which may not be linearly separable.\n",
        "\n",
        "2. Choose a kernel function, such as the linear kernel, polynomial kernel, Gaussian (RBF) kernel, sigmoid kernel, etc. The choice of kernel depends on the problem and the characteristics of the data.\n",
        "\n",
        "3. Apply the kernel function to compute the dot product between pairs of data points in the original feature space, as if they were transformed into a higher-dimensional space. This dot product is used to determine the decision boundary in the transformed space.\n",
        "\n",
        "4. SVM then learns a hyperplane in the transformed space that best separates the data into different classes. This hyperplane corresponds to the decision boundary in the original feature space.\n",
        "\n",
        "Commonly used kernels include:\n",
        "\n",
        "- **Linear Kernel:** K(x, y) = xᵀy\n",
        "- **Polynomial Kernel:** K(x, y) = (αxᵀy + c)ᵈ, where α and c are user-defined parameters, and d is the degree of the polynomial.\n",
        "- **Gaussian (RBF) Kernel:** K(x, y) = exp(-γ‖x - y‖²), where γ is a user-defined parameter controlling the kernel's width.\n",
        "- **Sigmoid Kernel:** K(x, y) = tanh(αxᵀy + c), where α and c are user-defined parameters.\n",
        "\n",
        "The kernel trick is powerful because it allows SVMs to capture complex, nonlinear relationships in the data while still benefiting from the computational efficiency of linear classifiers. It can be especially useful when dealing with high-dimensional data or when the decision boundary is not easily expressible in the original feature space.'''\n"
      ],
      "metadata": {
        "colab": {
          "base_uri": "https://localhost:8080/",
          "height": 140
        },
        "id": "t46TzV6poW3U",
        "outputId": "40081439-082f-4fa0-e9e3-c646eae17888"
      },
      "execution_count": 3,
      "outputs": [
        {
          "output_type": "execute_result",
          "data": {
            "text/plain": [
              "'\\nThe kernel trick is a fundamental concept in Support Vector Machines (SVMs), a machine learning algorithm used for classification and regression tasks. It allows SVMs to handle data that is not linearly separable in its original feature space by implicitly transforming the data into a higher-dimensional space, where linear separation becomes possible. This transformation is done without explicitly calculating and storing the new feature vectors in the higher-dimensional space, which is computationally expensive. Instead, it uses a mathematical function called a \"kernel\" to compute the dot product of the transformed feature vectors in the higher-dimensional space without actually performing the transformation.\\n\\nThe basic idea of the kernel trick can be summarized as follows:\\n\\n1. Start with a dataset in its original feature space, which may not be linearly separable.\\n\\n2. Choose a kernel function, such as the linear kernel, polynomial kernel, Gaussian (RBF) kernel, sigmoid kernel, etc. The choice of kernel depends on the problem and the characteristics of the data.\\n\\n3. Apply the kernel function to compute the dot product between pairs of data points in the original feature space, as if they were transformed into a higher-dimensional space. This dot product is used to determine the decision boundary in the transformed space.\\n\\n4. SVM then learns a hyperplane in the transformed space that best separates the data into different classes. This hyperplane corresponds to the decision boundary in the original feature space.\\n\\nCommonly used kernels include:\\n\\n- **Linear Kernel:** K(x, y) = xᵀy\\n- **Polynomial Kernel:** K(x, y) = (αxᵀy + c)ᵈ, where α and c are user-defined parameters, and d is the degree of the polynomial.\\n- **Gaussian (RBF) Kernel:** K(x, y) = exp(-γ‖x - y‖²), where γ is a user-defined parameter controlling the kernel\\'s width.\\n- **Sigmoid Kernel:** K(x, y) = tanh(αxᵀy + c), where α and c are user-defined parameters.\\n\\nThe kernel trick is powerful because it allows SVMs to capture complex, nonlinear relationships in the data while still benefiting from the computational efficiency of linear classifiers. It can be especially useful when dealing with high-dimensional data or when the decision boundary is not easily expressible in the original feature space.'"
            ],
            "application/vnd.google.colaboratory.intrinsic+json": {
              "type": "string"
            }
          },
          "metadata": {},
          "execution_count": 3
        }
      ]
    },
    {
      "cell_type": "code",
      "source": [
        "# Q4. What is the role of support vectors in SVM Explain with example\n",
        "'''\n",
        "In a Support Vector Machine (SVM), support vectors are data points from the training dataset that play a crucial role in defining the decision boundary (hyperplane) between different classes. These support vectors are the closest data points to the decision boundary and directly influence the position and orientation of the hyperplane. The key role of support vectors in SVM can be summarized as follows:\n",
        "\n",
        "1. **Defining the Decision Boundary:** Support vectors are the data points that are closest to the decision boundary, and they are the ones that \"support\" or determine the placement of the hyperplane. The SVM algorithm aims to find the hyperplane that maximizes the margin (the distance between the hyperplane and the nearest data points), and these closest data points are essential in this calculation.\n",
        "\n",
        "2. **Robustness and Generalization:** Because the decision boundary is primarily determined by the support vectors, SVMs are less sensitive to outliers and noisy data points that are farther from the decision boundary. This property makes SVMs robust and often results in good generalization to new, unseen data.\n",
        "\n",
        "3. **Sparse Model:** SVMs typically have a small number of support vectors compared to the total number of training data points. This sparsity in the model simplifies computation and memory requirements, making SVMs efficient for high-dimensional datasets.\n",
        "\n",
        "Here's a brief example to illustrate the role of support vectors in SVM:\n",
        "\n",
        "Imagine you have a two-class classification problem where you want to separate circles (class A) from squares (class B) based on their sizes (represented by two features: width and height). Your dataset consists of various circles and squares with different sizes.\n",
        "\n",
        "In the feature space, the circles and squares are not linearly separable, but you believe that a hyperplane can be found to distinguish between them. The SVM algorithm aims to find this hyperplane.\n",
        "\n",
        "During the training process, the SVM algorithm identifies the support vectors, which are the circles and squares closest to the decision boundary. These support vectors are the ones that are critical in determining the hyperplane's position and orientation. The margin (distance between the hyperplane and support vectors) is maximized to ensure the best separation.\n",
        "\n",
        "As a result, the decision boundary determined by the SVM will be positioned to best separate the circles from the squares while maintaining the maximum margin. Other data points that are not support vectors have less influence on the hyperplane's location and are further from the decision boundary.\n",
        "\n",
        "In summary, support vectors are the key data points that define the decision boundary in SVM, making it robust, efficient, and capable of handling complex classification tasks, even when data is not linearly separable.'''\n"
      ],
      "metadata": {
        "colab": {
          "base_uri": "https://localhost:8080/",
          "height": 140
        },
        "id": "VVfQyAiFvgrW",
        "outputId": "d4f79b46-caf0-4960-b0aa-371d76170bdd"
      },
      "execution_count": 4,
      "outputs": [
        {
          "output_type": "execute_result",
          "data": {
            "text/plain": [
              "'\\nIn a Support Vector Machine (SVM), support vectors are data points from the training dataset that play a crucial role in defining the decision boundary (hyperplane) between different classes. These support vectors are the closest data points to the decision boundary and directly influence the position and orientation of the hyperplane. The key role of support vectors in SVM can be summarized as follows:\\n\\n1. **Defining the Decision Boundary:** Support vectors are the data points that are closest to the decision boundary, and they are the ones that \"support\" or determine the placement of the hyperplane. The SVM algorithm aims to find the hyperplane that maximizes the margin (the distance between the hyperplane and the nearest data points), and these closest data points are essential in this calculation.\\n\\n2. **Robustness and Generalization:** Because the decision boundary is primarily determined by the support vectors, SVMs are less sensitive to outliers and noisy data points that are farther from the decision boundary. This property makes SVMs robust and often results in good generalization to new, unseen data.\\n\\n3. **Sparse Model:** SVMs typically have a small number of support vectors compared to the total number of training data points. This sparsity in the model simplifies computation and memory requirements, making SVMs efficient for high-dimensional datasets.\\n\\nHere\\'s a brief example to illustrate the role of support vectors in SVM:\\n\\nImagine you have a two-class classification problem where you want to separate circles (class A) from squares (class B) based on their sizes (represented by two features: width and height). Your dataset consists of various circles and squares with different sizes.\\n\\nIn the feature space, the circles and squares are not linearly separable, but you believe that a hyperplane can be found to distinguish between them. The SVM algorithm aims to find this hyperplane.\\n\\nDuring the training process, the SVM algorithm identifies the support vectors, which are the circles and squares closest to the decision boundary. These support vectors are the ones that are critical in determining the hyperplane\\'s position and orientation. The margin (distance between the hyperplane and support vectors) is maximized to ensure the best separation.\\n\\nAs a result, the decision boundary determined by the SVM will be positioned to best separate the circles from the squares while maintaining the maximum margin. Other data points that are not support vectors have less influence on the hyperplane\\'s location and are further from the decision boundary.\\n\\nIn summary, support vectors are the key data points that define the decision boundary in SVM, making it robust, efficient, and capable of handling complex classification tasks, even when data is not linearly separable.'"
            ],
            "application/vnd.google.colaboratory.intrinsic+json": {
              "type": "string"
            }
          },
          "metadata": {},
          "execution_count": 4
        }
      ]
    },
    {
      "cell_type": "code",
      "source": [
        "# Q5. Illustrate with examples and graphs of Hyperplane, Marginal plane, Soft margin and Hard margin in SVM?\n",
        "\n",
        "'''\n",
        "To illustrate the concepts of the hyperplane, marginal plane, soft margin, and hard margin in Support Vector Machines (SVM), let's use a simple two-dimensional example with synthetic data. In this example, we have two classes, represented by red and blue points, and we want to find a decision boundary that separates them.\n",
        "\n",
        "Here's a visual representation of these concepts:\n",
        "\n",
        "1. **Hyperplane:**\n",
        "\n",
        "   The hyperplane is the decision boundary that separates the two classes. In a two-dimensional feature space, the hyperplane is a straight line. The goal of SVM is to find the hyperplane that maximizes the margin (distance) between the two classes.\n",
        "\n",
        "   Example:\n",
        "   ![Hyperplane](https://i.imgur.com/KOjv0C4.png)\n",
        "\n",
        "2. **Marginal Plane:**\n",
        "\n",
        "   The marginal plane, also known as the margin, is the region between the two parallel lines that are equidistant from the hyperplane. It contains the support vectors. SVM aims to maximize this margin.\n",
        "\n",
        "   Example:\n",
        "   ![Marginal Plane](https://i.imgur.com/XRbLVOD.png)\n",
        "\n",
        "3. **Hard Margin:**\n",
        "\n",
        "   In a hard-margin SVM, the goal is to find a hyperplane that perfectly separates the two classes without any data points falling inside the margin. This means there is no room for misclassification, and the margin is maximized.\n",
        "\n",
        "   Example (Hard Margin):\n",
        "   ![Hard Margin](https://i.imgur.com/6sEi3uG.png)\n",
        "\n",
        "4. **Soft Margin:**\n",
        "\n",
        "   In a soft-margin SVM, we allow for some data points to fall inside the margin or even on the wrong side of the hyperplane. This is done to accommodate noisy or overlapping data. Soft margins introduce a trade-off between maximizing the margin and minimizing classification errors. The regularization parameter \"C\" controls the trade-off, with smaller values of C allowing more errors.\n",
        "\n",
        "   Example (Soft Margin):\n",
        "   ![Soft Margin](https://i.imgur.com/cQPL5qf.png)\n",
        "\n",
        "In the \"Soft Margin\" example, you can see that a few blue points fall within the margin or on the red side of the hyperplane. This is acceptable because it allows for a better overall separation of the two classes and may generalize better to new data.\n",
        "\n",
        "The choice between hard margin and soft margin depends on the specific problem and the nature of the data. Hard margins are suitable when the data is well-separated and noise-free, while soft margins are more appropriate when there is noise, outliers, or overlapping data points. The regularization parameter C should be tuned to find the right balance between maximizing the margin and controlling classification errors.'''"
      ],
      "metadata": {
        "colab": {
          "base_uri": "https://localhost:8080/",
          "height": 140
        },
        "id": "spkRyQINBbky",
        "outputId": "a8785707-d04e-470c-cd1d-e929b08fc924"
      },
      "execution_count": 5,
      "outputs": [
        {
          "output_type": "execute_result",
          "data": {
            "text/plain": [
              "'\\nTo illustrate the concepts of the hyperplane, marginal plane, soft margin, and hard margin in Support Vector Machines (SVM), let\\'s use a simple two-dimensional example with synthetic data. In this example, we have two classes, represented by red and blue points, and we want to find a decision boundary that separates them.\\n\\nHere\\'s a visual representation of these concepts:\\n\\n1. **Hyperplane:**\\n\\n   The hyperplane is the decision boundary that separates the two classes. In a two-dimensional feature space, the hyperplane is a straight line. The goal of SVM is to find the hyperplane that maximizes the margin (distance) between the two classes.\\n\\n   Example:\\n   ![Hyperplane](https://i.imgur.com/KOjv0C4.png)\\n\\n2. **Marginal Plane:**\\n\\n   The marginal plane, also known as the margin, is the region between the two parallel lines that are equidistant from the hyperplane. It contains the support vectors. SVM aims to maximize this margin.\\n\\n   Example:\\n   ![Marginal Plane](https://i.imgur.com/XRbLVOD.png)\\n\\n3. **Hard Margin:**\\n\\n   In a hard-margin SVM, the goal is to find a hyperplane that perfectly separates the two classes without any data points falling inside the margin. This means there is no room for misclassification, and the margin is maximized.\\n\\n   Example (Hard Margin):\\n   ![Hard Margin](https://i.imgur.com/6sEi3uG.png)\\n\\n4. **Soft Margin:**\\n\\n   In a soft-margin SVM, we allow for some data points to fall inside the margin or even on the wrong side of the hyperplane. This is done to accommodate noisy or overlapping data. Soft margins introduce a trade-off between maximizing the margin and minimizing classification errors. The regularization parameter \"C\" controls the trade-off, with smaller values of C allowing more errors.\\n\\n   Example (Soft Margin):\\n   ![Soft Margin](https://i.imgur.com/cQPL5qf.png)\\n\\nIn the \"Soft Margin\" example, you can see that a few blue points fall within the margin or on the red side of the hyperplane. This is acceptable because it allows for a better overall separation of the two classes and may generalize better to new data.\\n\\nThe choice between hard margin and soft margin depends on the specific problem and the nature of the data. Hard margins are suitable when the data is well-separated and noise-free, while soft margins are more appropriate when there is noise, outliers, or overlapping data points. The regularization parameter C should be tuned to find the right balance between maximizing the margin and controlling classification errors.'"
            ],
            "application/vnd.google.colaboratory.intrinsic+json": {
              "type": "string"
            }
          },
          "metadata": {},
          "execution_count": 5
        }
      ]
    },
    {
      "cell_type": "code",
      "source": [
        "# Q6. SVM Implementation through Iris dataset.\n",
        "\n",
        "# Bonus task: Implement a linear SVM classifier from scratch using Python and compare its\n",
        "# performance with the scikit-learn implementation.\n",
        "# ~ Load the iris dataset from the scikit-learn library and split it into a training set and a testing setl\n",
        "# ~ Train a linear SVM classifier on the training set and predict the labels for the testing setl\n",
        "# ~ Compute the accuracy of the model on the testing setl\n",
        "# ~ Plot the decision boundaries of the trained model using two of the featuresl\n",
        "# ~ Try different values of the regularisation parameter C and see how it affects the performance of the model.\n",
        "\n",
        "import numpy as np\n",
        "import matplotlib.pyplot as plt\n",
        "from sklearn import datasets\n",
        "from sklearn.model_selection import train_test_split\n",
        "from sklearn.svm import SVC\n",
        "from sklearn.metrics import accuracy_score\n",
        "\n",
        "# Load the Iris dataset\n",
        "iris = datasets.load_iris()\n",
        "X = iris.data[:, :2]  # We'll use only the first two features for visualization purposes\n",
        "y = iris.target\n",
        "\n",
        "# Split the dataset into a training set and a testing set\n",
        "X_train, X_test, y_train, y_test = train_test_split(X, y, test_size=0.3, random_state=42)\n",
        "\n",
        "# Train a linear SVM classifier\n",
        "svm_classifier = SVC(kernel='linear', C=1.0)\n",
        "svm_classifier.fit(X_train, y_train)\n",
        "\n",
        "# Predict the labels for the testing set\n",
        "y_pred = svm_classifier.predict(X_test)\n",
        "\n",
        "# Compute the accuracy of the model on the testing set\n",
        "accuracy = accuracy_score(y_test, y_pred)\n",
        "print(\"Accuracy:\", accuracy)\n",
        "\n",
        "# Plot the decision boundaries of the trained model\n",
        "x_min, x_max = X[:, 0].min() - 1, X[:, 0].max() + 1\n",
        "y_min, y_max = X[:, 1].min() - 1, X[:, 1].max() + 1\n",
        "xx, yy = np.meshgrid(np.arange(x_min, x_max, 0.01), np.arange(y_min, y_max, 0.01))\n",
        "Z = svm_classifier.predict(np.c_[xx.ravel(), yy.ravel()])\n",
        "Z = Z.reshape(xx.shape)\n",
        "\n",
        "plt.contourf(xx, yy, Z, cmap=plt.cm.coolwarm, alpha=0.8)\n",
        "plt.scatter(X[:, 0], X[:, 1], c=y, cmap=plt.cm.coolwarm)\n",
        "plt.xlabel('Feature 1')\n",
        "plt.ylabel('Feature 2')\n",
        "plt.title('SVM Decision Boundaries (Iris Dataset)')\n",
        "plt.show()\n",
        "\n",
        "'''\n",
        "Loads the Iris dataset and uses only the first two features for visualization.\n",
        "Splits the dataset into a training set and a testing set (70% training, 30% testing).\n",
        "Initializes and trains a linear SVM classifier using scikit-learn.\n",
        "Predicts labels for the testing set and computes the accuracy.\n",
        "Plots the decision boundaries of the trained model using the first two features of the dataset.'''\n"
      ],
      "metadata": {
        "colab": {
          "base_uri": "https://localhost:8080/",
          "height": 542
        },
        "id": "DbBM2hG-B6DR",
        "outputId": "da2a1979-ee50-4d51-ad74-892380d64478"
      },
      "execution_count": 6,
      "outputs": [
        {
          "output_type": "stream",
          "name": "stdout",
          "text": [
            "Accuracy: 0.8\n"
          ]
        },
        {
          "output_type": "display_data",
          "data": {
            "text/plain": [
              "<Figure size 640x480 with 1 Axes>"
            ],
            "image/png": "[encoded data removed]"
          },
          "metadata": {}
        },
        {
          "output_type": "execute_result",
          "data": {
            "text/plain": [
              "'\\nLoads the Iris dataset and uses only the first two features for visualization.\\nSplits the dataset into a training set and a testing set (70% training, 30% testing).\\nInitializes and trains a linear SVM classifier using scikit-learn.\\nPredicts labels for the testing set and computes the accuracy.\\nPlots the decision boundaries of the trained model using the first two features of the dataset.'"
            ],
            "application/vnd.google.colaboratory.intrinsic+json": {
              "type": "string"
            }
          },
          "metadata": {},
          "execution_count": 6
        }
      ]
    },
    {
      "cell_type": "code",
      "source": [
        "import numpy as np\n",
        "from sklearn import datasets\n",
        "from sklearn.model_selection import train_test_split\n",
        "from sklearn.metrics import accuracy_score\n",
        "\n",
        "# Load the Iris dataset\n",
        "iris = datasets.load_iris()\n",
        "X = iris.data\n",
        "y = iris.target\n",
        "\n",
        "# Split the dataset into a training set and a testing set\n",
        "X_train, X_test, y_train, y_test = train_test_split(X, y, test_size=0.3, random_state=42)\n",
        "\n",
        "# Implementing a Linear SVM from scratch\n",
        "class LinearSVM:\n",
        "    def __init__(self, learning_rate=0.001, n_iters=1000):\n",
        "        self.lr = learning_rate\n",
        "        self.n_iters = n_iters\n",
        "        self.weights = None\n",
        "        self.bias = None\n",
        "\n",
        "    def fit(self, X, y):\n",
        "        n_samples, n_features = X.shape\n",
        "        self.weights = np.zeros(n_features)\n",
        "        self.bias = 0\n",
        "\n",
        "        for _ in range(self.n_iters):\n",
        "            for i, x in enumerate(X):\n",
        "                condition = y[i] * (np.dot(x, self.weights) - self.bias) >= 1\n",
        "                if condition:\n",
        "                    self.weights -= self.lr * (2 * 1 / self.n_iters * self.weights)\n",
        "                else:\n",
        "                    self.weights -= self.lr * (\n",
        "                        2 * 1 / self.n_iters * self.weights - np.dot(x, y[i])\n",
        "                    )\n",
        "                    self.bias -= self.lr * y[i]\n",
        "\n",
        "    def predict(self, X):\n",
        "        linear_output = np.dot(X, self.weights) - self.bias\n",
        "        return np.sign(linear_output)\n",
        "\n",
        "# Train and evaluate the custom Linear SVM\n",
        "custom_svm = LinearSVM()\n",
        "custom_svm.fit(X_train, y_train)\n",
        "y_pred_custom = custom_svm.predict(X_test)\n",
        "accuracy_custom = accuracy_score(y_test, y_pred_custom)\n",
        "print(\"Custom SVM Accuracy:\", accuracy_custom)\n",
        "\n",
        "# Train and evaluate scikit-learn's SVM for comparison\n",
        "from sklearn.svm import SVC\n",
        "svm_classifier = SVC(kernel='linear', C=1.0)\n",
        "svm_classifier.fit(X_train, y_train)\n",
        "y_pred_svm = svm_classifier.predict(X_test)\n",
        "accuracy_svm = accuracy_score(y_test, y_pred_svm)\n",
        "print(\"scikit-learn SVM Accuracy:\", accuracy_svm)\n"
      ],
      "metadata": {
        "colab": {
          "base_uri": "https://localhost:8080/"
        },
        "id": "MBqhkGYJCSBC",
        "outputId": "899c3be0-6159-4233-aaf3-e56f747cdd4e"
      },
      "execution_count": 7,
      "outputs": [
        {
          "output_type": "stream",
          "name": "stdout",
          "text": [
            "Custom SVM Accuracy: 0.28888888888888886\n",
            "scikit-learn SVM Accuracy: 1.0\n"
          ]
        }
      ]
    },
    {
      "cell_type": "code",
      "source": [],
      "metadata": {
        "id": "j5dqsQnDCzXp"
      },
      "execution_count": 7,
      "outputs": []
    }
  ]
}