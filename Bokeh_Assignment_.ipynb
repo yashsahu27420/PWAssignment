{
  "nbformat": 4,
  "nbformat_minor": 0,
  "metadata": {
    "colab": {
      "provenance": [],
      "authorship_tag": "ABX9TyP6rcnjHOmixiPqwWujbA65",
      "include_colab_link": true
    },
    "kernelspec": {
      "name": "python3",
      "display_name": "Python 3"
    },
    "language_info": {
      "name": "python"
    }
  },
  "cells": [
    {
      "cell_type": "markdown",
      "metadata": {
        "id": "view-in-github",
        "colab_type": "text"
      },
      "source": [
        "<a href=\"https://colab.research.google.com/github/yashsahu27420/PWAssignment/blob/main/Bokeh_Assignment_.ipynb\" target=\"_parent\"><img src=\"https://colab.research.google.com/assets/colab-badge.svg\" alt=\"Open In Colab\"/></a>"
      ]
    },
    {
      "cell_type": "code",
      "execution_count": null,
      "metadata": {
        "id": "FVyXSSX-l43_"
      },
      "outputs": [],
      "source": [
        "\"\"\"\n",
        "Answer 1: To create a Bokeh plot in Python, you can start by importing the Bokeh library. Then, define your data, choose a plot type (like a scatter or line plot), and use functions like figure() and show() to create and display your plot.\n",
        "\n",
        "Answer 2: Glyphs in Bokeh are the visual markers in a plot, like circles or lines. You can add them using the circle() or line() functions. For example, to add circles to a plot, use p.circle(x, y, size=10, color='blue').\n",
        "\n",
        "Answer 3: To customize a Bokeh plot, you can modify attributes like title, axis labels, and legend. For instance, you can set the title with p.title.text = \"My Custom Plot\", change axes labels with p.xaxis.axis_label = \"X-axis\", and add a legend with p.legend.title = \"Legend\".\n",
        "\n",
        "Answer 4: A Bokeh server lets you create interactive plots that update in real-time. You can use it to build dynamic applications. By defining a Bokeh application and running it with bokeh serve, you can have live updates to your plots based on user input or data changes.\n",
        "\n",
        "Answer 5: To embed a Bokeh plot into a web page or dashboard using Flask or Django, you can use the components() function in Bokeh to generate HTML and JavaScript components. Then, insert these components into your template or view in Flask or Django to display the plot on your webpage or dashboard.\"\"\""
      ]
    }
  ]
}