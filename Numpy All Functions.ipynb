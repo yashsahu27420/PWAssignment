{
 "cells": [
  {
   "cell_type": "code",
   "execution_count": 1,
   "id": "0e9c8c04",
   "metadata": {},
   "outputs": [],
   "source": [
    "import numpy as np"
   ]
  },
  {
   "cell_type": "code",
   "execution_count": 2,
   "id": "81e12741",
   "metadata": {},
   "outputs": [],
   "source": [
    "a=np.array([1,2,3,4])"
   ]
  },
  {
   "cell_type": "code",
   "execution_count": 3,
   "id": "d9344f68",
   "metadata": {},
   "outputs": [
    {
     "data": {
      "text/plain": [
       "array([1, 2, 3, 4])"
      ]
     },
     "execution_count": 3,
     "metadata": {},
     "output_type": "execute_result"
    }
   ],
   "source": [
    "a"
   ]
  },
  {
   "cell_type": "code",
   "execution_count": 4,
   "id": "daae047d",
   "metadata": {},
   "outputs": [],
   "source": [
    "b=np.asarray([1,2,3,4])"
   ]
  },
  {
   "cell_type": "code",
   "execution_count": 5,
   "id": "92e27dab",
   "metadata": {},
   "outputs": [
    {
     "data": {
      "text/plain": [
       "array([1, 2, 3, 4])"
      ]
     },
     "execution_count": 5,
     "metadata": {},
     "output_type": "execute_result"
    }
   ],
   "source": [
    "b"
   ]
  },
  {
   "cell_type": "code",
   "execution_count": 6,
   "id": "bdd6da62",
   "metadata": {},
   "outputs": [],
   "source": [
    "c=np.asanyarray([1,2,3,4])"
   ]
  },
  {
   "cell_type": "code",
   "execution_count": 7,
   "id": "c3e09a68",
   "metadata": {},
   "outputs": [
    {
     "data": {
      "text/plain": [
       "array([1, 2, 3, 4])"
      ]
     },
     "execution_count": 7,
     "metadata": {},
     "output_type": "execute_result"
    }
   ],
   "source": [
    "c"
   ]
  },
  {
   "cell_type": "code",
   "execution_count": 8,
   "id": "970342c5",
   "metadata": {},
   "outputs": [],
   "source": [
    "d=np.copy(a)"
   ]
  },
  {
   "cell_type": "code",
   "execution_count": 9,
   "id": "2ab7ecc9",
   "metadata": {},
   "outputs": [
    {
     "data": {
      "text/plain": [
       "array([1, 2, 3, 4])"
      ]
     },
     "execution_count": 9,
     "metadata": {},
     "output_type": "execute_result"
    }
   ],
   "source": [
    "d"
   ]
  },
  {
   "cell_type": "code",
   "execution_count": 10,
   "id": "6d090663",
   "metadata": {},
   "outputs": [
    {
     "data": {
      "text/plain": [
       "1"
      ]
     },
     "execution_count": 10,
     "metadata": {},
     "output_type": "execute_result"
    }
   ],
   "source": [
    "d.ndim"
   ]
  },
  {
   "cell_type": "code",
   "execution_count": 11,
   "id": "af3063d8",
   "metadata": {},
   "outputs": [],
   "source": [
    "ar=np.zeros((3,4))"
   ]
  },
  {
   "cell_type": "code",
   "execution_count": 12,
   "id": "bf54485a",
   "metadata": {},
   "outputs": [
    {
     "data": {
      "text/plain": [
       "array([[0., 0., 0., 0.],\n",
       "       [0., 0., 0., 0.],\n",
       "       [0., 0., 0., 0.]])"
      ]
     },
     "execution_count": 12,
     "metadata": {},
     "output_type": "execute_result"
    }
   ],
   "source": [
    "ar"
   ]
  },
  {
   "cell_type": "code",
   "execution_count": 13,
   "id": "fe86cd18",
   "metadata": {},
   "outputs": [],
   "source": [
    "ar=np.ones((3,4))"
   ]
  },
  {
   "cell_type": "code",
   "execution_count": 14,
   "id": "80fd6938",
   "metadata": {},
   "outputs": [
    {
     "data": {
      "text/plain": [
       "array([[1., 1., 1., 1.],\n",
       "       [1., 1., 1., 1.],\n",
       "       [1., 1., 1., 1.]])"
      ]
     },
     "execution_count": 14,
     "metadata": {},
     "output_type": "execute_result"
    }
   ],
   "source": [
    "ar"
   ]
  },
  {
   "cell_type": "code",
   "execution_count": 19,
   "id": "ffb6db53",
   "metadata": {},
   "outputs": [],
   "source": [
    "ar=np.arange(1.3,25.4,2)"
   ]
  },
  {
   "cell_type": "code",
   "execution_count": 20,
   "id": "84019b5e",
   "metadata": {},
   "outputs": [
    {
     "data": {
      "text/plain": [
       "array([ 1.3,  3.3,  5.3,  7.3,  9.3, 11.3, 13.3, 15.3, 17.3, 19.3, 21.3,\n",
       "       23.3, 25.3])"
      ]
     },
     "execution_count": 20,
     "metadata": {},
     "output_type": "execute_result"
    }
   ],
   "source": [
    "ar"
   ]
  },
  {
   "cell_type": "code",
   "execution_count": 21,
   "id": "188ced45",
   "metadata": {},
   "outputs": [],
   "source": [
    "ar=np.linspace(2,6,20)"
   ]
  },
  {
   "cell_type": "code",
   "execution_count": 22,
   "id": "a869e2f0",
   "metadata": {},
   "outputs": [
    {
     "data": {
      "text/plain": [
       "array([2.        , 2.21052632, 2.42105263, 2.63157895, 2.84210526,\n",
       "       3.05263158, 3.26315789, 3.47368421, 3.68421053, 3.89473684,\n",
       "       4.10526316, 4.31578947, 4.52631579, 4.73684211, 4.94736842,\n",
       "       5.15789474, 5.36842105, 5.57894737, 5.78947368, 6.        ])"
      ]
     },
     "execution_count": 22,
     "metadata": {},
     "output_type": "execute_result"
    }
   ],
   "source": [
    "ar"
   ]
  },
  {
   "cell_type": "code",
   "execution_count": 31,
   "id": "2098f382",
   "metadata": {},
   "outputs": [],
   "source": [
    "ar=np.logspace(2,6,20)"
   ]
  },
  {
   "cell_type": "code",
   "execution_count": 32,
   "id": "85dcf47d",
   "metadata": {},
   "outputs": [
    {
     "data": {
      "text/plain": [
       "array([1.00000000e+02, 1.62377674e+02, 2.63665090e+02, 4.28133240e+02,\n",
       "       6.95192796e+02, 1.12883789e+03, 1.83298071e+03, 2.97635144e+03,\n",
       "       4.83293024e+03, 7.84759970e+03, 1.27427499e+04, 2.06913808e+04,\n",
       "       3.35981829e+04, 5.45559478e+04, 8.85866790e+04, 1.43844989e+05,\n",
       "       2.33572147e+05, 3.79269019e+05, 6.15848211e+05, 1.00000000e+06])"
      ]
     },
     "execution_count": 32,
     "metadata": {},
     "output_type": "execute_result"
    }
   ],
   "source": [
    "ar"
   ]
  },
  {
   "cell_type": "code",
   "execution_count": 25,
   "id": "54bdf22c",
   "metadata": {},
   "outputs": [],
   "source": [
    "a=np.full((3,4),66)"
   ]
  },
  {
   "cell_type": "code",
   "execution_count": 26,
   "id": "ed68be1f",
   "metadata": {},
   "outputs": [
    {
     "data": {
      "text/plain": [
       "array([[66, 66, 66, 66],\n",
       "       [66, 66, 66, 66],\n",
       "       [66, 66, 66, 66]])"
      ]
     },
     "execution_count": 26,
     "metadata": {},
     "output_type": "execute_result"
    }
   ],
   "source": [
    "a"
   ]
  },
  {
   "cell_type": "code",
   "execution_count": 29,
   "id": "9e9c16d6",
   "metadata": {},
   "outputs": [],
   "source": [
    "a=np.eye(3,4)"
   ]
  },
  {
   "cell_type": "code",
   "execution_count": 30,
   "id": "afd6ba41",
   "metadata": {},
   "outputs": [
    {
     "data": {
      "text/plain": [
       "array([[1., 0., 0., 0.],\n",
       "       [0., 1., 0., 0.],\n",
       "       [0., 0., 1., 0.]])"
      ]
     },
     "execution_count": 30,
     "metadata": {},
     "output_type": "execute_result"
    }
   ],
   "source": [
    "a"
   ]
  },
  {
   "cell_type": "code",
   "execution_count": 33,
   "id": "ce934f03",
   "metadata": {},
   "outputs": [
    {
     "data": {
      "text/plain": [
       "array([[0., 0., 0., 0., 0.],\n",
       "       [0., 0., 0., 0., 0.],\n",
       "       [0., 0., 0., 0., 0.]])"
      ]
     },
     "execution_count": 33,
     "metadata": {},
     "output_type": "execute_result"
    }
   ],
   "source": [
    "np.empty((3,5))"
   ]
  },
  {
   "cell_type": "code",
   "execution_count": 35,
   "id": "76e4e29d",
   "metadata": {},
   "outputs": [],
   "source": [
    "arr=np.random.randn(3,4)"
   ]
  },
  {
   "cell_type": "code",
   "execution_count": 36,
   "id": "337a301e",
   "metadata": {},
   "outputs": [
    {
     "data": {
      "text/plain": [
       "array([[ 0.27747608,  1.96881668,  2.41324152,  0.14208941],\n",
       "       [ 0.48888852, -0.48955419, -1.42633439,  0.70378029],\n",
       "       [-1.2404268 , -0.70727837, -0.7755059 ,  0.03137481]])"
      ]
     },
     "execution_count": 36,
     "metadata": {},
     "output_type": "execute_result"
    }
   ],
   "source": [
    "arr"
   ]
  },
  {
   "cell_type": "code",
   "execution_count": 37,
   "id": "fa74dd7c",
   "metadata": {},
   "outputs": [
    {
     "data": {
      "text/plain": [
       "array([[0.84898218, 0.17133644, 0.15654941, 0.47734501],\n",
       "       [0.34077355, 0.65977008, 0.79308551, 0.85031059],\n",
       "       [0.78292575, 0.41290311, 0.83555686, 0.08420772]])"
      ]
     },
     "execution_count": 37,
     "metadata": {},
     "output_type": "execute_result"
    }
   ],
   "source": [
    "np.random.rand(3,4)"
   ]
  },
  {
   "cell_type": "code",
   "execution_count": 95,
   "id": "f13d81e3",
   "metadata": {},
   "outputs": [
    {
     "data": {
      "text/plain": [
       "array([[46, 24, 25, 25],\n",
       "       [39, 41, 40,  2],\n",
       "       [12, 11,  2,  2]])"
      ]
     },
     "execution_count": 95,
     "metadata": {},
     "output_type": "execute_result"
    }
   ],
   "source": [
    "arr=np.random.randint(1,50,(3,4))\n",
    "arr"
   ]
  },
  {
   "cell_type": "code",
   "execution_count": 96,
   "id": "c5acb45d",
   "metadata": {},
   "outputs": [
    {
     "data": {
      "text/plain": [
       "12"
      ]
     },
     "execution_count": 96,
     "metadata": {},
     "output_type": "execute_result"
    }
   ],
   "source": [
    "arr.size"
   ]
  },
  {
   "cell_type": "code",
   "execution_count": 42,
   "id": "595ec13e",
   "metadata": {},
   "outputs": [
    {
     "data": {
      "text/plain": [
       "(3, 4)"
      ]
     },
     "execution_count": 42,
     "metadata": {},
     "output_type": "execute_result"
    }
   ],
   "source": [
    "arr.shape"
   ]
  },
  {
   "cell_type": "code",
   "execution_count": 43,
   "id": "02a838db",
   "metadata": {},
   "outputs": [
    {
     "data": {
      "text/plain": [
       "array([[25, 20],\n",
       "       [49,  8],\n",
       "       [24, 16],\n",
       "       [30, 29],\n",
       "       [42, 42],\n",
       "       [ 5, 35]])"
      ]
     },
     "execution_count": 43,
     "metadata": {},
     "output_type": "execute_result"
    }
   ],
   "source": [
    "arr.reshape(6,-22345)"
   ]
  },
  {
   "cell_type": "code",
   "execution_count": 45,
   "id": "84a7119c",
   "metadata": {},
   "outputs": [],
   "source": [
    "b=arr.flatten()"
   ]
  },
  {
   "cell_type": "code",
   "execution_count": 46,
   "id": "d235d544",
   "metadata": {},
   "outputs": [
    {
     "data": {
      "text/plain": [
       "array([25, 20, 49,  8, 24, 16, 30, 29, 42, 42,  5, 35])"
      ]
     },
     "execution_count": 46,
     "metadata": {},
     "output_type": "execute_result"
    }
   ],
   "source": [
    "b"
   ]
  },
  {
   "cell_type": "code",
   "execution_count": 47,
   "id": "15b31212",
   "metadata": {},
   "outputs": [
    {
     "data": {
      "text/plain": [
       "array([[25],\n",
       "       [20],\n",
       "       [49],\n",
       "       [ 8],\n",
       "       [24],\n",
       "       [16],\n",
       "       [30],\n",
       "       [29],\n",
       "       [42],\n",
       "       [42],\n",
       "       [ 5],\n",
       "       [35]])"
      ]
     },
     "execution_count": 47,
     "metadata": {},
     "output_type": "execute_result"
    }
   ],
   "source": [
    "np.expand_dims(b,axis=1)"
   ]
  },
  {
   "cell_type": "code",
   "execution_count": 48,
   "id": "a3591a8e",
   "metadata": {},
   "outputs": [
    {
     "data": {
      "text/plain": [
       "array([[1, 0, 0, 0],\n",
       "       [0, 2, 0, 0],\n",
       "       [0, 0, 3, 0],\n",
       "       [0, 0, 0, 4]])"
      ]
     },
     "execution_count": 48,
     "metadata": {},
     "output_type": "execute_result"
    }
   ],
   "source": [
    "np.diag([1,2,3,4])"
   ]
  },
  {
   "cell_type": "code",
   "execution_count": 86,
   "id": "a00e94e1",
   "metadata": {},
   "outputs": [],
   "source": [
    "arr1=np.random.randint(1,50,(3,4))\n",
    "arr2=np.random.randint(1,50,(3,4))"
   ]
  },
  {
   "cell_type": "code",
   "execution_count": 88,
   "id": "019abe45",
   "metadata": {},
   "outputs": [
    {
     "data": {
      "text/plain": [
       "array([[ 0,  8, 10, 11],\n",
       "       [24,  7, 32, 32],\n",
       "       [27,  9, 12,  3]])"
      ]
     },
     "execution_count": 88,
     "metadata": {},
     "output_type": "execute_result"
    }
   ],
   "source": [
    "arr1&arr2"
   ]
  },
  {
   "cell_type": "code",
   "execution_count": 50,
   "id": "17fd0152",
   "metadata": {},
   "outputs": [
    {
     "data": {
      "text/plain": [
       "array([[47, 61, 38, 16],\n",
       "       [11, 58, 92, 76],\n",
       "       [62, 62, 72, 53]])"
      ]
     },
     "execution_count": 50,
     "metadata": {},
     "output_type": "execute_result"
    }
   ],
   "source": [
    "arr1+arr2"
   ]
  },
  {
   "cell_type": "code",
   "execution_count": 51,
   "id": "7953f5d1",
   "metadata": {},
   "outputs": [
    {
     "data": {
      "text/plain": [
       "array([[-23,   5,  24, -14],\n",
       "       [ -9, -38,  -6, -18],\n",
       "       [ -4,  -8,   8, -43]])"
      ]
     },
     "execution_count": 51,
     "metadata": {},
     "output_type": "execute_result"
    }
   ],
   "source": [
    "arr1-arr2"
   ]
  },
  {
   "cell_type": "code",
   "execution_count": 52,
   "id": "645b2b08",
   "metadata": {},
   "outputs": [
    {
     "data": {
      "text/plain": [
       "array([[ 420,  924,  217,   15],\n",
       "       [  10,  480, 2107, 1363],\n",
       "       [ 957,  945, 1280,  240]])"
      ]
     },
     "execution_count": 52,
     "metadata": {},
     "output_type": "execute_result"
    }
   ],
   "source": [
    "arr1*arr2"
   ]
  },
  {
   "cell_type": "code",
   "execution_count": 54,
   "id": "5dd9d38c",
   "metadata": {},
   "outputs": [
    {
     "data": {
      "text/plain": [
       "array([[0.34285714, 1.17857143, 4.42857143, 0.06666667],\n",
       "       [0.1       , 0.20833333, 0.87755102, 0.61702128],\n",
       "       [0.87878788, 0.77142857, 1.25      , 0.10416667]])"
      ]
     },
     "execution_count": 54,
     "metadata": {},
     "output_type": "execute_result"
    }
   ],
   "source": [
    "arr1/arr2"
   ]
  },
  {
   "cell_type": "code",
   "execution_count": 55,
   "id": "b6500311",
   "metadata": {},
   "outputs": [
    {
     "data": {
      "text/plain": [
       "array([[12,  5,  3,  1],\n",
       "       [ 1, 10, 43, 29],\n",
       "       [29, 27,  8,  5]])"
      ]
     },
     "execution_count": 55,
     "metadata": {},
     "output_type": "execute_result"
    }
   ],
   "source": [
    "arr1%arr2"
   ]
  },
  {
   "cell_type": "code",
   "execution_count": 56,
   "id": "eeab39e2",
   "metadata": {},
   "outputs": [
    {
     "data": {
      "text/plain": [
       "array([[          0,  -702813311,  1742810335,           1],\n",
       "       [          1,           0,    -5721877,  -455304971],\n",
       "       [ 2104252573, -1304768669,           0, -1322549439]])"
      ]
     },
     "execution_count": 56,
     "metadata": {},
     "output_type": "execute_result"
    }
   ],
   "source": [
    "arr1**arr2"
   ]
  },
  {
   "cell_type": "code",
   "execution_count": 82,
   "id": "61979b6b",
   "metadata": {},
   "outputs": [
    {
     "data": {
      "text/plain": [
       "array([[10,  7, 34, 41],\n",
       "       [32,  2, 39, 24],\n",
       "       [42, 26, 35, 15]])"
      ]
     },
     "execution_count": 82,
     "metadata": {},
     "output_type": "execute_result"
    }
   ],
   "source": [
    "arr1=np.random.randint(1,50,(3,4))\n",
    "arr1"
   ]
  },
  {
   "cell_type": "code",
   "execution_count": 63,
   "id": "a6a5ca43",
   "metadata": {},
   "outputs": [
    {
     "data": {
      "text/plain": [
       "278"
      ]
     },
     "execution_count": 63,
     "metadata": {},
     "output_type": "execute_result"
    }
   ],
   "source": [
    "np.sum(arr1)"
   ]
  },
  {
   "cell_type": "code",
   "execution_count": 64,
   "id": "e3b65cc7",
   "metadata": {},
   "outputs": [
    {
     "data": {
      "text/plain": [
       "3"
      ]
     },
     "execution_count": 64,
     "metadata": {},
     "output_type": "execute_result"
    }
   ],
   "source": [
    "np.min(arr1)"
   ]
  },
  {
   "cell_type": "code",
   "execution_count": 65,
   "id": "cb001f8f",
   "metadata": {},
   "outputs": [
    {
     "data": {
      "text/plain": [
       "array([[6.78232998, 4.24264069, 6.55743852, 1.73205081],\n",
       "       [5.91607978, 6.        , 2.44948974, 5.        ],\n",
       "       [6.78232998, 2.        , 2.82842712, 2.82842712]])"
      ]
     },
     "execution_count": 65,
     "metadata": {},
     "output_type": "execute_result"
    }
   ],
   "source": [
    "np.sqrt(arr1)"
   ]
  },
  {
   "cell_type": "code",
   "execution_count": 66,
   "id": "d5579cf9",
   "metadata": {},
   "outputs": [
    {
     "data": {
      "text/plain": [
       "array([[2116,  324, 1849,    9],\n",
       "       [1225, 1296,   36,  625],\n",
       "       [2116,   16,   64,   64]], dtype=int32)"
      ]
     },
     "execution_count": 66,
     "metadata": {},
     "output_type": "execute_result"
    }
   ],
   "source": [
    "np.power(arr1,2)"
   ]
  },
  {
   "cell_type": "code",
   "execution_count": 67,
   "id": "8f3dec46",
   "metadata": {},
   "outputs": [
    {
     "data": {
      "text/plain": [
       "46"
      ]
     },
     "execution_count": 67,
     "metadata": {},
     "output_type": "execute_result"
    }
   ],
   "source": [
    "np.max(arr1)"
   ]
  },
  {
   "cell_type": "code",
   "execution_count": 68,
   "id": "a4b33716",
   "metadata": {},
   "outputs": [
    {
     "data": {
      "text/plain": [
       "array([ 46,  64, 107, 110, 145, 181, 187, 212, 258, 262, 270, 278])"
      ]
     },
     "execution_count": 68,
     "metadata": {},
     "output_type": "execute_result"
    }
   ],
   "source": [
    "np.cumsum(arr1)"
   ]
  },
  {
   "cell_type": "code",
   "execution_count": 69,
   "id": "0e4af683",
   "metadata": {},
   "outputs": [
    {
     "data": {
      "text/plain": [
       "16.58228639911343"
      ]
     },
     "execution_count": 69,
     "metadata": {},
     "output_type": "execute_result"
    }
   ],
   "source": [
    "np.std(arr1)"
   ]
  },
  {
   "cell_type": "code",
   "execution_count": 70,
   "id": "87e9b07e",
   "metadata": {},
   "outputs": [
    {
     "data": {
      "text/plain": [
       "274.97222222222223"
      ]
     },
     "execution_count": 70,
     "metadata": {},
     "output_type": "execute_result"
    }
   ],
   "source": [
    "np.var(arr1)"
   ]
  },
  {
   "cell_type": "code",
   "execution_count": 72,
   "id": "f5cbce35",
   "metadata": {},
   "outputs": [
    {
     "data": {
      "text/plain": [
       "21.5"
      ]
     },
     "execution_count": 72,
     "metadata": {},
     "output_type": "execute_result"
    }
   ],
   "source": [
    "np.median(arr1)"
   ]
  },
  {
   "cell_type": "code",
   "execution_count": 73,
   "id": "db560202",
   "metadata": {},
   "outputs": [
    {
     "data": {
      "text/plain": [
       "array([[ 0.90178835, -0.75098725, -0.83177474,  0.14112001],\n",
       "       [-0.42818267, -0.99177885, -0.2794155 , -0.13235175],\n",
       "       [ 0.90178835, -0.7568025 ,  0.98935825,  0.98935825]])"
      ]
     },
     "execution_count": 73,
     "metadata": {},
     "output_type": "execute_result"
    }
   ],
   "source": [
    "np.sin(arr1)"
   ]
  },
  {
   "cell_type": "code",
   "execution_count": 74,
   "id": "9871a664",
   "metadata": {},
   "outputs": [
    {
     "data": {
      "text/plain": [
       "array([[-0.43217794,  0.66031671,  0.5551133 , -0.9899925 ],\n",
       "       [-0.90369221, -0.12796369,  0.96017029,  0.99120281],\n",
       "       [-0.43217794, -0.65364362, -0.14550003, -0.14550003]])"
      ]
     },
     "execution_count": 74,
     "metadata": {},
     "output_type": "execute_result"
    }
   ],
   "source": [
    "np.cos(arr1)"
   ]
  },
  {
   "cell_type": "code",
   "execution_count": 75,
   "id": "7cecf91f",
   "metadata": {},
   "outputs": [
    {
     "data": {
      "text/plain": [
       "array([[4.74805971e+19, 3.28299846e+07, 2.36391973e+18, 1.00178749e+01],\n",
       "       [7.93006726e+14, 2.15561577e+15, 2.01713157e+02, 3.60024497e+10],\n",
       "       [4.74805971e+19, 2.72899172e+01, 1.49047883e+03, 1.49047883e+03]])"
      ]
     },
     "execution_count": 75,
     "metadata": {},
     "output_type": "execute_result"
    }
   ],
   "source": [
    "np.sinh(arr1)"
   ]
  },
  {
   "cell_type": "code",
   "execution_count": 76,
   "id": "6417ad97",
   "metadata": {},
   "outputs": [
    {
     "data": {
      "text/plain": [
       "array([[1.        , 1.        , 1.        , 0.99505475],\n",
       "       [1.        , 1.        , 0.99998771, 1.        ],\n",
       "       [1.        , 0.9993293 , 0.99999977, 0.99999977]])"
      ]
     },
     "execution_count": 76,
     "metadata": {},
     "output_type": "execute_result"
    }
   ],
   "source": [
    "np.tanh(arr1)"
   ]
  },
  {
   "cell_type": "code",
   "execution_count": 77,
   "id": "eff3b709",
   "metadata": {},
   "outputs": [
    {
     "data": {
      "text/plain": [
       "array([[1.66275783, 1.25527251, 1.63346846, 0.47712125],\n",
       "       [1.54406804, 1.5563025 , 0.77815125, 1.39794001],\n",
       "       [1.66275783, 0.60205999, 0.90308999, 0.90308999]])"
      ]
     },
     "execution_count": 77,
     "metadata": {},
     "output_type": "execute_result"
    }
   ],
   "source": [
    "np.log10(arr1)"
   ]
  },
  {
   "cell_type": "code",
   "execution_count": 78,
   "id": "c65a9c59",
   "metadata": {},
   "outputs": [],
   "source": [
    "arr1.sort(axis=0)"
   ]
  },
  {
   "cell_type": "code",
   "execution_count": 84,
   "id": "edde4a21",
   "metadata": {},
   "outputs": [
    {
     "data": {
      "text/plain": [
       "array([[2.20264658e+04, 1.09663316e+03, 5.83461743e+14, 6.39843494e+17],\n",
       "       [7.89629602e+13, 7.38905610e+00, 8.65934004e+16, 2.64891221e+10],\n",
       "       [1.73927494e+18, 1.95729609e+11, 1.58601345e+15, 3.26901737e+06]])"
      ]
     },
     "execution_count": 84,
     "metadata": {},
     "output_type": "execute_result"
    }
   ],
   "source": [
    "np.exp(arr1)"
   ]
  },
  {
   "cell_type": "code",
   "execution_count": 79,
   "id": "9dc36c08",
   "metadata": {},
   "outputs": [
    {
     "data": {
      "text/plain": [
       "array([[35,  4,  6,  3],\n",
       "       [46, 18,  8,  8],\n",
       "       [46, 36, 43, 25]])"
      ]
     },
     "execution_count": 79,
     "metadata": {},
     "output_type": "execute_result"
    }
   ],
   "source": [
    "arr1"
   ]
  },
  {
   "cell_type": "code",
   "execution_count": 81,
   "id": "870a6cb9",
   "metadata": {},
   "outputs": [
    {
     "data": {
      "text/plain": [
       "array([[35, 46, 46],\n",
       "       [ 4, 18, 36],\n",
       "       [ 6,  8, 43],\n",
       "       [ 3,  8, 25]])"
      ]
     },
     "execution_count": 81,
     "metadata": {},
     "output_type": "execute_result"
    }
   ],
   "source": [
    "arr1.transpose()\n"
   ]
  },
  {
   "cell_type": "code",
   "execution_count": 93,
   "id": "9638f1d6",
   "metadata": {},
   "outputs": [],
   "source": [
    "x=np.array([1,2,3,4,56,6,7,8])"
   ]
  },
  {
   "cell_type": "code",
   "execution_count": 94,
   "id": "e1d17a5e",
   "metadata": {},
   "outputs": [
    {
     "data": {
      "text/plain": [
       "array([ 1,  1,  1,  2,  2,  2,  3,  3,  3,  4,  4,  4, 56, 56, 56,  6,  6,\n",
       "        6,  7,  7,  7,  8,  8,  8])"
      ]
     },
     "execution_count": 94,
     "metadata": {},
     "output_type": "execute_result"
    }
   ],
   "source": [
    "np.repeat(x,3)"
   ]
  },
  {
   "cell_type": "code",
   "execution_count": null,
   "id": "40c39650",
   "metadata": {},
   "outputs": [],
   "source": []
  }
 ],
 "metadata": {
  "kernelspec": {
   "display_name": "Python 3 (ipykernel)",
   "language": "python",
   "name": "python3"
  },
  "language_info": {
   "codemirror_mode": {
    "name": "ipython",
    "version": 3
   },
   "file_extension": ".py",
   "mimetype": "text/x-python",
   "name": "python",
   "nbconvert_exporter": "python",
   "pygments_lexer": "ipython3",
   "version": "3.10.9"
  }
 },
 "nbformat": 4,
 "nbformat_minor": 5
}
