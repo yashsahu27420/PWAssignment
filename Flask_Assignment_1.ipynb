{
  "nbformat": 4,
  "nbformat_minor": 0,
  "metadata": {
    "colab": {
      "provenance": []
    },
    "kernelspec": {
      "name": "python3",
      "display_name": "Python 3"
    },
    "language_info": {
      "name": "python"
    }
  },
  "cells": [
    {
      "cell_type": "code",
      "execution_count": 2,
      "metadata": {
        "id": "1i5wn_lJqEf5"
      },
      "outputs": [],
      "source": [
        "#Q1. What is Flask Framework? What are the advantages of Flask Framework?\n",
        "# A1. Flask is a super cool framework for making web apps with Python. It helps you create websites and stuff easily. The best part is, it's not too hard to learn! It's like having a set of building blocks to make your website awesome. So, it's fun and makes web coding easier!\n",
        "\n"
      ]
    },
    {
      "cell_type": "code",
      "source": [
        "\n",
        "#Q2. Create a simple Flask application to display ‘Hello World!!’. Attach the screenshot of the output in Jupyter Notebook.\n",
        "\n",
        "\n",
        "from flask import Flask\n",
        "from flask import request\n",
        "app = Flask(__name__)\n",
        "\n",
        "@app.route(\"/dj\")\n",
        "def hello_world():\n",
        "    return \"<h1>Hello, World!</h1>\"\n",
        "\n",
        "\n",
        "\n",
        "if __name__==\"__main__\":\n",
        "\n",
        "    app.run(host=\"0.0.0.0\")\n",
        "\n"
      ],
      "metadata": {
        "colab": {
          "base_uri": "https://localhost:8080/"
        },
        "id": "AaF7tvVjqI8F",
        "outputId": "077dea42-996b-4057-9574-a7408242c28c"
      },
      "execution_count": 3,
      "outputs": [
        {
          "output_type": "stream",
          "name": "stdout",
          "text": [
            " * Serving Flask app '__main__'\n",
            " * Debug mode: off\n"
          ]
        },
        {
          "output_type": "stream",
          "name": "stderr",
          "text": [
            "INFO:werkzeug:\u001b[31m\u001b[1mWARNING: This is a development server. Do not use it in a production deployment. Use a production WSGI server instead.\u001b[0m\n",
            " * Running on all addresses (0.0.0.0)\n",
            " * Running on http://127.0.0.1:5000\n",
            " * Running on http://172.28.0.12:5000\n",
            "INFO:werkzeug:\u001b[33mPress CTRL+C to quit\u001b[0m\n"
          ]
        }
      ]
    },
    {
      "cell_type": "code",
      "source": [
        "\n",
        "#Q3. What is App routing in Flask? Why do we use app routes?\n",
        "#A3. App routing in Flask is like giving directions to your website. You use app routes to tell Flask what to show when someone goes to a specific URL. It's like saying, \"Hey Flask, when someone visits this link, show them this page.\" It makes your website work and show the right stuff!\n",
        "\n",
        "\n",
        "\n",
        "\n",
        "\n"
      ],
      "metadata": {
        "id": "N8slRZgyqkja"
      },
      "execution_count": 4,
      "outputs": []
    },
    {
      "cell_type": "code",
      "source": [
        "\n",
        "\n",
        "''' Q4. Create a “/welcome” route to display the welcome message “Welcome to ABC Corporation” and a “/”\n",
        "route to show the following details:\n",
        "Company Name: ABC Corporation\n",
        "Location: India\n",
        "Contact Detail: 999-999-9999'''\n",
        "\n",
        "\n",
        "from flask import Flask\n",
        "from flask import request\n",
        "app = Flask(__name__)\n",
        "\n",
        "@app.route(\"/welcome\")\n",
        "def Welcome():\n",
        "    return \" <h1>Welcome to ABC Corporation</h1> \"\n",
        "@app.route(\"/\")\n",
        "def ABC():\n",
        "  return \"\"\"Company Name: ABC Corporation\n",
        "  Location: India Contact\n",
        "  Detail: 999-999-9999 \"\"\"\n",
        "if __name__==\"__main__\":\n",
        "\n",
        "    app.run(host=\"0.0.0.0\")\n",
        "\n"
      ],
      "metadata": {
        "colab": {
          "base_uri": "https://localhost:8080/"
        },
        "id": "Q2TEi_duqkwI",
        "outputId": "f9dab93a-2476-438f-dfea-ebce30bd6fdc"
      },
      "execution_count": 5,
      "outputs": [
        {
          "output_type": "stream",
          "name": "stdout",
          "text": [
            " * Serving Flask app '__main__'\n",
            " * Debug mode: off\n"
          ]
        },
        {
          "output_type": "stream",
          "name": "stderr",
          "text": [
            "INFO:werkzeug:\u001b[31m\u001b[1mWARNING: This is a development server. Do not use it in a production deployment. Use a production WSGI server instead.\u001b[0m\n",
            " * Running on all addresses (0.0.0.0)\n",
            " * Running on http://127.0.0.1:5000\n",
            " * Running on http://172.28.0.12:5000\n",
            "INFO:werkzeug:\u001b[33mPress CTRL+C to quit\u001b[0m\n"
          ]
        }
      ]
    },
    {
      "cell_type": "code",
      "source": [
        "#Q5. What function is used in Flask for URL Building? Write a Python code to demonstrate the working of the url_for() function.\n",
        "#In Flask, the url_for() function is used for URL building. It helps you create URLs for your routes dynamically by using the route's function name. Here's an example to demonstrate how the url_for() function works:\n",
        "\n",
        "\n",
        "\n",
        "from flask import Flask, url_for\n",
        "from flask import request\n",
        "app = Flask(__name__)\n",
        "\n",
        "@app.route(\"/welcome\")\n",
        "def Welcome():\n",
        "    return \" <h1>Welcome to ABC Corporation</h1> \"\n",
        "@app.route(\"/\")\n",
        "def ABC():\n",
        "  return \"\"\"Company Name: ABC Corporation\n",
        "  Location: India Contact\n",
        "  Detail: 999-999-9999 \"\"\"\n",
        "if __name__==\"__main__\":\n",
        "    with app.test_request_context():\n",
        "        welcome_url = url_for('Welcome')\n",
        "        company_url = url_for('Welcome')\n",
        "\n",
        "        print(\"URL for 'welcome' route:\", welcome_url)\n",
        "        print(\"URL for 'company_details' route:\", company_url)\n"
      ],
      "metadata": {
        "colab": {
          "base_uri": "https://localhost:8080/"
        },
        "id": "dEVfDQEIqky6",
        "outputId": "700c5dd7-48e3-40ef-e175-ad886f0e8369"
      },
      "execution_count": 8,
      "outputs": [
        {
          "output_type": "stream",
          "name": "stdout",
          "text": [
            "URL for 'welcome' route: /welcome\n",
            "URL for 'company_details' route: /welcome\n"
          ]
        }
      ]
    },
    {
      "cell_type": "code",
      "source": [],
      "metadata": {
        "id": "kERFjpGeqk6T"
      },
      "execution_count": 6,
      "outputs": []
    }
  ]
}