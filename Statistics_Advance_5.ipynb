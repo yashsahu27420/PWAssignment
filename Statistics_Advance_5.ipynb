{
  "nbformat": 4,
  "nbformat_minor": 0,
  "metadata": {
    "colab": {
      "provenance": [],
      "authorship_tag": "ABX9TyNZb9Oh5wRokiKEc9D+UDVs"
    },
    "kernelspec": {
      "name": "python3",
      "display_name": "Python 3"
    },
    "language_info": {
      "name": "python"
    }
  },
  "cells": [
    {
      "cell_type": "code",
      "source": [
        "import scipy.stats as stats\n",
        "import numpy as np\n",
        "from scipy.stats import chi2_contingency\n",
        "import matplotlib.pyplot as plt\n",
        "\n"
      ],
      "metadata": {
        "id": "IC2ZYDOsTIX8"
      },
      "execution_count": 12,
      "outputs": []
    },
    {
      "cell_type": "code",
      "execution_count": 3,
      "metadata": {
        "colab": {
          "base_uri": "https://localhost:8080/"
        },
        "id": "5w5wsqkvRwm-",
        "outputId": "ddf1b571-6f74-4617-8cc8-d55f8c128bc1"
      },
      "outputs": [
        {
          "output_type": "stream",
          "name": "stdout",
          "text": [
            "95% Confidence Interval: (49.02001800772997, 50.97998199227003)\n"
          ]
        }
      ],
      "source": [
        "#Answer 1:\n",
        "\n",
        "# Given data\n",
        "mean = 50\n",
        "std_dev = 5\n",
        "sample_size = 100  # You would need the actual sample size for a more accurate confidence interval\n",
        "\n",
        "# Calculate the margin of error\n",
        "margin_of_error = stats.norm.ppf(0.975) * (std_dev / (sample_size**0.5))\n",
        "\n",
        "# Calculate the confidence interval\n",
        "confidence_interval = (mean - margin_of_error, mean + margin_of_error)\n",
        "\n",
        "print(\"95% Confidence Interval:\", confidence_interval)\n"
      ]
    },
    {
      "cell_type": "code",
      "source": [
        "#Answer 2:\n",
        "\n",
        "# Example observed counts, replace these with your actual data\n",
        "observed_blue = 25\n",
        "observed_orange = 30\n",
        "observed_green = 22\n",
        "observed_yellow = 15\n",
        "observed_red = 18\n",
        "observed_brown = 30\n",
        "\n",
        "# Given data\n",
        "observed_counts = [observed_blue, observed_orange, observed_green, observed_yellow, observed_red, observed_brown]\n",
        "expected_proportions = [0.20, 0.20, 0.20, 0.10, 0.10, 0.20]\n",
        "\n",
        "# Calculate expected counts based on the total count\n",
        "total_count = sum(observed_counts)\n",
        "expected_counts = [proportion * total_count for proportion in expected_proportions]\n",
        "\n",
        "# Perform the chi-square test\n",
        "chi2_stat, p_value = stats.chisquare(f_obs=observed_counts, f_exp=expected_counts)\n",
        "\n",
        "# Compare p-value to the significance level\n",
        "alpha = 0.05\n",
        "print(\"Chi-square Statistic:\", chi2_stat)\n",
        "print(\"P-value:\", p_value)\n",
        "\n",
        "if p_value < alpha:\n",
        "    print(\"Reject the null hypothesis. The distribution of colors in the M&Ms bag is different from the expected distribution.\")\n",
        "else:\n",
        "    print(\"Fail to reject the null hypothesis. The distribution of colors in the M&Ms bag is consistent with the expected distribution.\")\n"
      ],
      "metadata": {
        "colab": {
          "base_uri": "https://localhost:8080/"
        },
        "id": "7XeSJgm_TWN5",
        "outputId": "35a876b8-afe3-4073-a20d-3e6dada7900d"
      },
      "execution_count": 5,
      "outputs": [
        {
          "output_type": "stream",
          "name": "stdout",
          "text": [
            "Chi-square Statistic: 3.107142857142857\n",
            "P-value: 0.6834716889193589\n",
            "Fail to reject the null hypothesis. The distribution of colors in the M&Ms bag is consistent with the expected distribution.\n"
          ]
        }
      ]
    },
    {
      "cell_type": "code",
      "source": [
        "#Answer 3:\n",
        "# Given data\n",
        "data = np.array([[20, 15], [ 10, 25], [15, 20]])\n",
        "\n",
        "# Perform the chi-square test\n",
        "chi2_stat, p_value, dof, expected = chi2_contingency(data)\n",
        "\n",
        "# Print the results\n",
        "print(\"Chi-square Statistic:\", chi2_stat)\n",
        "print(\"P-value:\", p_value)\n",
        "\n",
        "# Interpret the results\n",
        "alpha = 0.05\n",
        "if p_value < alpha:\n",
        "    print(\"Reject the null hypothesis. There is a significant association between Group and Outcome.\")\n",
        "else:\n",
        "    print(\"Fail to reject the null hypothesis. There is no significant association between Group and Outcome.\")\n"
      ],
      "metadata": {
        "colab": {
          "base_uri": "https://localhost:8080/"
        },
        "id": "Ae4LHSZzTlV3",
        "outputId": "89ddbcf5-a501-42e3-8d58-c9781a1f7d21"
      },
      "execution_count": 9,
      "outputs": [
        {
          "output_type": "stream",
          "name": "stdout",
          "text": [
            "Chi-square Statistic: 5.833333333333334\n",
            "P-value: 0.05411376622282158\n",
            "Fail to reject the null hypothesis. There is no significant association between Group and Outcome.\n"
          ]
        }
      ]
    },
    {
      "cell_type": "code",
      "source": [
        "#Answer 4:\n",
        "\n",
        "# Given data\n",
        "total_population = 500\n",
        "smokers = 60\n",
        "\n",
        "# Calculate the proportion of smokers in the sample\n",
        "sample_proportion = smokers / total_population\n",
        "\n",
        "# Calculate the standard error\n",
        "standard_error = ((sample_proportion * (1 - sample_proportion)) / total_population) ** 0.5\n",
        "\n",
        "# Calculate the margin of error\n",
        "margin_of_error = stats.norm.ppf(0.975) * standard_error\n",
        "\n",
        "# Calculate the confidence interval\n",
        "confidence_interval = (sample_proportion - margin_of_error, sample_proportion + margin_of_error)\n",
        "\n",
        "print(\"95% Confidence Interval for the Proportion of Smokers:\", confidence_interval)\n"
      ],
      "metadata": {
        "id": "-ylgKTOnVuyi"
      },
      "execution_count": null,
      "outputs": []
    },
    {
      "cell_type": "code",
      "source": [
        "#Answer 5:\n",
        "\n",
        "# Given data\n",
        "mean = 75\n",
        "std_dev = 12\n",
        "sample_size = 100  # Replace with the actual sample size\n",
        "\n",
        "# Calculate the margin of error\n",
        "margin_of_error = stats.norm.ppf(0.95) * (std_dev / (sample_size**0.5))\n",
        "\n",
        "# Calculate the confidence interval\n",
        "confidence_interval = (mean - margin_of_error, mean + margin_of_error)\n",
        "\n",
        "print(\"90% Confidence Interval:\", confidence_interval)\n"
      ],
      "metadata": {
        "colab": {
          "base_uri": "https://localhost:8080/"
        },
        "id": "wrEK21MWYY3O",
        "outputId": "246bae4c-ee66-43b6-9a67-f20bb2b181de"
      },
      "execution_count": 14,
      "outputs": [
        {
          "output_type": "stream",
          "name": "stdout",
          "text": [
            "90% Confidence Interval: (73.02617564765823, 76.97382435234177)\n"
          ]
        }
      ]
    },
    {
      "cell_type": "code",
      "source": [
        "#Answer 6:\n",
        "\n",
        "# Given data\n",
        "degrees_of_freedom = 10\n",
        "chi_square_statistic = 15\n",
        "\n",
        "# Generate x values for the chi-square distribution\n",
        "x_values = np.linspace(0, 30, 1000)\n",
        "y_values = stats.chi2.pdf(x_values, degrees_of_freedom)\n",
        "\n",
        "# Plot the chi-square distribution\n",
        "plt.plot(x_values, y_values, label=f'Chi-square Distribution (df={degrees_of_freedom})')\n",
        "\n",
        "# Shade the area corresponding to the chi-square statistic of 15\n",
        "plt.fill_between(x_values, y_values, where=(x_values >= chi_square_statistic), color='red', alpha=0.5, label=f'Chi-square Statistic = {chi_square_statistic}')\n",
        "\n",
        "# Label the axes\n",
        "plt.xlabel('Chi-square Statistic')\n",
        "plt.ylabel('Probability Density Function')\n",
        "plt.legend()\n",
        "plt.show()\n"
      ],
      "metadata": {
        "colab": {
          "base_uri": "https://localhost:8080/",
          "height": 449
        },
        "id": "AWGY7isVYY6Q",
        "outputId": "b5b7c0f1-4463-4251-fee1-15be5c7e1aa1"
      },
      "execution_count": 15,
      "outputs": [
        {
          "output_type": "display_data",
          "data": {
            "text/plain": [
              "<Figure size 640x480 with 1 Axes>"
            ],
            "image/png": "[encoded data removed]"
          },
          "metadata": {}
        }
      ]
    },
    {
      "cell_type": "code",
      "source": [
        "#Answer 7:\n",
        "\n",
        "# Given data\n",
        "total_population = 1000\n",
        "coke_preferred = 520\n",
        "\n",
        "# Calculate the proportion of people preferring Coke in the sample\n",
        "sample_proportion = coke_preferred / total_population\n",
        "\n",
        "# Calculate the standard error\n",
        "standard_error = ((sample_proportion * (1 - sample_proportion)) / total_population) ** 0.5\n",
        "\n",
        "# Calculate the margin of error\n",
        "margin_of_error = stats.norm.ppf(0.995) * standard_error\n",
        "\n",
        "# Calculate the confidence interval\n",
        "confidence_interval = (sample_proportion - margin_of_error, sample_proportion + margin_of_error)\n",
        "\n",
        "print(\"99% Confidence Interval for Coke Preference:\", confidence_interval)\n"
      ],
      "metadata": {
        "colab": {
          "base_uri": "https://localhost:8080/"
        },
        "id": "x7neg92VYY9E",
        "outputId": "2eff2f46-742c-4ec7-f455-c2fdeafb3316"
      },
      "execution_count": 16,
      "outputs": [
        {
          "output_type": "stream",
          "name": "stdout",
          "text": [
            "99% Confidence Interval for Coke Preference: (0.4793051576779699, 0.5606948423220302)\n"
          ]
        }
      ]
    },
    {
      "cell_type": "code",
      "source": [
        "#Answer 8:\n",
        "\n",
        "# Given data\n",
        "observed_tails = 45\n",
        "expected_tails = 50  # For a fair coin, the expected number of tails is 50\n",
        "\n",
        "# Calculate the observed number of heads\n",
        "observed_heads = 100 - observed_tails\n",
        "\n",
        "# Calculate the expected number of heads\n",
        "expected_heads = 100 - expected_tails\n",
        "\n",
        "# Observed and expected frequencies\n",
        "observed_frequencies = [observed_heads, observed_tails]\n",
        "expected_frequencies = [expected_heads, expected_tails]\n",
        "\n",
        "# Perform the chi-square goodness-of-fit test\n",
        "chi2_stat, p_value = stats.chisquare(f_obs=observed_frequencies, f_exp=expected_frequencies)\n",
        "\n",
        "# Print the results\n",
        "print(\"Chi-square Statistic:\", chi2_stat)\n",
        "print(\"P-value:\", p_value)\n",
        "\n",
        "# Interpret the results\n",
        "alpha = 0.05\n",
        "if p_value < alpha:\n",
        "    print(\"Reject the null hypothesis. The coin is biased towards tails.\")\n",
        "else:\n",
        "    print(\"Fail to reject the null hypothesis. There is no evidence that the coin is biased towards tails.\")\n"
      ],
      "metadata": {
        "colab": {
          "base_uri": "https://localhost:8080/"
        },
        "id": "6e2uov7KYY_6",
        "outputId": "37c56a51-b363-4f15-910b-c6bbc4df7a0f"
      },
      "execution_count": 19,
      "outputs": [
        {
          "output_type": "stream",
          "name": "stdout",
          "text": [
            "Chi-square Statistic: 1.0\n",
            "P-value: 0.31731050786291115\n",
            "Fail to reject the null hypothesis. There is no evidence that the coin is biased towards tails.\n"
          ]
        }
      ]
    },
    {
      "cell_type": "code",
      "source": [
        "#Answer 9:\n",
        "# Given data\n",
        "observed_data = np.array([[60, 140],\n",
        "                          [30, 170]])\n",
        "\n",
        "# Perform the chi-square test for independence\n",
        "chi2_stat, p_value, dof, expected = chi2_contingency(observed_data)\n",
        "\n",
        "# Print the results\n",
        "print(\"Chi-square Statistic:\", chi2_stat)\n",
        "print(\"P-value:\", p_value)\n",
        "\n",
        "# Interpret the results\n",
        "alpha = 0.05\n",
        "if p_value < alpha:\n",
        "    print(\"Reject the null hypothesis. There is a significant association between smoking status and lung cancer diagnosis.\")\n",
        "else:\n",
        "    print(\"Fail to reject the null hypothesis. There is no significant association between smoking status and lung cancer diagnosis.\")\n"
      ],
      "metadata": {
        "colab": {
          "base_uri": "https://localhost:8080/"
        },
        "id": "lGYn4zYfYZCz",
        "outputId": "5e9a0646-b6ca-48a9-9fed-8fd0f2752bc5"
      },
      "execution_count": 20,
      "outputs": [
        {
          "output_type": "stream",
          "name": "stdout",
          "text": [
            "Chi-square Statistic: 12.057347670250895\n",
            "P-value: 0.0005158863863703744\n",
            "Reject the null hypothesis. There is a significant association between smoking status and lung cancer diagnosis.\n"
          ]
        }
      ]
    },
    {
      "cell_type": "code",
      "source": [
        "#Answer 10:\n",
        "# Given data\n",
        "observed_data = np.array([[200, 150, 150],\n",
        "                          [225, 175, 100]])\n",
        "\n",
        "# Perform the chi-square test for independence\n",
        "chi2_stat, p_value, dof, expected = chi2_contingency(observed_data)\n",
        "\n",
        "# Print the results\n",
        "print(\"Chi-square Statistic:\", chi2_stat)\n",
        "print(\"P-value:\", p_value)\n",
        "\n",
        "# Interpret the results\n",
        "alpha = 0.01\n",
        "if p_value < alpha:\n",
        "    print(\"Reject the null hypothesis. There is a significant association between chocolate preference and country of origin.\")\n",
        "else:\n",
        "    print(\"Fail to reject the null hypothesis. There is no significant association between chocolate preference and country of origin.\")\n"
      ],
      "metadata": {
        "colab": {
          "base_uri": "https://localhost:8080/"
        },
        "id": "QvC7VizMe__R",
        "outputId": "72ea5cf3-72a1-4c9d-92a3-17c8e341b88f"
      },
      "execution_count": 21,
      "outputs": [
        {
          "output_type": "stream",
          "name": "stdout",
          "text": [
            "Chi-square Statistic: 13.393665158371041\n",
            "P-value: 0.0012348168997745918\n",
            "Reject the null hypothesis. There is a significant association between chocolate preference and country of origin.\n"
          ]
        }
      ]
    },
    {
      "cell_type": "code",
      "source": [
        "#Answer 11:\n",
        "\n",
        "\n",
        "# Given data\n",
        "sample_mean = 72\n",
        "sample_std_dev = 10\n",
        "sample_size = 30\n",
        "population_mean = 70\n",
        "\n",
        "# Perform a one-sample t-test\n",
        "t_stat, p_value = stats.ttest_1samp(np.random.normal(sample_mean, sample_std_dev, sample_size), population_mean)\n",
        "\n",
        "# Print the results\n",
        "print(\"t-statistic:\", t_stat)\n",
        "print(\"P-value:\", p_value)\n",
        "\n",
        "# Interpret the results\n",
        "alpha = 0.05\n",
        "if p_value < alpha:\n",
        "    print(\"Reject the null hypothesis. The population mean is significantly different from 70.\")\n",
        "else:\n",
        "    print(\"Fail to reject the null hypothesis. There is not enough evidence to suggest a significant difference from 70.\")\n"
      ],
      "metadata": {
        "colab": {
          "base_uri": "https://localhost:8080/"
        },
        "id": "tCSTNVm6jMnx",
        "outputId": "1c6b5beb-14a0-4a11-b828-18f29e3a7fbf"
      },
      "execution_count": 22,
      "outputs": [
        {
          "output_type": "stream",
          "name": "stdout",
          "text": [
            "t-statistic: 0.9866287718585257\n",
            "P-value: 0.3319854371578136\n",
            "Fail to reject the null hypothesis. There is not enough evidence to suggest a significant difference from 70.\n"
          ]
        }
      ]
    },
    {
      "cell_type": "code",
      "source": [],
      "metadata": {
        "id": "roe9jQM8jXGe"
      },
      "execution_count": null,
      "outputs": []
    }
  ]
}