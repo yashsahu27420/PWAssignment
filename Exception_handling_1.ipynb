{
  "nbformat": 4,
  "nbformat_minor": 0,
  "metadata": {
    "colab": {
      "provenance": []
    },
    "kernelspec": {
      "name": "python3",
      "display_name": "Python 3"
    },
    "language_info": {
      "name": "python"
    }
  },
  "cells": [
    {
      "cell_type": "code",
      "source": [
        "# Q1. What is an Exception in pthon? Write the differen,e etween Exceptions and syntax errors"
      ],
      "metadata": {
        "id": "Ce5hc2X8z0Pw"
      },
      "execution_count": null,
      "outputs": []
    },
    {
      "cell_type": "code",
      "execution_count": 1,
      "metadata": {
        "colab": {
          "base_uri": "https://localhost:8080/",
          "height": 88
        },
        "id": "saso0u21zTJg",
        "outputId": "2d4afdd3-3d80-4c17-c747-e3329fd4eca3"
      },
      "outputs": [
        {
          "output_type": "execute_result",
          "data": {
            "text/plain": [
              "'In Python, an exception is an error that occurs during the execution of a program. It represents an exceptional condition that disrupts the normal flow of code execution. Exceptions are used to handle errors and exceptional situations gracefully.\\n\\nSyntax errors, on the other hand, are mistakes in the syntax of the code that prevent it from being parsed and executed. They occur when the code violates the rules of the programming language.\\n\\nIn summary, exceptions occur during runtime and handle errors, while syntax errors occur during the parsing of the code.'"
            ],
            "application/vnd.google.colaboratory.intrinsic+json": {
              "type": "string"
            }
          },
          "metadata": {},
          "execution_count": 1
        }
      ],
      "source": [
        "\"\"\"In Python, an exception is an error that occurs during the execution of a program. It represents an exceptional condition that disrupts the normal flow of code execution. Exceptions are used to handle errors and exceptional situations gracefully.\n",
        "\n",
        "Syntax errors, on the other hand, are mistakes in the syntax of the code that prevent it from being parsed and executed. They occur when the code violates the rules of the programming language.\n",
        "\n",
        "In summary, exceptions occur during runtime and handle errors, while syntax errors occur during the parsing of the code.\"\"\""
      ]
    },
    {
      "cell_type": "code",
      "source": [
        "#Q2. What happens when an exception is not handled? Explain with an example"
      ],
      "metadata": {
        "id": "L6piRb2o0e5b"
      },
      "execution_count": null,
      "outputs": []
    },
    {
      "cell_type": "code",
      "source": [
        "\"\"\"When an exception is not handled, it propagates up the call stack until it reaches a catch block or the program terminates. This can result in the program crashing and displaying an error message to the user. For example, if a division by zero exception is not handled, the program will terminate with a \"ZeroDivisionError\" and provide a traceback.\"\"\""
      ],
      "metadata": {
        "colab": {
          "base_uri": "https://localhost:8080/",
          "height": 70
        },
        "id": "dwg0gN8Iz_aa",
        "outputId": "4160f0a0-be79-4998-bf80-8feef650598f"
      },
      "execution_count": 2,
      "outputs": [
        {
          "output_type": "execute_result",
          "data": {
            "text/plain": [
              "'When an exception is not handled, it propagates up the call stack until it reaches a catch block or the program terminates. This can result in the program crashing and displaying an error message to the user. For example, if a division by zero exception is not handled, the program will terminate with a \"ZeroDivisionError\" and provide a traceback.'"
            ],
            "application/vnd.google.colaboratory.intrinsic+json": {
              "type": "string"
            }
          },
          "metadata": {},
          "execution_count": 2
        }
      ]
    },
    {
      "cell_type": "code",
      "source": [],
      "metadata": {
        "id": "fFrEceOO2EZ5"
      },
      "execution_count": null,
      "outputs": []
    },
    {
      "cell_type": "code",
      "source": [
        "#Q3. Which Python statements are used to catch and handle and exceptions? Explain with an example"
      ],
      "metadata": {
        "id": "PBGEvFy42Eh2"
      },
      "execution_count": 14,
      "outputs": []
    },
    {
      "cell_type": "code",
      "source": [
        "class ValidAgeError(Exception):\n",
        "    pass\n",
        "\n",
        "def validate_age(age):\n",
        "    if age < 0:\n",
        "        raise ValidAgeError(\"Entered age is negative\")\n",
        "    elif age > 200:\n",
        "        raise ValidAgeError(\"Entered age is invalid\")\n",
        "    else:\n",
        "        print(\"Good\")\n",
        "\n",
        "try:\n",
        "    age = int(input(\"Enter age: \"))\n",
        "    validate_age(age)\n",
        "except ValidAgeError as e:\n",
        "    print(e)\n"
      ],
      "metadata": {
        "colab": {
          "base_uri": "https://localhost:8080/"
        },
        "id": "W2OoriMp1NJi",
        "outputId": "45ce8a1b-ae93-4ead-b122-9f878ff432a7"
      },
      "execution_count": 13,
      "outputs": [
        {
          "output_type": "stream",
          "name": "stdout",
          "text": [
            "Enter age: 265\n",
            "Entered age is invalid\n"
          ]
        }
      ]
    },
    {
      "cell_type": "code",
      "source": [
        "# Q4. Explain with an example:\n",
        "#a. try and else\n",
        "#b. finally\n",
        "#c. raise"
      ],
      "metadata": {
        "id": "9Dz1w77W1NwS"
      },
      "execution_count": 18,
      "outputs": []
    },
    {
      "cell_type": "code",
      "source": [
        "def divide_numbers(numb1, numb2):\n",
        "    try:\n",
        "        result = numb1 / numb2\n",
        "    except ZeroDivisionError:\n",
        "        print(\"Error: Cannot divide by zero!\")\n",
        "    else:\n",
        "        print(\"The division result is:\", result)\n",
        "    finally:\n",
        "        print(\"This block always executes, regardless of whether an exception occurred or not.\")\n",
        "\n",
        "# Example usage\n",
        "divide_numbers(10, 2)  # Output: The division result is: 5.0\n",
        "divide_numbers(10, 0)  # Output: Error: Cannot divide by zero!\n"
      ],
      "metadata": {
        "colab": {
          "base_uri": "https://localhost:8080/"
        },
        "id": "ed9mzWLP3cQF",
        "outputId": "42c2fa4c-e83d-4ac2-e68c-cb332e18db64"
      },
      "execution_count": 20,
      "outputs": [
        {
          "output_type": "stream",
          "name": "stdout",
          "text": [
            "The division result is: 5.0\n",
            "This block always executes, regardless of whether an exception occurred or not.\n",
            "Error: Cannot divide by zero!\n",
            "This block always executes, regardless of whether an exception occurred or not.\n"
          ]
        }
      ]
    },
    {
      "cell_type": "code",
      "source": [
        "#Q5. What are Custom Exceptions in python? Why do we need Custom Exceptions? Explain with an example"
      ],
      "metadata": {
        "id": "-Qs7f8Xk4-6J"
      },
      "execution_count": null,
      "outputs": []
    },
    {
      "cell_type": "code",
      "source": [
        "\"\"\"\n",
        "Custom exceptions in Python are user-defined exceptions that extend the built-in Exception class. They are used to handle specific error conditions in a program. Custom exceptions provide more meaningful and descriptive error messages, making it easier to understand and debug the code.\n",
        "\"\"\""
      ],
      "metadata": {
        "id": "GjmRBJ2W3dnw"
      },
      "execution_count": null,
      "outputs": []
    },
    {
      "cell_type": "code",
      "source": [
        "#Q6. Crete custom exception class. Use this class. use this class to handle an exeception."
      ],
      "metadata": {
        "id": "TuX0Xokf49-z"
      },
      "execution_count": 21,
      "outputs": []
    },
    {
      "cell_type": "code",
      "source": [
        "class CustomException(Exception):\n",
        "    pass\n",
        "\n",
        "try:\n",
        "    # Code that may raise an exception\n",
        "    raise CustomException(\"Custom exception occurred!\")\n",
        "except CustomException as e:\n",
        "    print(\"Custom exception handled:\", str(e))\n"
      ],
      "metadata": {
        "colab": {
          "base_uri": "https://localhost:8080/"
        },
        "id": "pbiIJMnB6n4P",
        "outputId": "7bebaf29-ae45-4812-a15f-d10023276a90"
      },
      "execution_count": 22,
      "outputs": [
        {
          "output_type": "stream",
          "name": "stdout",
          "text": [
            "Custom exception handled: Custom exception occurred!\n"
          ]
        }
      ]
    },
    {
      "cell_type": "code",
      "source": [],
      "metadata": {
        "id": "v5w_Zoky6xc4"
      },
      "execution_count": null,
      "outputs": []
    }
  ]
}