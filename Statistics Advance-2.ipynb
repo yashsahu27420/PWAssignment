{
  "nbformat": 4,
  "nbformat_minor": 0,
  "metadata": {
    "colab": {
      "provenance": [],
      "authorship_tag": "ABX9TyMmITWSRLu+xI3/vJZyoZsL"
    },
    "kernelspec": {
      "name": "python3",
      "display_name": "Python 3"
    },
    "language_info": {
      "name": "python"
    }
  },
  "cells": [
    {
      "cell_type": "code",
      "execution_count": 1,
      "metadata": {
        "id": "Cge6gNSfOSPw"
      },
      "outputs": [],
      "source": [
        "\n",
        "#A1: PMF tells us the likelihood of specific outcomes in a discrete probability distribution, like rolling a die. PDF does the same for continuous distributions, like measuring people's heights.\n",
        "\n",
        "#A2: CDF shows the probability a random variable is less than or equal to a certain value. It helps understand overall likelihood and is useful in statistics.\n",
        "\n",
        "#A3: Normal distribution is like a bell curve and often fits things like people's heights, exam scores, or IQs. The mean (average) and standard deviation control its shape.\n",
        "\n",
        "#A4: Normal distribution is vital in statistics as many real-world phenomena, like test scores or heights, follow its pattern. It helps make predictions and understand data variability.\n",
        "\n",
        "#A5: Bernoulli Distribution deals with two possible outcomes (like heads or tails in a coin flip). If you repeat this experiment multiple times, you get a Binomial Distribution.\n",
        "\n",
        "#A6: Assuming a normal distribution with mean 50 and standard deviation 10, the probability a random observation is > 60 can be calculated using the Z-score formula, resulting in about 0.3085.\n",
        "\n",
        "#A7: Uniform Distribution means all outcomes are equally likely. Imagine rolling a fair six-sided die – each number has an equal chance of landing.\n",
        "\n",
        "#A8: The z score measures how many standard deviations an observation is from the mean. It's important in understanding how unusual or common a value is in a distribution.\n",
        "\n",
        "#A9: The Central Limit Theorem says that, no matter the original distribution, the average of many samples tends to be normally distributed. This helps in making statistical inferences.\n",
        "\n",
        "#A10: Central Limit Theorem assumes random sampling, independence, and a sufficiently large sample size for accurate approximations. It's like saying if you have enough M&Ms, the average color will be close to the overall average."
      ]
    },
    {
      "cell_type": "code",
      "source": [],
      "metadata": {
        "id": "Q3-QLvbjOvbV"
      },
      "execution_count": null,
      "outputs": []
    }
  ]
}