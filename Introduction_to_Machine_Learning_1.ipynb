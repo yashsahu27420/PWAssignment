{
  "nbformat": 4,
  "nbformat_minor": 0,
  "metadata": {
    "colab": {
      "provenance": [],
      "authorship_tag": "ABX9TyNAK76dEXmwZAE/Agslvhc1"
    },
    "kernelspec": {
      "name": "python3",
      "display_name": "Python 3"
    },
    "language_info": {
      "name": "python"
    }
  },
  "cells": [
    {
      "cell_type": "code",
      "execution_count": null,
      "metadata": {
        "id": "W8pc-26YUwGH"
      },
      "outputs": [],
      "source": []
    },
    {
      "cell_type": "markdown",
      "source": [
        "Q1: Explain the following with an example:\n",
        "\n",
        "A) Artificial Intelligence\n",
        "B) Machine Learning\n",
        "C) Deep Learning\n",
        "* Artificial Intelligence (AI) refers to the simulation of human intelligence in machines.\n",
        "\n",
        "* Machine Learning (ML) involves algorithms that enable systems to learn from data.\n",
        "\n",
        "* Deep Learning (DL) is a subset of ML utilizing neural networks for complex tasks. An example is AI in image recognition , using ML algorithms (including DL) to improve accuracy over time.\n",
        "\n",
        "Q2: What is supervised learning? List some examples.\n",
        "\n",
        "Supervised learning is a type of machine learning where the algorithm is trained on a labeled dataset, learning to map input to output. Examples include spam email classification, image recognition, and language translation.\n",
        "\n",
        "Q3: What is unsupervised learning? List some examples.\n",
        "\n",
        "Unsupervised learning involves algorithms learning from unlabeled data, discovering patterns or structures. Examples include clustering customer segments, topic modeling in text, and anomaly detection.\n",
        "\n",
        "Q4: What is the difference between AI, ML, DL, and DS?\n",
        "\n",
        "AI is the broader concept of machines mimicking human intelligence. ML is a subset of AI, focusing on algorithms learning from data. DL is a subset of ML, utilizing neural networks. DS, or Data Science, encompasses techniques for extracting insights and knowledge from data, including AI and ML.\n",
        "\n",
        "Q5: What are the main differences between supervised, unsupervised, and semi-supervised learning?\n",
        "\n",
        "Supervised learning uses labeled data for training, unsupervised learning uses unlabeled data, and semi-supervised learning combines both labeled and unlabeled data for training. Supervised deals with prediction, unsupervised with discovering patterns, and semi-supervised is a mix, useful when labeling data is expensive.\n",
        "\n",
        "Q6: What is train, test, and validation split? Explain the importance of each term.\n",
        "\n",
        "Train, test, and validation split refers to dividing a dataset into portions for training, evaluating, and validating a model. Training data builds the model, test data assesses its performance, and validation data helps fine-tune parameters, preventing overfitting and ensuring generalization.\n",
        "\n",
        "Q7: How can unsupervised learning be used in anomaly detection?\n",
        "\n",
        "Unsupervised learning can detect anomalies by learning the normal patterns in data and identifying deviations. For example, clustering algorithms can group normal behavior, making anomalies stand out as outliers.\n",
        "\n",
        "Q8: List down some commonly used supervised and unsupervised learning algorithms.\n",
        "\n",
        "Supervised learning algorithms include Linear Regression, Decision Trees, and Support Vector Machines. Unsupervised learning algorithms comprise K-Means Clustering, Hierarchical Clustering, and Principal Component Analysis."
      ],
      "metadata": {
        "id": "sFFiztXxUzs-"
      }
    },
    {
      "cell_type": "code",
      "source": [],
      "metadata": {
        "id": "7oddjf9qU5XI"
      },
      "execution_count": null,
      "outputs": []
    }
  ]
}