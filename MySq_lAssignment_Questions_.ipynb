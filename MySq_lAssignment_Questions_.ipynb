{
  "nbformat": 4,
  "nbformat_minor": 0,
  "metadata": {
    "colab": {
      "provenance": []
    },
    "kernelspec": {
      "name": "python3",
      "display_name": "Python 3"
    },
    "language_info": {
      "name": "python"
    }
  },
  "cells": [
    {
      "cell_type": "code",
      "execution_count": 1,
      "metadata": {
        "id": "uxtk1_J2VOln"
      },
      "outputs": [],
      "source": [
        "#Q1. A database is a structured collection of data. SQL databases use a structured query language for relational data (e.g., MySQL), while NoSQL databases (e.g., MongoDB) store and retrieve data in various ways, like documents, key-value pairs, or graphs."
      ]
    },
    {
      "cell_type": "code",
      "source": [
        " #Q2. DDL (Data Definition Language) defines and manages the structure of a database. CREATE is used to make a new table, ALTER modifies its structure, DROP deletes it, and TRUNCATE removes all data while keeping the structure intact. Example: CREATE TABLE Students (ID INT, Name VARCHAR(50));"
      ],
      "metadata": {
        "id": "ZZrAH7jSVX49"
      },
      "execution_count": 1,
      "outputs": []
    },
    {
      "cell_type": "code",
      "source": [
        "#Q3. DML (Data Manipulation Language) handles data manipulation. INSERT adds records, UPDATE modifies existing records, and DELETE removes records. Example: INSERT INTO Customers (ID, Name) VALUES (1, 'John');"
      ],
      "metadata": {
        "id": "BtqKO4ljVZCj"
      },
      "execution_count": 3,
      "outputs": []
    },
    {
      "cell_type": "code",
      "source": [
        "#Q4. DQL (Data Query Language) retrieves data. SELECT retrieves specific columns or all data from a table. Example: SELECT Name, Age FROM Employees;"
      ],
      "metadata": {
        "id": "G5xbuwp4VZF0"
      },
      "execution_count": 4,
      "outputs": []
    },
    {
      "cell_type": "code",
      "source": [
        "#Q5. Primary Key uniquely identifies each record in a table (e.g., ID in Students). Foreign Key establishes a link between tables, referring to the Primary Key in another table to create relationships (e.g., StudentID in Courses referencing Students' ID)."
      ],
      "metadata": {
        "id": "1njFGt3gVZIi"
      },
      "execution_count": 7,
      "outputs": []
    },
    {
      "cell_type": "markdown",
      "source": [
        "\n",
        "\n",
        "Q6.Write a python code to connect MySQL to python. Explain the cursor() and execute() method.\n"
      ],
      "metadata": {
        "id": "beLmkzsSWBM3"
      }
    },
    {
      "cell_type": "code",
      "source": [
        "import mysql.connector\n",
        "# import mysql.connector\n",
        "#create user 'user'@'%' identified by 'password'\n",
        "mydb = mysql.connector.connect(\n",
        "  host=\"localhost\",\n",
        "  user=\"abc\",\n",
        "  password=\"password\"\n",
        ")\n",
        "cur = mydb.cursor()\n",
        "cur.execute(\"select * from test2556.testtabl8\")\n",
        "for i in cur.fetchall():\n",
        "  print(i)\n",
        "mydb.close()"
      ],
      "metadata": {
        "id": "KfsxWuNPV_wF"
      },
      "execution_count": null,
      "outputs": []
    },
    {
      "cell_type": "code",
      "source": [
        "''' Q7. Order of SQL clause execution:\n",
        "\n",
        "FROM\n",
        "WHERE\n",
        "GROUP BY\n",
        "HAVING\n",
        "SELECT\n",
        "DISTINCT\n",
        "ORDER BY\n",
        "LIMIT/OFFSET (optional)\n",
        "These clauses filter, group, and sort data sequentially in a SELECT query.'''"
      ],
      "metadata": {
        "colab": {
          "base_uri": "https://localhost:8080/",
          "height": 53
        },
        "id": "SANhho5tVZLU",
        "outputId": "4c878511-3425-4561-84ae-0296fdb49fa6"
      },
      "execution_count": 6,
      "outputs": [
        {
          "output_type": "execute_result",
          "data": {
            "text/plain": [
              "' Q7. Order of SQL clause execution:\\n\\nFROM\\nWHERE\\nGROUP BY\\nHAVING\\nSELECT\\nDISTINCT\\nORDER BY\\nLIMIT/OFFSET (optional)\\nThese clauses filter, group, and sort data sequentially in a SELECT query.'"
            ],
            "application/vnd.google.colaboratory.intrinsic+json": {
              "type": "string"
            }
          },
          "metadata": {},
          "execution_count": 6
        }
      ]
    },
    {
      "cell_type": "code",
      "source": [],
      "metadata": {
        "id": "TbeKorrzVZOn"
      },
      "execution_count": null,
      "outputs": []
    },
    {
      "cell_type": "code",
      "source": [],
      "metadata": {
        "id": "ki7nXH-jVZRu"
      },
      "execution_count": null,
      "outputs": []
    }
  ]
}