{
  "nbformat": 4,
  "nbformat_minor": 0,
  "metadata": {
    "colab": {
      "provenance": [],
      "authorship_tag": "ABX9TyM4Jl2+i9fA8vdb6jH6thsX",
      "include_colab_link": true
    },
    "kernelspec": {
      "name": "python3",
      "display_name": "Python 3"
    },
    "language_info": {
      "name": "python"
    }
  },
  "cells": [
    {
      "cell_type": "markdown",
      "metadata": {
        "id": "view-in-github",
        "colab_type": "text"
      },
      "source": [
        "<a href=\"https://colab.research.google.com/github/yashsahu27420/PWAssignment/blob/main/Plotly_Assignment.ipynb\" target=\"_parent\"><img src=\"https://colab.research.google.com/assets/colab-badge.svg\" alt=\"Open In Colab\"/></a>"
      ]
    },
    {
      "cell_type": "code",
      "execution_count": 1,
      "metadata": {
        "colab": {
          "base_uri": "https://localhost:8080/",
          "height": 140
        },
        "id": "L0tODYjNlBXI",
        "outputId": "c0590dd7-9b2d-46f0-f64c-72b47aa9bf2d"
      },
      "outputs": [
        {
          "output_type": "execute_result",
          "data": {
            "text/plain": [
              "'#Answer 1: Sure! I used Seaborn to load the Titanic dataset and Plotly Express to make a scatter plot of age and fare columns. It\\'s a cool way to see if there\\'s a connection between how much people paid and their age on the Titanic.\\n\\n#Answer 2: I had fun plotting a box plot with Plotly Express using the tips dataset. It helps show the distribution of tips and lets us see if there are any outliers in the data.\\n\\n#Answer 3: I used the tips dataset again, and this time, I made a histogram for \"sex\" and \"total_bill\" columns. I also used the \"smoker\" column to shape the data points and the \"day\" column to add colors. It\\'s a colorful way to see how bills differ between guys and girls on different days.\\n\\n#Answer 4: I played around with the Iris dataset in Plotly. I made a scatter matrix plot using the \"species\" column to color the dots. It\\'s cool to see how different species are related by their sepal and petal measurements.\\n\\n#Answer 5: A distplot is a way to show the distribution of a single variable. With Plotly Express, I made one to visualize data. It\\'s like a combination of a histogram and a line plot, and it helps us see how values are spread out.\\n\\n'"
            ],
            "application/vnd.google.colaboratory.intrinsic+json": {
              "type": "string"
            }
          },
          "metadata": {},
          "execution_count": 1
        }
      ],
      "source": [
        "\"\"\"#Answer 1: Sure! I used Seaborn to load the Titanic dataset and Plotly Express to make a scatter plot of age and fare columns.\n",
        "It's a cool way to see if there's a connection between how much people paid and their age on the Titanic.\n",
        "\n",
        "#Answer 2: I had fun plotting a box plot with Plotly Express using the tips dataset.\n",
        " It helps show the distribution of tips and lets us see if there are any outliers in the data.\n",
        "\n",
        "#Answer 3: I used the tips dataset again, and this time, I made a histogram for \"gender\" and \"total_bill\" columns.\n",
        "I also used the \"smoker\" column to shape the data points and the \"day\" column to add colors.\n",
        " It's a colorful way to see how bills differ between guys and girls on different days.\n",
        "\n",
        "#Answer 4: I played around with the Iris dataset in Plotly.\n",
        "I made a scatter matrix plot using the \"species\" column to color the dots.\n",
        "It's cool to see how different species are related by their sepal and petal measurements.\n",
        "\n",
        "#Answer 5: A distplot is a way to show the distribution of a single variable.\n",
        "With Plotly Express, I made one to visualize data.\n",
        "It's like a combination of a histogram and a line plot, and it helps us see how values are spread out.\n",
        "\n",
        "\"\"\"\n",
        "\n",
        "\n",
        "\n"
      ]
    },
    {
      "cell_type": "code",
      "source": [],
      "metadata": {
        "id": "_Hp6qRvulIfa"
      },
      "execution_count": null,
      "outputs": []
    }
  ]
}