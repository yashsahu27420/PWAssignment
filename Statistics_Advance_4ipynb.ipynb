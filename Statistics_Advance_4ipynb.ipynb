{
  "nbformat": 4,
  "nbformat_minor": 0,
  "metadata": {
    "colab": {
      "provenance": [],
      "authorship_tag": "ABX9TyMYWFV+H3OdFiYCF9iiYvuB",
      "include_colab_link": true
    },
    "kernelspec": {
      "name": "python3",
      "display_name": "Python 3"
    },
    "language_info": {
      "name": "python"
    }
  },
  "cells": [
    {
      "cell_type": "markdown",
      "metadata": {
        "id": "view-in-github",
        "colab_type": "text"
      },
      "source": [
        "<a href=\"https://colab.research.google.com/github/yashsahu27420/PWAssignment/blob/main/Statistics_Advance_4ipynb.ipynb\" target=\"_parent\"><img src=\"https://colab.research.google.com/assets/colab-badge.svg\" alt=\"Open In Colab\"/></a>"
      ]
    },
    {
      "cell_type": "code",
      "execution_count": null,
      "metadata": {
        "id": "iS099aFrvW1c"
      },
      "outputs": [],
      "source": []
    },
    {
      "cell_type": "markdown",
      "source": [
        "Q1: A t-test is used for small sample sizes, while a z-test is for larger samples. For example, a t-test might assess if there's a significant difference in exam scores between two groups of students. A z-test could analyze the mean height difference between two large populations.\n",
        "\n",
        "Q2: In a one-tailed test, significance is measured in one direction (either greater or smaller), while a two-tailed test considers significance in both directions. For instance, a one-tailed test might examine if a drug increases blood pressure, while a two-tailed test would assess if it changes blood pressure in any direction.\n",
        "\n",
        "Q3: Type 1 error occurs when a true null hypothesis is rejected (false positive), and Type 2 error occurs when a false null hypothesis is not rejected (false negative). For example, rejecting a good drug (Type 1) or failing to reject a useless drug (Type 2).\n",
        "\n",
        "Q4: Bayes's Theorem calculates the probability of an event based on prior knowledge and new evidence. Example: determining the probability of having a disease given the prevalence in the population and the accuracy of a diagnostic test.\n",
        "\n",
        "Q5: A confidence interval is a range around a sample statistic, indicating the likely range of values for the population parameter. To calculate, use formula: CI = X̄ ± Z * (σ/√n). Example: A 95% CI for a mean of 50 with a standard deviation of 5 and a sample size of 30 is 48.68 to 51.32.\n",
        "\n",
        "Q6: Problem: Given a prior probability of 0.3 for rain, and a new weather pattern suggesting rain with a 0.8 likelihood if it will rain and 0.2 if it won't, calculate the updated probability of rain using Bayes's Theorem.\n",
        "\n",
        "Solution: P(Rain|New Evidence) = (P(New Evidence|Rain) * P(Rain)) / P(New Evidence) = (0.8 * 0.3) / [(0.8 * 0.3) + (0.2 * 0.7)] ≈ 0.46.\n",
        "\n",
        "Q7: The 95% confidence interval is [47.62, 52.38]. This means we are 95% confident that the true population mean lies between 47.62 and 52.38.\n",
        "\n",
        "Q8: The margin of error is the range within which the true population parameter is likely to fall. Larger sample sizes lead to smaller margins of error. For example, a sample of 1000 may have a smaller margin of error than a sample of 100.\n",
        "\n",
        "Q9: The z-score is (75 - 70) / 5 = 1. Interpretation: The data point is 1 standard deviation above the mean in a normal distribution.\n",
        "\n",
        "Q10: Hypothesis Test: t-statistic = (6 - 0) / (2.5/√50) ≈ 9.49. With df = 49, p < 0.0001. The drug is significantly effective at a 95% confidence level.\n",
        "\n",
        "Q11: The 95% confidence interval for the true proportion is approximately [61.5%, 68.5%].\n",
        "\n",
        "Q12: Hypothesis Test: t-statistic = (85 - 82) / √[(6²/50) + (5²/50)] ≈ 2.89. With df = 98, p < 0.01. There's a significant difference between the teaching methods.\n",
        "\n",
        "Q13: The 90% confidence interval is [63.88, 66.12].\n",
        "\n",
        "Q14: Hypothesis Test: t-statistic = (0.25 - 0) / (0.05/√30) ≈ 11.66. With df = 29, p < 0.0001. Caffeine has a significant effect on reaction time at a 90% confidence level."
      ],
      "metadata": {
        "id": "S20B9nIhvXpN"
      }
    },
    {
      "cell_type": "code",
      "source": [],
      "metadata": {
        "id": "GJSgdONbvY5h"
      },
      "execution_count": null,
      "outputs": []
    }
  ]
}