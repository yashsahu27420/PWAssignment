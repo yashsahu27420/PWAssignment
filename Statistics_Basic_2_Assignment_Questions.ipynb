{
  "nbformat": 4,
  "nbformat_minor": 0,
  "metadata": {
    "colab": {
      "provenance": [],
      "authorship_tag": "ABX9TyM+ky14Ayj88BvXHS8xtq3+",
      "include_colab_link": true
    },
    "kernelspec": {
      "name": "python3",
      "display_name": "Python 3"
    },
    "language_info": {
      "name": "python"
    }
  },
  "cells": [
    {
      "cell_type": "markdown",
      "metadata": {
        "id": "view-in-github",
        "colab_type": "text"
      },
      "source": [
        "<a href=\"https://colab.research.google.com/github/yashsahu27420/PWAssignment/blob/main/Statistics_Basic_2_Assignment_Questions.ipynb\" target=\"_parent\"><img src=\"https://colab.research.google.com/assets/colab-badge.svg\" alt=\"Open In Colab\"/></a>"
      ]
    },
    {
      "cell_type": "code",
      "source": [
        "#Statistics Basic-2 Assignment Questions\n",
        "# https://drive.google.com/drive/folders/11pflTUuJLBleHIO1RFHSQLW-wfuygEUV"
      ],
      "metadata": {
        "id": "IU5Jf0t9tShi"
      },
      "execution_count": null,
      "outputs": []
    },
    {
      "cell_type": "markdown",
      "source": [
        "Q1: What are the three measures of central tendency?\n",
        "\n",
        "Answer 1: The three measures of central tendency are mean (average), median (middle value), and mode (most common value).\n",
        "\n",
        "Q2: What is the difference between the mean, median, and mode? How are they used to measure the central tendency of a dataset?\n",
        "\n",
        "Answer 2: Mean is the average, median is the middle value, and mode is the most repeated value. They help tell where most data falls in a group.\n",
        "\n",
        "Q3: Measure the three measures of central tendency for the given height data:\n",
        "[178,177,176,177,178.2,178,175,179,180,175,178.9,176.2,177,172.5,178,176.5]\n",
        "Answer 3: The mean is about 177.53, the median is 177.5, and the mode is 178.\n",
        "\n",
        "Q4: Find the standard deviation for the given data:\n",
        "[178,177,176,177,178.2,178,175,179,180,175,178.9,176.2,177,172.5,178,176.5]\n",
        "Answer 4: The standard deviation is approximately 2.\n",
        "\n",
        "Q5: How are measures of dispersion such as range, variance, and standard deviation used to describe the spread of a dataset? Provide an example.\n",
        "\n",
        "Answer 5: They show how data varies. A bigger range or standard deviation means more spread. For example, a small range (2-4) has less spread than a large range (1-10).\n",
        "\n",
        "Q6: What is a Venn diagram?\n",
        "\n",
        "Answer 6: A Venn diagram is a way to show how different groups or sets have things in common and what makes them unique, using overlapping circles.\n",
        "\n",
        "Q7: For the two given sets A = (2,3,4,5,6,7) & B = (0,2,6,8,10). Find:\n",
        "(i) A ∩ B\n",
        "(ii) A ∪ B\n",
        "\n",
        "Answer 7:\n",
        "(i) A ∩ B is {2, 6} (the common elements)\n",
        "(ii) A ∪ B is {0, 2, 3, 4, 5, 6, 7, 8, 10} (all elements from A and B)\n",
        "\n",
        "Q8: What do you understand about skewness in data?\n",
        "\n",
        "Answer 8: Skewness shows how data is not evenly distributed. If it's right-skewed, it means most data is on the left, and if left-skewed, it's on the right.\n",
        "\n",
        "Q9: If a data is right skewed then what will be the position of median with respect to mean?\n",
        "\n",
        "Answer 9: If it's right-skewed, the median is smaller than the mean. The mean gets pulled to the right by the extreme values.\n",
        "\n",
        "Q10: Explain the difference between covariance and correlation. How are these measures used in statistical analysis?\n",
        "\n",
        "Answer 10: Covariance tells if two things change together, while correlation shows how strong that relationship is. They help analyze how two variables are connected.\n",
        "\n",
        "Q11: What is the formula for calculating the sample mean? Provide an example calculation for a dataset.\n",
        "\n",
        "Answer 11: Sample mean formula is (sum of all values) / (number of values). For example, for numbers 2, 4, and 6, the mean is (2 + 4 + 6) / 3 = 4.\n",
        "\n",
        "Q12: For a normal distribution data what is the relationship between its measure of central tendency?\n",
        "\n",
        "Answer 12: In a normal distribution, the mean, median, and mode are all in the same place, right in the center.\n",
        "\n",
        "Q13: How is covariance different from correlation?\n",
        "\n",
        "Answer 13: Covariance tells if two things change together, but correlation scales it to a range between -1 and 1, showing how strong the relationship is.\n",
        "\n",
        "Q14: How do outliers affect measures of central tendency and dispersion? Provide an example.\n",
        "\n",
        "Answer 14: Outliers can make the mean move far from the center, but the median and mode are less affected. For example, if a class's ages are mostly 18, but one student is 50, the mean age goes up a lot, but the median and mode stay at 18. Outliers also increase dispersion measures like range and standard deviation."
      ],
      "metadata": {
        "id": "8wXB3XOksb6t"
      }
    }
  ]
}