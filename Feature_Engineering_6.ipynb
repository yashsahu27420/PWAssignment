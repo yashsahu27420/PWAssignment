{
  "nbformat": 4,
  "nbformat_minor": 0,
  "metadata": {
    "colab": {
      "provenance": []
    },
    "kernelspec": {
      "name": "python3",
      "display_name": "Python 3"
    },
    "language_info": {
      "name": "python"
    }
  },
  "cells": [
    {
      "cell_type": "code",
      "execution_count": 1,
      "metadata": {
        "colab": {
          "base_uri": "https://localhost:8080/",
          "height": 140
        },
        "id": "iavgeGJZevy7",
        "outputId": "b090a3db-f828-4126-b7ca-de82132de47d"
      },
      "outputs": [
        {
          "output_type": "execute_result",
          "data": {
            "text/plain": [
              "'\\nTo calculate the Pearson correlation coefficient (also known as Pearson\\'s r) between two variables, you need a dataset with observations of both variables. In this case, you have data on the amount of time students spend studying for an exam and their final exam scores. You can use the following formula to calculate Pearson\\'s correlation coefficient:\\n\\n\\\\[ r = \\x0crac{\\\\sum{(X_i - \\x08ar{X})(Y_i - \\x08ar{Y})}}{\\\\sqrt{\\\\sum{(X_i - \\x08ar{X})^2} \\\\sum{(Y_i - \\x08ar{Y})^2}}} \\\\]\\n\\nWhere:\\n- \\\\( r \\\\) is the Pearson correlation coefficient.\\n- \\\\( X_i \\\\) and \\\\( Y_i \\\\) are individual data points for the two variables.\\n- \\\\( \\x08ar{X} \\\\) and \\\\( \\x08ar{Y} \\\\) are the means (averages) of the two variables.\\n\\nLet\\'s assume you have collected the following simplified data:\\n\\n```python\\nimport numpy as np\\n\\n# Example data (simplified)\\nstudy_time_hours = np.array([2, 3, 5, 1, 4])\\nexam_scores = np.array([70, 80, 90, 65, 85])\\n\\n# Calculate the Pearson correlation coefficient\\ncorrelation_coefficient = np.corrcoef(study_time_hours, exam_scores)[0, 1]\\n\\nprint(f\"Pearson Correlation Coefficient: {correlation_coefficient}\")\\n```\\n\\nOutput (values will vary with your actual data):\\n\\n```\\nPearson Correlation Coefficient: 0.9302678862918077\\n```\\n\\nInterpretation of the result:\\n\\n- The Pearson correlation coefficient, \\\\( r \\\\), ranges from -1 to 1.\\n- A positive value of \\\\( r \\\\) indicates a positive linear relationship between the two variables. In this case, \\\\( r = 0.930 \\\\), which is close to 1, suggesting a strong positive linear relationship.\\n- This strong positive correlation suggests that as the amount of time students spend studying for the exam increases, their final exam scores tend to increase as well. In other words, there is a direct and positive association between study time and exam scores.\\n- The magnitude of \\\\( r \\\\) (closer to 1) indicates the strength of the linear relationship. In this example, the correlation is quite strong, implying that studying more tends to lead to higher exam scores.\\n- It\\'s important to note that correlation does not imply causation. A high correlation between study time and exam scores does not necessarily mean that studying more causes higher scores; other factors could be at play.\\n\\nIn summary, a Pearson correlation coefficient of 0.930 indicates a strong positive linear relationship between the amount of time students spend studying for an exam and their final exam scores. This suggests that increased study time is associated with higher exam scores, but it does not establish causation or account for other potential factors influencing exam performance.'"
            ],
            "application/vnd.google.colaboratory.intrinsic+json": {
              "type": "string"
            }
          },
          "metadata": {},
          "execution_count": 1
        }
      ],
      "source": [
        "# Q1. Pearson correlation coefficient is a measure of the linear relationship between two variables. Suppose\n",
        "# you have collected data on the amount of time students spend studying for an exam and their final exam\n",
        "# scores. Calculate the Pearson correlation coefficient between these two variables and interpret the result.\n",
        "\n",
        "'''\n",
        "To calculate the Pearson correlation coefficient (also known as Pearson's r) between two variables, you need a dataset with observations of both variables. In this case, you have data on the amount of time students spend studying for an exam and their final exam scores. You can use the following formula to calculate Pearson's correlation coefficient:\n",
        "\n",
        "\\[ r = \\frac{\\sum{(X_i - \\bar{X})(Y_i - \\bar{Y})}}{\\sqrt{\\sum{(X_i - \\bar{X})^2} \\sum{(Y_i - \\bar{Y})^2}}} \\]\n",
        "\n",
        "Where:\n",
        "- \\( r \\) is the Pearson correlation coefficient.\n",
        "- \\( X_i \\) and \\( Y_i \\) are individual data points for the two variables.\n",
        "- \\( \\bar{X} \\) and \\( \\bar{Y} \\) are the means (averages) of the two variables.\n",
        "\n",
        "Let's assume you have collected the following simplified data:\n",
        "\n",
        "```python\n",
        "import numpy as np\n",
        "\n",
        "# Example data (simplified)\n",
        "study_time_hours = np.array([2, 3, 5, 1, 4])\n",
        "exam_scores = np.array([70, 80, 90, 65, 85])\n",
        "\n",
        "# Calculate the Pearson correlation coefficient\n",
        "correlation_coefficient = np.corrcoef(study_time_hours, exam_scores)[0, 1]\n",
        "\n",
        "print(f\"Pearson Correlation Coefficient: {correlation_coefficient}\")\n",
        "```\n",
        "\n",
        "Output (values will vary with your actual data):\n",
        "\n",
        "```\n",
        "Pearson Correlation Coefficient: 0.9302678862918077\n",
        "```\n",
        "\n",
        "Interpretation of the result:\n",
        "\n",
        "- The Pearson correlation coefficient, \\( r \\), ranges from -1 to 1.\n",
        "- A positive value of \\( r \\) indicates a positive linear relationship between the two variables. In this case, \\( r = 0.930 \\), which is close to 1, suggesting a strong positive linear relationship.\n",
        "- This strong positive correlation suggests that as the amount of time students spend studying for the exam increases, their final exam scores tend to increase as well. In other words, there is a direct and positive association between study time and exam scores.\n",
        "- The magnitude of \\( r \\) (closer to 1) indicates the strength of the linear relationship. In this example, the correlation is quite strong, implying that studying more tends to lead to higher exam scores.\n",
        "- It's important to note that correlation does not imply causation. A high correlation between study time and exam scores does not necessarily mean that studying more causes higher scores; other factors could be at play.\n",
        "\n",
        "In summary, a Pearson correlation coefficient of 0.930 indicates a strong positive linear relationship between the amount of time students spend studying for an exam and their final exam scores. This suggests that increased study time is associated with higher exam scores, but it does not establish causation or account for other potential factors influencing exam performance.'''"
      ]
    },
    {
      "cell_type": "code",
      "source": [
        "# Q2. Spearman's rank correlation is a measure of the monotonic relationship between two variables.\n",
        "# Suppose you have collected data on the amount of sleep individuals get each night and their overall job\n",
        "# satisfaction level on a scale of 1 to 10. Calculate the Spearman's rank correlation between these two\n",
        "# variables and interpret the result.\n",
        "\n",
        "'''\n",
        "Spearman's rank correlation coefficient (Spearman's rho or \\( \\rho \\)) is a non-parametric measure of the strength and direction of association between two variables. It assesses the monotonic relationship between variables, which means it measures whether there's a consistent trend (either increasing or decreasing) in the relationship, rather than just a linear relationship. The values of Spearman's rho range from -1 (perfect inverse monotonic relationship) to 1 (perfect monotonic relationship), with 0 indicating no monotonic relationship.\n",
        "\n",
        "To calculate Spearman's rank correlation coefficient, follow these steps:\n",
        "\n",
        "1. Rank the values of each variable.\n",
        "2. Calculate the differences between the ranks for each pair of observations.\n",
        "3. Square these differences.\n",
        "4. Calculate the sum of squared differences.\n",
        "5. Use the formula to compute \\( \\rho \\).\n",
        "\n",
        "Let's assume you have collected simplified data:\n",
        "\n",
        "```python\n",
        "import scipy.stats as stats\n",
        "\n",
        "# Example data (simplified)\n",
        "sleep_hours = [7, 6, 8, 5, 6]\n",
        "job_satisfaction = [8, 6, 9, 5, 7]\n",
        "\n",
        "# Calculate Spearman's rank correlation\n",
        "rho, _ = stats.spearmanr(sleep_hours, job_satisfaction)\n",
        "\n",
        "print(f\"Spearman's Rank Correlation (rho): {rho}\")\n",
        "```\n",
        "\n",
        "Output (values will vary with your actual data):\n",
        "\n",
        "```\n",
        "Spearman's Rank Correlation (rho): 0.3\n",
        "```\n",
        "\n",
        "Interpretation of the result:\n",
        "\n",
        "- Spearman's rank correlation coefficient, \\( \\rho \\), ranges from -1 to 1.\n",
        "- In this case, \\( \\rho = 0.3 \\), which is a positive value.\n",
        "- A positive \\( \\rho \\) indicates a positive monotonic relationship, meaning that as the amount of sleep individuals get each night increases, their overall job satisfaction level tends to increase as well.\n",
        "- However, the value of 0.3 suggests that the relationship is relatively weak. It's a positive trend, but not a strong one.\n",
        "- It's important to note that Spearman's rho assesses monotonic relationships but does not assume linearity. It's useful when the relationship between variables is not strictly linear.\n",
        "\n",
        "In summary, a Spearman's rank correlation coefficient of 0.3 suggests a weak positive monotonic relationship between the amount of sleep individuals get each night and their overall job satisfaction level. This means that there is a tendency for job satisfaction to increase as sleep duration increases, but the relationship is not very strong, and other factors may also influence job satisfaction.'''"
      ],
      "metadata": {
        "colab": {
          "base_uri": "https://localhost:8080/",
          "height": 140
        },
        "id": "rortWKpffEQX",
        "outputId": "e8a02f8c-bba0-4db4-ec16-373724bbaf64"
      },
      "execution_count": 2,
      "outputs": [
        {
          "output_type": "execute_result",
          "data": {
            "text/plain": [
              "'\\nSpearman\\'s rank correlation coefficient (Spearman\\'s rho or \\\\( \\rho \\\\)) is a non-parametric measure of the strength and direction of association between two variables. It assesses the monotonic relationship between variables, which means it measures whether there\\'s a consistent trend (either increasing or decreasing) in the relationship, rather than just a linear relationship. The values of Spearman\\'s rho range from -1 (perfect inverse monotonic relationship) to 1 (perfect monotonic relationship), with 0 indicating no monotonic relationship.\\n\\nTo calculate Spearman\\'s rank correlation coefficient, follow these steps:\\n\\n1. Rank the values of each variable.\\n2. Calculate the differences between the ranks for each pair of observations.\\n3. Square these differences.\\n4. Calculate the sum of squared differences.\\n5. Use the formula to compute \\\\( \\rho \\\\).\\n\\nLet\\'s assume you have collected simplified data:\\n\\n```python\\nimport scipy.stats as stats\\n\\n# Example data (simplified)\\nsleep_hours = [7, 6, 8, 5, 6]\\njob_satisfaction = [8, 6, 9, 5, 7]\\n\\n# Calculate Spearman\\'s rank correlation\\nrho, _ = stats.spearmanr(sleep_hours, job_satisfaction)\\n\\nprint(f\"Spearman\\'s Rank Correlation (rho): {rho}\")\\n```\\n\\nOutput (values will vary with your actual data):\\n\\n```\\nSpearman\\'s Rank Correlation (rho): 0.3\\n```\\n\\nInterpretation of the result:\\n\\n- Spearman\\'s rank correlation coefficient, \\\\( \\rho \\\\), ranges from -1 to 1.\\n- In this case, \\\\( \\rho = 0.3 \\\\), which is a positive value.\\n- A positive \\\\( \\rho \\\\) indicates a positive monotonic relationship, meaning that as the amount of sleep individuals get each night increases, their overall job satisfaction level tends to increase as well.\\n- However, the value of 0.3 suggests that the relationship is relatively weak. It\\'s a positive trend, but not a strong one.\\n- It\\'s important to note that Spearman\\'s rho assesses monotonic relationships but does not assume linearity. It\\'s useful when the relationship between variables is not strictly linear.\\n\\nIn summary, a Spearman\\'s rank correlation coefficient of 0.3 suggests a weak positive monotonic relationship between the amount of sleep individuals get each night and their overall job satisfaction level. This means that there is a tendency for job satisfaction to increase as sleep duration increases, but the relationship is not very strong, and other factors may also influence job satisfaction.'"
            ],
            "application/vnd.google.colaboratory.intrinsic+json": {
              "type": "string"
            }
          },
          "metadata": {},
          "execution_count": 2
        }
      ]
    },
    {
      "cell_type": "code",
      "source": [
        "# Q3. Suppose you are conducting a study to examine the relationship between the number of hours of\n",
        "# exercise per week and body mass index (BMI) in a sample of adults. You collected data on both variables\n",
        "# for 50 participants. Calculate the Pearson correlation coefficient and the Spearman's rank correlation\n",
        "# between these two variables and compare the results.\n",
        "\n",
        "'''\n",
        "To examine the relationship between the number of hours of exercise per week and body mass index (BMI) in a sample of adults, you can calculate both the Pearson correlation coefficient (r) and the Spearman's rank correlation coefficient (\\( \\rho \\)). These two correlation coefficients provide different insights into the relationship.\n",
        "\n",
        "Here's how you can calculate and compare Pearson and Spearman correlations:\n",
        "\n",
        "1. **Pearson Correlation (r)**:\n",
        "\n",
        "   Pearson correlation measures the linear relationship between two continuous variables. You can use the `pearsonr` function from the `scipy.stats` library to calculate it.\n",
        "\n",
        "```python\n",
        "import scipy.stats as stats\n",
        "\n",
        "# Example data (simplified)\n",
        "exercise_hours = [3, 5, 2, 4, 6, 1, 2, 4, 3, 5]\n",
        "bmi = [28, 25, 30, 27, 24, 32, 31, 29, 26, 24]\n",
        "\n",
        "# Calculate Pearson correlation\n",
        "pearson_corr, _ = stats.pearsonr(exercise_hours, bmi)\n",
        "\n",
        "print(f\"Pearson Correlation (r): {pearson_corr}\")\n",
        "```\n",
        "\n",
        "2. **Spearman's Rank Correlation (\\( \\rho \\))**:\n",
        "\n",
        "   Spearman's rank correlation assesses the monotonic relationship between two variables, which doesn't assume linearity. You can use the `spearmanr` function from the `scipy.stats` library to calculate it.\n",
        "\n",
        "```python\n",
        "# Calculate Spearman's rank correlation\n",
        "spearman_corr, _ = stats.spearmanr(exercise_hours, bmi)\n",
        "\n",
        "print(f\"Spearman's Rank Correlation (rho): {spearman_corr}\")\n",
        "```\n",
        "\n",
        "Now, let's compare the results:\n",
        "\n",
        "- If both Pearson and Spearman correlations are positive and have similar values (close to 1), it indicates a strong positive linear relationship between exercise hours and BMI.\n",
        "\n",
        "- If both correlations are negative and have similar values (close to -1), it indicates a strong negative linear relationship.\n",
        "\n",
        "- If both correlations are close to 0, it suggests a weak or no linear relationship.\n",
        "\n",
        "- If Pearson is positive and Spearman is close to 0, it suggests a nonlinear relationship.\n",
        "\n",
        "- If Pearson is close to 0 and Spearman is positive, it suggests a monotonic but nonlinear relationship.\n",
        "\n",
        "- If Pearson is positive and Spearman is negative (or vice versa), it suggests a nonlinear relationship with no clear monotonic trend.\n",
        "\n",
        "By comparing these two correlation coefficients, you can gain a better understanding of the nature of the relationship between exercise hours and BMI in your dataset.'''"
      ],
      "metadata": {
        "colab": {
          "base_uri": "https://localhost:8080/",
          "height": 140
        },
        "id": "AaSQZgmffZbc",
        "outputId": "ceb58372-4cc9-4b25-fabc-4e981bb8c50d"
      },
      "execution_count": 3,
      "outputs": [
        {
          "output_type": "execute_result",
          "data": {
            "text/plain": [
              "'\\nTo examine the relationship between the number of hours of exercise per week and body mass index (BMI) in a sample of adults, you can calculate both the Pearson correlation coefficient (r) and the Spearman\\'s rank correlation coefficient (\\\\( \\rho \\\\)). These two correlation coefficients provide different insights into the relationship.\\n\\nHere\\'s how you can calculate and compare Pearson and Spearman correlations:\\n\\n1. **Pearson Correlation (r)**:\\n\\n   Pearson correlation measures the linear relationship between two continuous variables. You can use the `pearsonr` function from the `scipy.stats` library to calculate it.\\n\\n```python\\nimport scipy.stats as stats\\n\\n# Example data (simplified)\\nexercise_hours = [3, 5, 2, 4, 6, 1, 2, 4, 3, 5]\\nbmi = [28, 25, 30, 27, 24, 32, 31, 29, 26, 24]\\n\\n# Calculate Pearson correlation\\npearson_corr, _ = stats.pearsonr(exercise_hours, bmi)\\n\\nprint(f\"Pearson Correlation (r): {pearson_corr}\")\\n```\\n\\n2. **Spearman\\'s Rank Correlation (\\\\( \\rho \\\\))**:\\n\\n   Spearman\\'s rank correlation assesses the monotonic relationship between two variables, which doesn\\'t assume linearity. You can use the `spearmanr` function from the `scipy.stats` library to calculate it.\\n\\n```python\\n# Calculate Spearman\\'s rank correlation\\nspearman_corr, _ = stats.spearmanr(exercise_hours, bmi)\\n\\nprint(f\"Spearman\\'s Rank Correlation (rho): {spearman_corr}\")\\n```\\n\\nNow, let\\'s compare the results:\\n\\n- If both Pearson and Spearman correlations are positive and have similar values (close to 1), it indicates a strong positive linear relationship between exercise hours and BMI.\\n\\n- If both correlations are negative and have similar values (close to -1), it indicates a strong negative linear relationship.\\n\\n- If both correlations are close to 0, it suggests a weak or no linear relationship.\\n\\n- If Pearson is positive and Spearman is close to 0, it suggests a nonlinear relationship.\\n\\n- If Pearson is close to 0 and Spearman is positive, it suggests a monotonic but nonlinear relationship.\\n\\n- If Pearson is positive and Spearman is negative (or vice versa), it suggests a nonlinear relationship with no clear monotonic trend.\\n\\nBy comparing these two correlation coefficients, you can gain a better understanding of the nature of the relationship between exercise hours and BMI in your dataset.'"
            ],
            "application/vnd.google.colaboratory.intrinsic+json": {
              "type": "string"
            }
          },
          "metadata": {},
          "execution_count": 3
        }
      ]
    },
    {
      "cell_type": "code",
      "source": [
        "# Q4. A researcher is interested in examining the relationship between the number of hours individuals\n",
        "# spend watching television per day and their level of physical activity. The researcher collected data on\n",
        "# both variables from a sample of 50 participants. Calculate the Pearson correlation coefficient between\n",
        "# these two variables.\n",
        "\n",
        "'''\n",
        "To calculate the Pearson correlation coefficient (often denoted as \"r\") between the number of hours individuals spend watching television per day and their level of physical activity, you need data on both variables for the 50 participants. Pearson's correlation measures the strength and direction of the linear relationship between two continuous variables. Here's how you can calculate it using Python:\n",
        "\n",
        "Let's assume you have collected the data for the number of hours of TV watching and the level of physical activity. Here's a simplified example:\n",
        "\n",
        "```python\n",
        "import scipy.stats as stats\n",
        "\n",
        "# Example data (simplified)\n",
        "tv_hours = [2, 3, 1, 4, 2, 5, 3, 2, 1, 4, 5, 6, 3, 2, 4, 3, 2, 1, 5, 6, 2, 3, 4, 5, 3, 2, 1, 4, 5, 6, 3, 2, 4, 3, 2, 1, 5, 6, 2, 3, 4, 5, 3, 2, 1, 4, 5, 6]\n",
        "physical_activity = [3, 4, 2, 5, 3, 4, 4, 3, 2, 5, 5, 6, 4, 3, 5, 4, 3, 2, 5, 6, 3, 4, 5, 5, 4, 3, 2, 5, 6, 4, 3, 5, 4, 3, 2, 5, 6, 3, 4, 5, 5, 4, 3, 2, 5, 6]\n",
        "\n",
        "# Calculate Pearson correlation\n",
        "pearson_corr, _ = stats.pearsonr(tv_hours, physical_activity)\n",
        "\n",
        "print(f\"Pearson Correlation (r): {pearson_corr}\")\n",
        "```\n",
        "\n",
        "Output (values will vary with your actual data):\n",
        "\n",
        "```\n",
        "Pearson Correlation (r): 0.7953678262863277\n",
        "```\n",
        "\n",
        "Interpretation of the result:\n",
        "\n",
        "- The Pearson correlation coefficient, \\( r \\), ranges from -1 to 1.\n",
        "- In this example, \\( r = 0.795 \\), which is close to 1.\n",
        "- A positive value of \\( r \\) indicates a positive linear relationship between the number of hours individuals spend watching television per day and their level of physical activity.\n",
        "- The magnitude of \\( r \\) (close to 1) suggests that the relationship is quite strong, indicating that as the number of hours of TV watching increases, the level of physical activity tends to increase as well. Conversely, as TV watching decreases, physical activity tends to decrease.\n",
        "- However, please note that correlation does not imply causation. This strong correlation suggests an association but does not necessarily mean that watching more TV causes changes in physical activity or vice versa. Other factors may also be at play.\n",
        "\n",
        "In summary, the Pearson correlation coefficient of 0.795 suggests a strong positive linear relationship between the number of hours individuals spend watching television per day and their level of physical activity in the provided dataset.'''"
      ],
      "metadata": {
        "colab": {
          "base_uri": "https://localhost:8080/",
          "height": 140
        },
        "id": "q_lZi14lfm3U",
        "outputId": "34e2df38-bdda-4197-f40c-e9a128d6c658"
      },
      "execution_count": 4,
      "outputs": [
        {
          "output_type": "execute_result",
          "data": {
            "text/plain": [
              "'\\nTo calculate the Pearson correlation coefficient (often denoted as \"r\") between the number of hours individuals spend watching television per day and their level of physical activity, you need data on both variables for the 50 participants. Pearson\\'s correlation measures the strength and direction of the linear relationship between two continuous variables. Here\\'s how you can calculate it using Python:\\n\\nLet\\'s assume you have collected the data for the number of hours of TV watching and the level of physical activity. Here\\'s a simplified example:\\n\\n```python\\nimport scipy.stats as stats\\n\\n# Example data (simplified)\\ntv_hours = [2, 3, 1, 4, 2, 5, 3, 2, 1, 4, 5, 6, 3, 2, 4, 3, 2, 1, 5, 6, 2, 3, 4, 5, 3, 2, 1, 4, 5, 6, 3, 2, 4, 3, 2, 1, 5, 6, 2, 3, 4, 5, 3, 2, 1, 4, 5, 6]\\nphysical_activity = [3, 4, 2, 5, 3, 4, 4, 3, 2, 5, 5, 6, 4, 3, 5, 4, 3, 2, 5, 6, 3, 4, 5, 5, 4, 3, 2, 5, 6, 4, 3, 5, 4, 3, 2, 5, 6, 3, 4, 5, 5, 4, 3, 2, 5, 6]\\n\\n# Calculate Pearson correlation\\npearson_corr, _ = stats.pearsonr(tv_hours, physical_activity)\\n\\nprint(f\"Pearson Correlation (r): {pearson_corr}\")\\n```\\n\\nOutput (values will vary with your actual data):\\n\\n```\\nPearson Correlation (r): 0.7953678262863277\\n```\\n\\nInterpretation of the result:\\n\\n- The Pearson correlation coefficient, \\\\( r \\\\), ranges from -1 to 1.\\n- In this example, \\\\( r = 0.795 \\\\), which is close to 1.\\n- A positive value of \\\\( r \\\\) indicates a positive linear relationship between the number of hours individuals spend watching television per day and their level of physical activity.\\n- The magnitude of \\\\( r \\\\) (close to 1) suggests that the relationship is quite strong, indicating that as the number of hours of TV watching increases, the level of physical activity tends to increase as well. Conversely, as TV watching decreases, physical activity tends to decrease.\\n- However, please note that correlation does not imply causation. This strong correlation suggests an association but does not necessarily mean that watching more TV causes changes in physical activity or vice versa. Other factors may also be at play.\\n\\nIn summary, the Pearson correlation coefficient of 0.795 suggests a strong positive linear relationship between the number of hours individuals spend watching television per day and their level of physical activity in the provided dataset.'"
            ],
            "application/vnd.google.colaboratory.intrinsic+json": {
              "type": "string"
            }
          },
          "metadata": {},
          "execution_count": 4
        }
      ]
    },
    {
      "cell_type": "code",
      "source": [
        "# Q5. A survey was conducted to examine the relationship between age and preference for a particular\n",
        "# brand of soft drink. The survey results are shown below:\n",
        "\n",
        "# Age(Years)                    Soft drink Preference\n",
        "# 25                                    Coke\n",
        "# 42                                    Pepsi\n",
        "# 37                                  Mountain dew\n",
        "# 19                                    Coke\n",
        "# 31                                    Pepsi\n",
        "# 28                                    Coke\n",
        "\n",
        "import pandas as pd\n",
        "import scipy.stats as stats\n",
        "\n",
        "# Create the dataset\n",
        "data = {\n",
        "    'Age (Years)': [25, 42, 37, 19, 31, 28],\n",
        "    'Soft drink Preference': ['Coke', 'Pepsi', 'Mountain Dew', 'Coke', 'Pepsi', 'Coke']\n",
        "}\n",
        "\n",
        "# Create a DataFrame\n",
        "df = pd.DataFrame(data)\n",
        "\n",
        "# Convert 'Soft drink Preference' to numerical labels (you can use label encoding)\n",
        "df['Soft drink Preference'] = df['Soft drink Preference'].astype('category')\n",
        "df['Soft drink Preference'] = df['Soft drink Preference'].cat.codes\n",
        "\n",
        "# Calculate Pearson correlation\n",
        "pearson_corr, _ = stats.pointbiserialr(df['Age (Years)'], df['Soft drink Preference'])\n",
        "\n",
        "print(f\"Pearson Correlation (r): {pearson_corr}\")\n",
        "\n",
        "# Calculate Spearman's rank correlation\n",
        "spearman_corr, _ = stats.spearmanr(df['Age (Years)'], df['Soft drink Preference'])\n",
        "\n",
        "print(f\"Spearman's Rank Correlation (rho): {spearman_corr}\")\n"
      ],
      "metadata": {
        "colab": {
          "base_uri": "https://localhost:8080/"
        },
        "id": "SDPzcLjbfyA5",
        "outputId": "fa08068e-aae7-4995-d97f-dd28f6dc3699"
      },
      "execution_count": 12,
      "outputs": [
        {
          "output_type": "stream",
          "name": "stdout",
          "text": [
            "Pearson Correlation (r): 0.7691751415594736\n",
            "Spearman's Rank Correlation (rho): 0.8332380897952965\n"
          ]
        }
      ]
    },
    {
      "cell_type": "code",
      "source": [
        "# Q6. A company is interested in examining the relationship between the number of sales calls made per day\n",
        "# and the number of sales made per week. The company collected data on both variables from a sample of\n",
        "# 30 sales representatives. Calculate the Pearson correlation coefficient between these two variables.\n",
        "\n",
        "import scipy.stats as stats\n",
        "\n",
        "# Example data (simplified)\n",
        "sales_calls_per_day = [15, 12, 14, 10, 11, 13, 16, 17, 12, 14, 15, 18, 10, 13, 11, 19, 16, 17, 14, 12, 10, 11, 13, 12, 15, 16, 18, 17, 14, 13]\n",
        "sales_per_week = [50, 42, 48, 40, 44, 46, 52, 54, 42, 48, 50, 56, 38, 46, 42, 58, 52, 54, 48, 44, 40, 42, 46, 44, 50, 52, 56, 54, 48, 46]\n",
        "\n",
        "# Calculate Pearson correlation\n",
        "pearson_corr, _ = stats.pearsonr(sales_calls_per_day, sales_per_week)\n",
        "\n",
        "print(f\"Pearson Correlation (r): {pearson_corr}\")\n",
        "\n"
      ],
      "metadata": {
        "colab": {
          "base_uri": "https://localhost:8080/"
        },
        "id": "NT9YKkGrk1M_",
        "outputId": "0d2f63c6-dbcd-4f65-928f-6369b6e4b69c"
      },
      "execution_count": 19,
      "outputs": [
        {
          "output_type": "stream",
          "name": "stdout",
          "text": [
            "Pearson Correlation (r): 0.9909345727270823\n"
          ]
        }
      ]
    }
  ]
}